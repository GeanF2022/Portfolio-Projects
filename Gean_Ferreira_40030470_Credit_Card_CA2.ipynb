{
 "cells": [
  {
   "cell_type": "markdown",
   "id": "81263849",
   "metadata": {},
   "source": [
    "# QUESTION 5"
   ]
  },
  {
   "cell_type": "markdown",
   "id": "60c5245f",
   "metadata": {},
   "source": [
    "## Install the Required Package¶"
   ]
  },
  {
   "cell_type": "code",
   "execution_count": 4,
   "id": "d4dee3d2",
   "metadata": {},
   "outputs": [],
   "source": [
    "from sklearn.impute import SimpleImputer\n",
    "\n",
    "import pandas as pd \n",
    "import numpy as np\n",
    "\n",
    "import seaborn as sns\n",
    "\n",
    "import matplotlib.pyplot as plt\n",
    "import sklearn.linear_model\n",
    "\n",
    "from sklearn.preprocessing import LabelEncoder\n",
    "from sklearn.preprocessing import OneHotEncoder\n",
    "from sklearn.preprocessing import OrdinalEncoder\n",
    "from sklearn.model_selection import train_test_split\n",
    "from sklearn.linear_model import LogisticRegression\n",
    "from sklearn.tree import DecisionTreeClassifier\n",
    "from sklearn.metrics import accuracy_score\n",
    "from sklearn.tree import export_graphviz\n",
    "from sklearn.metrics import classification_report\n",
    "from sklearn.metrics import mean_squared_error, r2_score\n",
    "from sklearn.tree import DecisionTreeRegressor\n",
    "from sklearn.linear_model import LinearRegression"
   ]
  },
  {
   "cell_type": "markdown",
   "id": "d871d99d",
   "metadata": {},
   "source": [
    "## Problem identification"
   ]
  },
  {
   "cell_type": "markdown",
   "id": "9a0afbbe",
   "metadata": {},
   "source": [
    "# Each row in credit.csv corresponds to a credit card customer information. A credit card company wants to create a regression model using this data to determine customers' credit card limits. "
   ]
  },
  {
   "cell_type": "markdown",
   "id": "598dc204",
   "metadata": {},
   "source": [
    "### To create a suitable model, use simple, multiple, and decision tree regression techniques.  "
   ]
  },
  {
   "cell_type": "markdown",
   "id": "de15097b",
   "metadata": {},
   "source": [
    "## Features Description\n",
    "\n",
    "\n",
    "1.\tIncome\t\n",
    "2.\tLimit\t\n",
    "3.\tRating\t\n",
    "4.\tCards\t\n",
    "5.\tAge\t\n",
    "6.\tEducation\t\n",
    "7.\tGender\t\n",
    "8.\tStudent\t\n",
    "9.\tMarried\t\n",
    "10.\tEthnicity\t\n",
    "11.\tBalance\n"
   ]
  },
  {
   "cell_type": "markdown",
   "id": "f47a8bc3",
   "metadata": {},
   "source": [
    "# "
   ]
  },
  {
   "cell_type": "markdown",
   "id": "15362635",
   "metadata": {},
   "source": [
    "# Import the dataset"
   ]
  },
  {
   "cell_type": "markdown",
   "id": "f8925a19",
   "metadata": {},
   "source": [
    "## 3 Data Understanding"
   ]
  },
  {
   "cell_type": "markdown",
   "id": "8bcd47b7",
   "metadata": {},
   "source": [
    "## 3.1 Gathering the data"
   ]
  },
  {
   "cell_type": "code",
   "execution_count": 6,
   "id": "91d085e3",
   "metadata": {},
   "outputs": [],
   "source": [
    "df = pd.read_csv('credit_dataset.csv')"
   ]
  },
  {
   "cell_type": "code",
   "execution_count": 7,
   "id": "4335b272",
   "metadata": {},
   "outputs": [
    {
     "data": {
      "text/html": [
       "<div>\n",
       "<style scoped>\n",
       "    .dataframe tbody tr th:only-of-type {\n",
       "        vertical-align: middle;\n",
       "    }\n",
       "\n",
       "    .dataframe tbody tr th {\n",
       "        vertical-align: top;\n",
       "    }\n",
       "\n",
       "    .dataframe thead th {\n",
       "        text-align: right;\n",
       "    }\n",
       "</style>\n",
       "<table border=\"1\" class=\"dataframe\">\n",
       "  <thead>\n",
       "    <tr style=\"text-align: right;\">\n",
       "      <th></th>\n",
       "      <th>Income</th>\n",
       "      <th>Limit</th>\n",
       "      <th>Rating</th>\n",
       "      <th>Cards</th>\n",
       "      <th>Age</th>\n",
       "      <th>Education</th>\n",
       "      <th>Gender</th>\n",
       "      <th>Student</th>\n",
       "      <th>Married</th>\n",
       "      <th>Ethnicity</th>\n",
       "      <th>Balance</th>\n",
       "    </tr>\n",
       "  </thead>\n",
       "  <tbody>\n",
       "    <tr>\n",
       "      <th>0</th>\n",
       "      <td>14.891</td>\n",
       "      <td>3606</td>\n",
       "      <td>283</td>\n",
       "      <td>2</td>\n",
       "      <td>34</td>\n",
       "      <td>11</td>\n",
       "      <td>Male</td>\n",
       "      <td>No</td>\n",
       "      <td>Yes</td>\n",
       "      <td>Caucasian</td>\n",
       "      <td>333</td>\n",
       "    </tr>\n",
       "    <tr>\n",
       "      <th>1</th>\n",
       "      <td>106.025</td>\n",
       "      <td>6645</td>\n",
       "      <td>483</td>\n",
       "      <td>3</td>\n",
       "      <td>82</td>\n",
       "      <td>15</td>\n",
       "      <td>Female</td>\n",
       "      <td>Yes</td>\n",
       "      <td>Yes</td>\n",
       "      <td>Asian</td>\n",
       "      <td>903</td>\n",
       "    </tr>\n",
       "    <tr>\n",
       "      <th>2</th>\n",
       "      <td>104.593</td>\n",
       "      <td>7075</td>\n",
       "      <td>514</td>\n",
       "      <td>4</td>\n",
       "      <td>71</td>\n",
       "      <td>11</td>\n",
       "      <td>Male</td>\n",
       "      <td>No</td>\n",
       "      <td>No</td>\n",
       "      <td>Asian</td>\n",
       "      <td>580</td>\n",
       "    </tr>\n",
       "    <tr>\n",
       "      <th>3</th>\n",
       "      <td>148.924</td>\n",
       "      <td>9504</td>\n",
       "      <td>681</td>\n",
       "      <td>3</td>\n",
       "      <td>36</td>\n",
       "      <td>11</td>\n",
       "      <td>Female</td>\n",
       "      <td>No</td>\n",
       "      <td>No</td>\n",
       "      <td>Asian</td>\n",
       "      <td>964</td>\n",
       "    </tr>\n",
       "    <tr>\n",
       "      <th>4</th>\n",
       "      <td>55.882</td>\n",
       "      <td>4897</td>\n",
       "      <td>357</td>\n",
       "      <td>2</td>\n",
       "      <td>68</td>\n",
       "      <td>16</td>\n",
       "      <td>Male</td>\n",
       "      <td>No</td>\n",
       "      <td>Yes</td>\n",
       "      <td>Caucasian</td>\n",
       "      <td>331</td>\n",
       "    </tr>\n",
       "  </tbody>\n",
       "</table>\n",
       "</div>"
      ],
      "text/plain": [
       "    Income  Limit  Rating  Cards  Age  Education  Gender Student Married  \\\n",
       "0   14.891   3606     283      2   34         11    Male      No     Yes   \n",
       "1  106.025   6645     483      3   82         15  Female     Yes     Yes   \n",
       "2  104.593   7075     514      4   71         11    Male      No      No   \n",
       "3  148.924   9504     681      3   36         11  Female      No      No   \n",
       "4   55.882   4897     357      2   68         16    Male      No     Yes   \n",
       "\n",
       "   Ethnicity  Balance  \n",
       "0  Caucasian      333  \n",
       "1      Asian      903  \n",
       "2      Asian      580  \n",
       "3      Asian      964  \n",
       "4  Caucasian      331  "
      ]
     },
     "execution_count": 7,
     "metadata": {},
     "output_type": "execute_result"
    }
   ],
   "source": [
    "df.head()"
   ]
  },
  {
   "cell_type": "code",
   "execution_count": 8,
   "id": "6383794c",
   "metadata": {},
   "outputs": [
    {
     "data": {
      "text/plain": [
       "(400, 11)"
      ]
     },
     "execution_count": 8,
     "metadata": {},
     "output_type": "execute_result"
    }
   ],
   "source": [
    "df.shape"
   ]
  },
  {
   "cell_type": "markdown",
   "id": "46e20375",
   "metadata": {},
   "source": [
    "## "
   ]
  },
  {
   "cell_type": "markdown",
   "id": "f601965c",
   "metadata": {},
   "source": [
    "## 3.2 Describing the data"
   ]
  },
  {
   "cell_type": "code",
   "execution_count": 9,
   "id": "93770cb1",
   "metadata": {},
   "outputs": [
    {
     "data": {
      "text/plain": [
       "Index(['Income', 'Limit', 'Rating', 'Cards', 'Age', 'Education', 'Gender',\n",
       "       'Student', 'Married', 'Ethnicity', 'Balance'],\n",
       "      dtype='object')"
      ]
     },
     "execution_count": 9,
     "metadata": {},
     "output_type": "execute_result"
    }
   ],
   "source": [
    "df.columns"
   ]
  },
  {
   "cell_type": "code",
   "execution_count": 10,
   "id": "1ced4e83",
   "metadata": {},
   "outputs": [
    {
     "name": "stdout",
     "output_type": "stream",
     "text": [
      "<class 'pandas.core.frame.DataFrame'>\n",
      "RangeIndex: 400 entries, 0 to 399\n",
      "Data columns (total 11 columns):\n",
      " #   Column     Non-Null Count  Dtype  \n",
      "---  ------     --------------  -----  \n",
      " 0   Income     400 non-null    float64\n",
      " 1   Limit      400 non-null    int64  \n",
      " 2   Rating     400 non-null    int64  \n",
      " 3   Cards      400 non-null    int64  \n",
      " 4   Age        400 non-null    int64  \n",
      " 5   Education  400 non-null    int64  \n",
      " 6   Gender     400 non-null    object \n",
      " 7   Student    400 non-null    object \n",
      " 8   Married    400 non-null    object \n",
      " 9   Ethnicity  400 non-null    object \n",
      " 10  Balance    400 non-null    int64  \n",
      "dtypes: float64(1), int64(6), object(4)\n",
      "memory usage: 34.5+ KB\n"
     ]
    }
   ],
   "source": [
    "df.info()"
   ]
  },
  {
   "cell_type": "markdown",
   "id": "18c99df7",
   "metadata": {},
   "source": [
    "## "
   ]
  },
  {
   "cell_type": "markdown",
   "id": "f968567b",
   "metadata": {},
   "source": [
    "# 3.3 Exploring the data"
   ]
  },
  {
   "cell_type": "code",
   "execution_count": 11,
   "id": "f1d7d103",
   "metadata": {},
   "outputs": [
    {
     "data": {
      "text/html": [
       "<div>\n",
       "<style scoped>\n",
       "    .dataframe tbody tr th:only-of-type {\n",
       "        vertical-align: middle;\n",
       "    }\n",
       "\n",
       "    .dataframe tbody tr th {\n",
       "        vertical-align: top;\n",
       "    }\n",
       "\n",
       "    .dataframe thead th {\n",
       "        text-align: right;\n",
       "    }\n",
       "</style>\n",
       "<table border=\"1\" class=\"dataframe\">\n",
       "  <thead>\n",
       "    <tr style=\"text-align: right;\">\n",
       "      <th></th>\n",
       "      <th>Income</th>\n",
       "      <th>Limit</th>\n",
       "      <th>Rating</th>\n",
       "      <th>Cards</th>\n",
       "      <th>Age</th>\n",
       "      <th>Education</th>\n",
       "      <th>Gender</th>\n",
       "      <th>Student</th>\n",
       "      <th>Married</th>\n",
       "      <th>Ethnicity</th>\n",
       "      <th>Balance</th>\n",
       "    </tr>\n",
       "  </thead>\n",
       "  <tbody>\n",
       "    <tr>\n",
       "      <th>count</th>\n",
       "      <td>400.000000</td>\n",
       "      <td>400.000000</td>\n",
       "      <td>400.000000</td>\n",
       "      <td>400.000000</td>\n",
       "      <td>400.000000</td>\n",
       "      <td>400.000000</td>\n",
       "      <td>400</td>\n",
       "      <td>400</td>\n",
       "      <td>400</td>\n",
       "      <td>400</td>\n",
       "      <td>400.000000</td>\n",
       "    </tr>\n",
       "    <tr>\n",
       "      <th>unique</th>\n",
       "      <td>NaN</td>\n",
       "      <td>NaN</td>\n",
       "      <td>NaN</td>\n",
       "      <td>NaN</td>\n",
       "      <td>NaN</td>\n",
       "      <td>NaN</td>\n",
       "      <td>2</td>\n",
       "      <td>2</td>\n",
       "      <td>2</td>\n",
       "      <td>3</td>\n",
       "      <td>NaN</td>\n",
       "    </tr>\n",
       "    <tr>\n",
       "      <th>top</th>\n",
       "      <td>NaN</td>\n",
       "      <td>NaN</td>\n",
       "      <td>NaN</td>\n",
       "      <td>NaN</td>\n",
       "      <td>NaN</td>\n",
       "      <td>NaN</td>\n",
       "      <td>Female</td>\n",
       "      <td>No</td>\n",
       "      <td>Yes</td>\n",
       "      <td>Caucasian</td>\n",
       "      <td>NaN</td>\n",
       "    </tr>\n",
       "    <tr>\n",
       "      <th>freq</th>\n",
       "      <td>NaN</td>\n",
       "      <td>NaN</td>\n",
       "      <td>NaN</td>\n",
       "      <td>NaN</td>\n",
       "      <td>NaN</td>\n",
       "      <td>NaN</td>\n",
       "      <td>207</td>\n",
       "      <td>360</td>\n",
       "      <td>245</td>\n",
       "      <td>199</td>\n",
       "      <td>NaN</td>\n",
       "    </tr>\n",
       "    <tr>\n",
       "      <th>mean</th>\n",
       "      <td>45.218885</td>\n",
       "      <td>4735.600000</td>\n",
       "      <td>354.940000</td>\n",
       "      <td>2.957500</td>\n",
       "      <td>55.667500</td>\n",
       "      <td>13.450000</td>\n",
       "      <td>NaN</td>\n",
       "      <td>NaN</td>\n",
       "      <td>NaN</td>\n",
       "      <td>NaN</td>\n",
       "      <td>520.015000</td>\n",
       "    </tr>\n",
       "    <tr>\n",
       "      <th>std</th>\n",
       "      <td>35.244273</td>\n",
       "      <td>2308.198848</td>\n",
       "      <td>154.724143</td>\n",
       "      <td>1.371275</td>\n",
       "      <td>17.249807</td>\n",
       "      <td>3.125207</td>\n",
       "      <td>NaN</td>\n",
       "      <td>NaN</td>\n",
       "      <td>NaN</td>\n",
       "      <td>NaN</td>\n",
       "      <td>459.758877</td>\n",
       "    </tr>\n",
       "    <tr>\n",
       "      <th>min</th>\n",
       "      <td>10.354000</td>\n",
       "      <td>855.000000</td>\n",
       "      <td>93.000000</td>\n",
       "      <td>1.000000</td>\n",
       "      <td>23.000000</td>\n",
       "      <td>5.000000</td>\n",
       "      <td>NaN</td>\n",
       "      <td>NaN</td>\n",
       "      <td>NaN</td>\n",
       "      <td>NaN</td>\n",
       "      <td>0.000000</td>\n",
       "    </tr>\n",
       "    <tr>\n",
       "      <th>25%</th>\n",
       "      <td>21.007250</td>\n",
       "      <td>3088.000000</td>\n",
       "      <td>247.250000</td>\n",
       "      <td>2.000000</td>\n",
       "      <td>41.750000</td>\n",
       "      <td>11.000000</td>\n",
       "      <td>NaN</td>\n",
       "      <td>NaN</td>\n",
       "      <td>NaN</td>\n",
       "      <td>NaN</td>\n",
       "      <td>68.750000</td>\n",
       "    </tr>\n",
       "    <tr>\n",
       "      <th>50%</th>\n",
       "      <td>33.115500</td>\n",
       "      <td>4622.500000</td>\n",
       "      <td>344.000000</td>\n",
       "      <td>3.000000</td>\n",
       "      <td>56.000000</td>\n",
       "      <td>14.000000</td>\n",
       "      <td>NaN</td>\n",
       "      <td>NaN</td>\n",
       "      <td>NaN</td>\n",
       "      <td>NaN</td>\n",
       "      <td>459.500000</td>\n",
       "    </tr>\n",
       "    <tr>\n",
       "      <th>75%</th>\n",
       "      <td>57.470750</td>\n",
       "      <td>5872.750000</td>\n",
       "      <td>437.250000</td>\n",
       "      <td>4.000000</td>\n",
       "      <td>70.000000</td>\n",
       "      <td>16.000000</td>\n",
       "      <td>NaN</td>\n",
       "      <td>NaN</td>\n",
       "      <td>NaN</td>\n",
       "      <td>NaN</td>\n",
       "      <td>863.000000</td>\n",
       "    </tr>\n",
       "    <tr>\n",
       "      <th>max</th>\n",
       "      <td>186.634000</td>\n",
       "      <td>13913.000000</td>\n",
       "      <td>982.000000</td>\n",
       "      <td>9.000000</td>\n",
       "      <td>98.000000</td>\n",
       "      <td>20.000000</td>\n",
       "      <td>NaN</td>\n",
       "      <td>NaN</td>\n",
       "      <td>NaN</td>\n",
       "      <td>NaN</td>\n",
       "      <td>1999.000000</td>\n",
       "    </tr>\n",
       "  </tbody>\n",
       "</table>\n",
       "</div>"
      ],
      "text/plain": [
       "            Income         Limit      Rating       Cards         Age  \\\n",
       "count   400.000000    400.000000  400.000000  400.000000  400.000000   \n",
       "unique         NaN           NaN         NaN         NaN         NaN   \n",
       "top            NaN           NaN         NaN         NaN         NaN   \n",
       "freq           NaN           NaN         NaN         NaN         NaN   \n",
       "mean     45.218885   4735.600000  354.940000    2.957500   55.667500   \n",
       "std      35.244273   2308.198848  154.724143    1.371275   17.249807   \n",
       "min      10.354000    855.000000   93.000000    1.000000   23.000000   \n",
       "25%      21.007250   3088.000000  247.250000    2.000000   41.750000   \n",
       "50%      33.115500   4622.500000  344.000000    3.000000   56.000000   \n",
       "75%      57.470750   5872.750000  437.250000    4.000000   70.000000   \n",
       "max     186.634000  13913.000000  982.000000    9.000000   98.000000   \n",
       "\n",
       "         Education  Gender Student Married  Ethnicity      Balance  \n",
       "count   400.000000     400     400     400        400   400.000000  \n",
       "unique         NaN       2       2       2          3          NaN  \n",
       "top            NaN  Female      No     Yes  Caucasian          NaN  \n",
       "freq           NaN     207     360     245        199          NaN  \n",
       "mean     13.450000     NaN     NaN     NaN        NaN   520.015000  \n",
       "std       3.125207     NaN     NaN     NaN        NaN   459.758877  \n",
       "min       5.000000     NaN     NaN     NaN        NaN     0.000000  \n",
       "25%      11.000000     NaN     NaN     NaN        NaN    68.750000  \n",
       "50%      14.000000     NaN     NaN     NaN        NaN   459.500000  \n",
       "75%      16.000000     NaN     NaN     NaN        NaN   863.000000  \n",
       "max      20.000000     NaN     NaN     NaN        NaN  1999.000000  "
      ]
     },
     "execution_count": 11,
     "metadata": {},
     "output_type": "execute_result"
    }
   ],
   "source": [
    "df.describe(include=\"all\")"
   ]
  },
  {
   "cell_type": "code",
   "execution_count": 12,
   "id": "0bbad192",
   "metadata": {},
   "outputs": [
    {
     "data": {
      "text/html": [
       "<div>\n",
       "<style scoped>\n",
       "    .dataframe tbody tr th:only-of-type {\n",
       "        vertical-align: middle;\n",
       "    }\n",
       "\n",
       "    .dataframe tbody tr th {\n",
       "        vertical-align: top;\n",
       "    }\n",
       "\n",
       "    .dataframe thead th {\n",
       "        text-align: right;\n",
       "    }\n",
       "</style>\n",
       "<table border=\"1\" class=\"dataframe\">\n",
       "  <thead>\n",
       "    <tr style=\"text-align: right;\">\n",
       "      <th></th>\n",
       "      <th>Income</th>\n",
       "      <th>Limit</th>\n",
       "      <th>Rating</th>\n",
       "      <th>Cards</th>\n",
       "      <th>Age</th>\n",
       "      <th>Education</th>\n",
       "      <th>Balance</th>\n",
       "    </tr>\n",
       "  </thead>\n",
       "  <tbody>\n",
       "    <tr>\n",
       "      <th>count</th>\n",
       "      <td>400.000000</td>\n",
       "      <td>400.000000</td>\n",
       "      <td>400.000000</td>\n",
       "      <td>400.000000</td>\n",
       "      <td>400.000000</td>\n",
       "      <td>400.000000</td>\n",
       "      <td>400.000000</td>\n",
       "    </tr>\n",
       "    <tr>\n",
       "      <th>mean</th>\n",
       "      <td>45.218885</td>\n",
       "      <td>4735.600000</td>\n",
       "      <td>354.940000</td>\n",
       "      <td>2.957500</td>\n",
       "      <td>55.667500</td>\n",
       "      <td>13.450000</td>\n",
       "      <td>520.015000</td>\n",
       "    </tr>\n",
       "    <tr>\n",
       "      <th>std</th>\n",
       "      <td>35.244273</td>\n",
       "      <td>2308.198848</td>\n",
       "      <td>154.724143</td>\n",
       "      <td>1.371275</td>\n",
       "      <td>17.249807</td>\n",
       "      <td>3.125207</td>\n",
       "      <td>459.758877</td>\n",
       "    </tr>\n",
       "    <tr>\n",
       "      <th>min</th>\n",
       "      <td>10.354000</td>\n",
       "      <td>855.000000</td>\n",
       "      <td>93.000000</td>\n",
       "      <td>1.000000</td>\n",
       "      <td>23.000000</td>\n",
       "      <td>5.000000</td>\n",
       "      <td>0.000000</td>\n",
       "    </tr>\n",
       "    <tr>\n",
       "      <th>25%</th>\n",
       "      <td>21.007250</td>\n",
       "      <td>3088.000000</td>\n",
       "      <td>247.250000</td>\n",
       "      <td>2.000000</td>\n",
       "      <td>41.750000</td>\n",
       "      <td>11.000000</td>\n",
       "      <td>68.750000</td>\n",
       "    </tr>\n",
       "    <tr>\n",
       "      <th>50%</th>\n",
       "      <td>33.115500</td>\n",
       "      <td>4622.500000</td>\n",
       "      <td>344.000000</td>\n",
       "      <td>3.000000</td>\n",
       "      <td>56.000000</td>\n",
       "      <td>14.000000</td>\n",
       "      <td>459.500000</td>\n",
       "    </tr>\n",
       "    <tr>\n",
       "      <th>75%</th>\n",
       "      <td>57.470750</td>\n",
       "      <td>5872.750000</td>\n",
       "      <td>437.250000</td>\n",
       "      <td>4.000000</td>\n",
       "      <td>70.000000</td>\n",
       "      <td>16.000000</td>\n",
       "      <td>863.000000</td>\n",
       "    </tr>\n",
       "    <tr>\n",
       "      <th>max</th>\n",
       "      <td>186.634000</td>\n",
       "      <td>13913.000000</td>\n",
       "      <td>982.000000</td>\n",
       "      <td>9.000000</td>\n",
       "      <td>98.000000</td>\n",
       "      <td>20.000000</td>\n",
       "      <td>1999.000000</td>\n",
       "    </tr>\n",
       "  </tbody>\n",
       "</table>\n",
       "</div>"
      ],
      "text/plain": [
       "           Income         Limit      Rating       Cards         Age  \\\n",
       "count  400.000000    400.000000  400.000000  400.000000  400.000000   \n",
       "mean    45.218885   4735.600000  354.940000    2.957500   55.667500   \n",
       "std     35.244273   2308.198848  154.724143    1.371275   17.249807   \n",
       "min     10.354000    855.000000   93.000000    1.000000   23.000000   \n",
       "25%     21.007250   3088.000000  247.250000    2.000000   41.750000   \n",
       "50%     33.115500   4622.500000  344.000000    3.000000   56.000000   \n",
       "75%     57.470750   5872.750000  437.250000    4.000000   70.000000   \n",
       "max    186.634000  13913.000000  982.000000    9.000000   98.000000   \n",
       "\n",
       "        Education      Balance  \n",
       "count  400.000000   400.000000  \n",
       "mean    13.450000   520.015000  \n",
       "std      3.125207   459.758877  \n",
       "min      5.000000     0.000000  \n",
       "25%     11.000000    68.750000  \n",
       "50%     14.000000   459.500000  \n",
       "75%     16.000000   863.000000  \n",
       "max     20.000000  1999.000000  "
      ]
     },
     "execution_count": 12,
     "metadata": {},
     "output_type": "execute_result"
    }
   ],
   "source": [
    "df.describe()"
   ]
  },
  {
   "cell_type": "code",
   "execution_count": 13,
   "id": "78e5d0ff",
   "metadata": {},
   "outputs": [],
   "source": [
    "gender_counts = df['Gender'].value_counts()"
   ]
  },
  {
   "cell_type": "code",
   "execution_count": 14,
   "id": "8dabb20e",
   "metadata": {},
   "outputs": [
    {
     "data": {
      "text/plain": [
       "Female    207\n",
       "Male      193\n",
       "Name: Gender, dtype: int64"
      ]
     },
     "execution_count": 14,
     "metadata": {},
     "output_type": "execute_result"
    }
   ],
   "source": [
    "gender_counts"
   ]
  },
  {
   "cell_type": "code",
   "execution_count": 15,
   "id": "85674436",
   "metadata": {},
   "outputs": [
    {
     "data": {
      "text/plain": [
       "No     360\n",
       "Yes     40\n",
       "Name: Student, dtype: int64"
      ]
     },
     "execution_count": 15,
     "metadata": {},
     "output_type": "execute_result"
    }
   ],
   "source": [
    "student_counts = df['Student'].value_counts()\n",
    "student_counts"
   ]
  },
  {
   "cell_type": "code",
   "execution_count": 16,
   "id": "33350e9f",
   "metadata": {},
   "outputs": [
    {
     "data": {
      "text/plain": [
       "Yes    245\n",
       "No     155\n",
       "Name: Married, dtype: int64"
      ]
     },
     "execution_count": 16,
     "metadata": {},
     "output_type": "execute_result"
    }
   ],
   "source": [
    "married_counts = df['Married'].value_counts()\n",
    "married_counts"
   ]
  },
  {
   "cell_type": "code",
   "execution_count": 17,
   "id": "aaa967f7",
   "metadata": {},
   "outputs": [
    {
     "data": {
      "text/plain": [
       "Caucasian           199\n",
       "Asian               102\n",
       "African American     99\n",
       "Name: Ethnicity, dtype: int64"
      ]
     },
     "execution_count": 17,
     "metadata": {},
     "output_type": "execute_result"
    }
   ],
   "source": [
    "ethnicity_counts = df['Ethnicity'].value_counts()\n",
    "ethnicity_counts"
   ]
  },
  {
   "cell_type": "code",
   "execution_count": 18,
   "id": "edf72cc4",
   "metadata": {},
   "outputs": [
    {
     "data": {
      "text/plain": [
       "array([[<AxesSubplot:title={'center':'Income'}>,\n",
       "        <AxesSubplot:title={'center':'Limit'}>,\n",
       "        <AxesSubplot:title={'center':'Rating'}>],\n",
       "       [<AxesSubplot:title={'center':'Cards'}>,\n",
       "        <AxesSubplot:title={'center':'Age'}>,\n",
       "        <AxesSubplot:title={'center':'Education'}>],\n",
       "       [<AxesSubplot:title={'center':'Balance'}>, <AxesSubplot:>,\n",
       "        <AxesSubplot:>]], dtype=object)"
      ]
     },
     "execution_count": 18,
     "metadata": {},
     "output_type": "execute_result"
    },
    {
     "data": {
      "image/png": "[encoded data removed]",
      "text/plain": [
       "<Figure size 1440x1080 with 9 Axes>"
      ]
     },
     "metadata": {
      "needs_background": "light"
     },
     "output_type": "display_data"
    }
   ],
   "source": [
    "df.hist(bins=10, figsize=(20,15))"
   ]
  },
  {
   "cell_type": "code",
   "execution_count": 49,
   "id": "f744f04e",
   "metadata": {},
   "outputs": [
    {
     "name": "stderr",
     "output_type": "stream",
     "text": [
      "C:\\Users\\Meire\\AppData\\Local\\Temp\\ipykernel_9996\\1665899112.py:1: FutureWarning: Dropping of nuisance columns in DataFrame reductions (with 'numeric_only=None') is deprecated; in a future version this will raise TypeError.  Select only valid columns before calling the reduction.\n",
      "  df.skew()\n"
     ]
    },
    {
     "data": {
      "text/plain": [
       "Income       1.742117\n",
       "Limit        0.837493\n",
       "Rating       0.865394\n",
       "Cards        0.791928\n",
       "Age          0.011496\n",
       "Education   -0.329212\n",
       "Balance      0.584595\n",
       "dtype: float64"
      ]
     },
     "execution_count": 49,
     "metadata": {},
     "output_type": "execute_result"
    }
   ],
   "source": [
    "df.skew()"
   ]
  },
  {
   "cell_type": "markdown",
   "id": "c254e6bb",
   "metadata": {},
   "source": [
    "Skewness > 0 is positively skewed we have more lower values for that data\n",
    "\n",
    "Skewness = 0 is our data is symmetric\n",
    "\n",
    "Skewness < 0 is negatively skewed which means more high values"
   ]
  },
  {
   "cell_type": "code",
   "execution_count": 51,
   "id": "99e5386c",
   "metadata": {},
   "outputs": [
    {
     "data": {
      "image/png": "[encoded data removed]",
      "text/plain": [
       "<Figure size 1080x576 with 8 Axes>"
      ]
     },
     "metadata": {
      "needs_background": "light"
     },
     "output_type": "display_data"
    }
   ],
   "source": [
    "fig, ax = plt.subplots(nrows=2,ncols=4, figsize=(15,8), constrained_layout=True)\n",
    "plt.suptitle(\"Features boxplots\")\n",
    "ax=ax.flatten()\n",
    "int_cols= df.select_dtypes(exclude='object').columns\n",
    "for x, i in enumerate(int_cols):\n",
    "    sns.boxplot(x=df[i], ax=ax[x], color='#51A2DB')"
   ]
  },
  {
   "cell_type": "markdown",
   "id": "f8c1872d",
   "metadata": {},
   "source": [
    "## Visualising the Unique Values"
   ]
  },
  {
   "cell_type": "code",
   "execution_count": 15,
   "id": "8cb64be5",
   "metadata": {},
   "outputs": [
    {
     "data": {
      "image/png": "[encoded data removed]",
      "text/plain": [
       "<Figure size 432x288 with 1 Axes>"
      ]
     },
     "metadata": {
      "needs_background": "light"
     },
     "output_type": "display_data"
    }
   ],
   "source": [
    "\n",
    "\n",
    "\n",
    "\n",
    "\n",
    "plt = sns.countplot(x='Ethnicity', data=df);"
   ]
  },
  {
   "cell_type": "code",
   "execution_count": 16,
   "id": "750233ee",
   "metadata": {},
   "outputs": [
    {
     "data": {
      "image/png": "[encoded data removed]",
      "text/plain": [
       "<Figure size 432x288 with 1 Axes>"
      ]
     },
     "metadata": {
      "needs_background": "light"
     },
     "output_type": "display_data"
    }
   ],
   "source": [
    "plt = sns.countplot(x='Education', data=df);"
   ]
  },
  {
   "cell_type": "code",
   "execution_count": 17,
   "id": "260478cf",
   "metadata": {},
   "outputs": [
    {
     "data": {
      "image/png": "[encoded data removed]",
      "text/plain": [
       "<Figure size 432x288 with 1 Axes>"
      ]
     },
     "metadata": {
      "needs_background": "light"
     },
     "output_type": "display_data"
    }
   ],
   "source": [
    "plt = sns.countplot(x='Student', data=df);"
   ]
  },
  {
   "cell_type": "code",
   "execution_count": 18,
   "id": "6848ce66",
   "metadata": {},
   "outputs": [
    {
     "data": {
      "image/png": "[encoded data removed]",
      "text/plain": [
       "<Figure size 432x288 with 1 Axes>"
      ]
     },
     "metadata": {
      "needs_background": "light"
     },
     "output_type": "display_data"
    }
   ],
   "source": [
    "plt = sns.countplot(x='Married', data=df);"
   ]
  },
  {
   "cell_type": "code",
   "execution_count": 19,
   "id": "c1a45f01",
   "metadata": {},
   "outputs": [
    {
     "data": {
      "image/png": "[encoded data removed]",
      "text/plain": [
       "<Figure size 432x288 with 1 Axes>"
      ]
     },
     "metadata": {
      "needs_background": "light"
     },
     "output_type": "display_data"
    }
   ],
   "source": [
    "plt = sns.countplot(x='Gender', data=df);"
   ]
  },
  {
   "cell_type": "code",
   "execution_count": 20,
   "id": "7e682d6c",
   "metadata": {},
   "outputs": [
    {
     "data": {
      "text/html": [
       "<div>\n",
       "<style scoped>\n",
       "    .dataframe tbody tr th:only-of-type {\n",
       "        vertical-align: middle;\n",
       "    }\n",
       "\n",
       "    .dataframe tbody tr th {\n",
       "        vertical-align: top;\n",
       "    }\n",
       "\n",
       "    .dataframe thead th {\n",
       "        text-align: right;\n",
       "    }\n",
       "</style>\n",
       "<table border=\"1\" class=\"dataframe\">\n",
       "  <thead>\n",
       "    <tr style=\"text-align: right;\">\n",
       "      <th></th>\n",
       "      <th>Income</th>\n",
       "      <th>Limit</th>\n",
       "      <th>Rating</th>\n",
       "      <th>Cards</th>\n",
       "      <th>Age</th>\n",
       "      <th>Education</th>\n",
       "      <th>Balance</th>\n",
       "    </tr>\n",
       "  </thead>\n",
       "  <tbody>\n",
       "    <tr>\n",
       "      <th>Income</th>\n",
       "      <td>1.000000</td>\n",
       "      <td>0.792088</td>\n",
       "      <td>0.791378</td>\n",
       "      <td>-0.018273</td>\n",
       "      <td>0.175338</td>\n",
       "      <td>-0.027692</td>\n",
       "      <td>0.463656</td>\n",
       "    </tr>\n",
       "    <tr>\n",
       "      <th>Limit</th>\n",
       "      <td>0.792088</td>\n",
       "      <td>1.000000</td>\n",
       "      <td>0.996880</td>\n",
       "      <td>0.010231</td>\n",
       "      <td>0.100888</td>\n",
       "      <td>-0.023549</td>\n",
       "      <td>0.861697</td>\n",
       "    </tr>\n",
       "    <tr>\n",
       "      <th>Rating</th>\n",
       "      <td>0.791378</td>\n",
       "      <td>0.996880</td>\n",
       "      <td>1.000000</td>\n",
       "      <td>0.053239</td>\n",
       "      <td>0.103165</td>\n",
       "      <td>-0.030136</td>\n",
       "      <td>0.863625</td>\n",
       "    </tr>\n",
       "    <tr>\n",
       "      <th>Cards</th>\n",
       "      <td>-0.018273</td>\n",
       "      <td>0.010231</td>\n",
       "      <td>0.053239</td>\n",
       "      <td>1.000000</td>\n",
       "      <td>0.042948</td>\n",
       "      <td>-0.051084</td>\n",
       "      <td>0.086456</td>\n",
       "    </tr>\n",
       "    <tr>\n",
       "      <th>Age</th>\n",
       "      <td>0.175338</td>\n",
       "      <td>0.100888</td>\n",
       "      <td>0.103165</td>\n",
       "      <td>0.042948</td>\n",
       "      <td>1.000000</td>\n",
       "      <td>0.003619</td>\n",
       "      <td>0.001835</td>\n",
       "    </tr>\n",
       "    <tr>\n",
       "      <th>Education</th>\n",
       "      <td>-0.027692</td>\n",
       "      <td>-0.023549</td>\n",
       "      <td>-0.030136</td>\n",
       "      <td>-0.051084</td>\n",
       "      <td>0.003619</td>\n",
       "      <td>1.000000</td>\n",
       "      <td>-0.008062</td>\n",
       "    </tr>\n",
       "    <tr>\n",
       "      <th>Balance</th>\n",
       "      <td>0.463656</td>\n",
       "      <td>0.861697</td>\n",
       "      <td>0.863625</td>\n",
       "      <td>0.086456</td>\n",
       "      <td>0.001835</td>\n",
       "      <td>-0.008062</td>\n",
       "      <td>1.000000</td>\n",
       "    </tr>\n",
       "  </tbody>\n",
       "</table>\n",
       "</div>"
      ],
      "text/plain": [
       "             Income     Limit    Rating     Cards       Age  Education  \\\n",
       "Income     1.000000  0.792088  0.791378 -0.018273  0.175338  -0.027692   \n",
       "Limit      0.792088  1.000000  0.996880  0.010231  0.100888  -0.023549   \n",
       "Rating     0.791378  0.996880  1.000000  0.053239  0.103165  -0.030136   \n",
       "Cards     -0.018273  0.010231  0.053239  1.000000  0.042948  -0.051084   \n",
       "Age        0.175338  0.100888  0.103165  0.042948  1.000000   0.003619   \n",
       "Education -0.027692 -0.023549 -0.030136 -0.051084  0.003619   1.000000   \n",
       "Balance    0.463656  0.861697  0.863625  0.086456  0.001835  -0.008062   \n",
       "\n",
       "            Balance  \n",
       "Income     0.463656  \n",
       "Limit      0.861697  \n",
       "Rating     0.863625  \n",
       "Cards      0.086456  \n",
       "Age        0.001835  \n",
       "Education -0.008062  \n",
       "Balance    1.000000  "
      ]
     },
     "execution_count": 20,
     "metadata": {},
     "output_type": "execute_result"
    }
   ],
   "source": [
    "df.corr()"
   ]
  },
  {
   "cell_type": "code",
   "execution_count": 21,
   "id": "df2f3279",
   "metadata": {},
   "outputs": [
    {
     "data": {
      "image/png": "[encoded data removed]",
      "text/plain": [
       "<Figure size 1440x1080 with 2 Axes>"
      ]
     },
     "metadata": {},
     "output_type": "display_data"
    }
   ],
   "source": [
    "sns.set(rc={\"figure.figsize\":(20, 15)})\n",
    "sns.heatmap(df.corr(), cmap='Blues', annot=True);"
   ]
  },
  {
   "cell_type": "code",
   "execution_count": 22,
   "id": "74be6c82",
   "metadata": {},
   "outputs": [
    {
     "data": {
      "text/plain": [
       "<matplotlib.collections.PathCollection at 0x1c8b4f782b0>"
      ]
     },
     "execution_count": 22,
     "metadata": {},
     "output_type": "execute_result"
    }
   ],
   "source": [
    "plt.scatter(df.Limit,df.Income)\n"
   ]
  },
  {
   "cell_type": "code",
   "execution_count": null,
   "id": "3e86ae60",
   "metadata": {},
   "outputs": [],
   "source": []
  },
  {
   "cell_type": "markdown",
   "id": "0d091365",
   "metadata": {},
   "source": [
    "## "
   ]
  },
  {
   "cell_type": "markdown",
   "id": "1e464d1f",
   "metadata": {},
   "source": [
    "# Data Preprocessing"
   ]
  },
  {
   "cell_type": "markdown",
   "id": "70b897f3",
   "metadata": {},
   "source": [
    "# 3.4 Data Quality"
   ]
  },
  {
   "cell_type": "code",
   "execution_count": 23,
   "id": "a6c26cc7",
   "metadata": {},
   "outputs": [],
   "source": [
    "##Function to find out the percentage of null values in the dataframe\n",
    "\n",
    "NullValues=df.isnull().sum()/len(df)"
   ]
  },
  {
   "cell_type": "code",
   "execution_count": 24,
   "id": "9bc129a0",
   "metadata": {},
   "outputs": [
    {
     "data": {
      "text/plain": [
       "Income       0.0\n",
       "Limit        0.0\n",
       "Rating       0.0\n",
       "Cards        0.0\n",
       "Age          0.0\n",
       "Education    0.0\n",
       "Gender       0.0\n",
       "Student      0.0\n",
       "Married      0.0\n",
       "Ethnicity    0.0\n",
       "Balance      0.0\n",
       "dtype: float64"
      ]
     },
     "execution_count": 24,
     "metadata": {},
     "output_type": "execute_result"
    }
   ],
   "source": [
    "NullValues"
   ]
  },
  {
   "cell_type": "code",
   "execution_count": 25,
   "id": "16b518cc",
   "metadata": {},
   "outputs": [
    {
     "data": {
      "text/plain": [
       "Income       0\n",
       "Limit        0\n",
       "Rating       0\n",
       "Cards        0\n",
       "Age          0\n",
       "Education    0\n",
       "Gender       0\n",
       "Student      0\n",
       "Married      0\n",
       "Ethnicity    0\n",
       "Balance      0\n",
       "dtype: int64"
      ]
     },
     "execution_count": 25,
     "metadata": {},
     "output_type": "execute_result"
    }
   ],
   "source": [
    "df.isna().sum()"
   ]
  },
  {
   "cell_type": "code",
   "execution_count": 26,
   "id": "a21eb269",
   "metadata": {},
   "outputs": [
    {
     "data": {
      "text/plain": [
       "Income       False\n",
       "Limit        False\n",
       "Rating       False\n",
       "Cards        False\n",
       "Age          False\n",
       "Education    False\n",
       "Gender       False\n",
       "Student      False\n",
       "Married      False\n",
       "Ethnicity    False\n",
       "Balance      False\n",
       "dtype: bool"
      ]
     },
     "execution_count": 26,
     "metadata": {},
     "output_type": "execute_result"
    }
   ],
   "source": [
    "df.isnull().any()"
   ]
  },
  {
   "cell_type": "code",
   "execution_count": 27,
   "id": "82ad40b4",
   "metadata": {},
   "outputs": [
    {
     "data": {
      "text/plain": [
       "0"
      ]
     },
     "execution_count": 27,
     "metadata": {},
     "output_type": "execute_result"
    }
   ],
   "source": [
    "df.duplicated().sum()"
   ]
  },
  {
   "cell_type": "code",
   "execution_count": 28,
   "id": "11f1ca69",
   "metadata": {},
   "outputs": [
    {
     "data": {
      "text/plain": [
       "False"
      ]
     },
     "execution_count": 28,
     "metadata": {},
     "output_type": "execute_result"
    }
   ],
   "source": [
    "df.duplicated().any()"
   ]
  },
  {
   "cell_type": "markdown",
   "id": "cb67e922",
   "metadata": {},
   "source": [
    "# "
   ]
  },
  {
   "cell_type": "markdown",
   "id": "6e8cf0ff",
   "metadata": {},
   "source": [
    "## Encoding the Data"
   ]
  },
  {
   "cell_type": "code",
   "execution_count": 29,
   "id": "50726e96",
   "metadata": {},
   "outputs": [],
   "source": [
    "#Creating a new DataFrame to convert the categorical variables\n",
    "df1 = pd.DataFrame(df)"
   ]
  },
  {
   "cell_type": "code",
   "execution_count": 30,
   "id": "d63549d8",
   "metadata": {},
   "outputs": [
    {
     "data": {
      "text/html": [
       "<div>\n",
       "<style scoped>\n",
       "    .dataframe tbody tr th:only-of-type {\n",
       "        vertical-align: middle;\n",
       "    }\n",
       "\n",
       "    .dataframe tbody tr th {\n",
       "        vertical-align: top;\n",
       "    }\n",
       "\n",
       "    .dataframe thead th {\n",
       "        text-align: right;\n",
       "    }\n",
       "</style>\n",
       "<table border=\"1\" class=\"dataframe\">\n",
       "  <thead>\n",
       "    <tr style=\"text-align: right;\">\n",
       "      <th></th>\n",
       "      <th>Income</th>\n",
       "      <th>Limit</th>\n",
       "      <th>Rating</th>\n",
       "      <th>Cards</th>\n",
       "      <th>Age</th>\n",
       "      <th>Education</th>\n",
       "      <th>Gender</th>\n",
       "      <th>Student</th>\n",
       "      <th>Married</th>\n",
       "      <th>Ethnicity</th>\n",
       "      <th>Balance</th>\n",
       "    </tr>\n",
       "  </thead>\n",
       "  <tbody>\n",
       "    <tr>\n",
       "      <th>0</th>\n",
       "      <td>14.891</td>\n",
       "      <td>3606</td>\n",
       "      <td>283</td>\n",
       "      <td>2</td>\n",
       "      <td>34</td>\n",
       "      <td>11</td>\n",
       "      <td>Male</td>\n",
       "      <td>No</td>\n",
       "      <td>Yes</td>\n",
       "      <td>Caucasian</td>\n",
       "      <td>333</td>\n",
       "    </tr>\n",
       "    <tr>\n",
       "      <th>1</th>\n",
       "      <td>106.025</td>\n",
       "      <td>6645</td>\n",
       "      <td>483</td>\n",
       "      <td>3</td>\n",
       "      <td>82</td>\n",
       "      <td>15</td>\n",
       "      <td>Female</td>\n",
       "      <td>Yes</td>\n",
       "      <td>Yes</td>\n",
       "      <td>Asian</td>\n",
       "      <td>903</td>\n",
       "    </tr>\n",
       "    <tr>\n",
       "      <th>2</th>\n",
       "      <td>104.593</td>\n",
       "      <td>7075</td>\n",
       "      <td>514</td>\n",
       "      <td>4</td>\n",
       "      <td>71</td>\n",
       "      <td>11</td>\n",
       "      <td>Male</td>\n",
       "      <td>No</td>\n",
       "      <td>No</td>\n",
       "      <td>Asian</td>\n",
       "      <td>580</td>\n",
       "    </tr>\n",
       "    <tr>\n",
       "      <th>3</th>\n",
       "      <td>148.924</td>\n",
       "      <td>9504</td>\n",
       "      <td>681</td>\n",
       "      <td>3</td>\n",
       "      <td>36</td>\n",
       "      <td>11</td>\n",
       "      <td>Female</td>\n",
       "      <td>No</td>\n",
       "      <td>No</td>\n",
       "      <td>Asian</td>\n",
       "      <td>964</td>\n",
       "    </tr>\n",
       "    <tr>\n",
       "      <th>4</th>\n",
       "      <td>55.882</td>\n",
       "      <td>4897</td>\n",
       "      <td>357</td>\n",
       "      <td>2</td>\n",
       "      <td>68</td>\n",
       "      <td>16</td>\n",
       "      <td>Male</td>\n",
       "      <td>No</td>\n",
       "      <td>Yes</td>\n",
       "      <td>Caucasian</td>\n",
       "      <td>331</td>\n",
       "    </tr>\n",
       "  </tbody>\n",
       "</table>\n",
       "</div>"
      ],
      "text/plain": [
       "    Income  Limit  Rating  Cards  Age  Education  Gender Student Married  \\\n",
       "0   14.891   3606     283      2   34         11    Male      No     Yes   \n",
       "1  106.025   6645     483      3   82         15  Female     Yes     Yes   \n",
       "2  104.593   7075     514      4   71         11    Male      No      No   \n",
       "3  148.924   9504     681      3   36         11  Female      No      No   \n",
       "4   55.882   4897     357      2   68         16    Male      No     Yes   \n",
       "\n",
       "   Ethnicity  Balance  \n",
       "0  Caucasian      333  \n",
       "1      Asian      903  \n",
       "2      Asian      580  \n",
       "3      Asian      964  \n",
       "4  Caucasian      331  "
      ]
     },
     "execution_count": 30,
     "metadata": {},
     "output_type": "execute_result"
    }
   ],
   "source": [
    "df1.head()"
   ]
  },
  {
   "cell_type": "code",
   "execution_count": 31,
   "id": "9f284430",
   "metadata": {},
   "outputs": [],
   "source": [
    "##I will be using the One Hot-Encoder to convert the categorical variables\n",
    "df1 = pd.get_dummies(df1, columns=['Gender', 'Student', 'Married'],drop_first=True)"
   ]
  },
  {
   "cell_type": "code",
   "execution_count": null,
   "id": "63ef0c33",
   "metadata": {},
   "outputs": [],
   "source": []
  },
  {
   "cell_type": "code",
   "execution_count": 32,
   "id": "eeb2002e",
   "metadata": {},
   "outputs": [],
   "source": [
    "##I will be using the Label - Encoder to convert the Ethnicity column to a numerical format\n",
    "label_enc = LabelEncoder()"
   ]
  },
  {
   "cell_type": "code",
   "execution_count": 33,
   "id": "fd3afa3d",
   "metadata": {},
   "outputs": [],
   "source": [
    "df1.Ethnicity = label_enc.fit_transform(df1.Ethnicity)"
   ]
  },
  {
   "cell_type": "code",
   "execution_count": 34,
   "id": "3f3cf66e",
   "metadata": {},
   "outputs": [
    {
     "data": {
      "text/html": [
       "<div>\n",
       "<style scoped>\n",
       "    .dataframe tbody tr th:only-of-type {\n",
       "        vertical-align: middle;\n",
       "    }\n",
       "\n",
       "    .dataframe tbody tr th {\n",
       "        vertical-align: top;\n",
       "    }\n",
       "\n",
       "    .dataframe thead th {\n",
       "        text-align: right;\n",
       "    }\n",
       "</style>\n",
       "<table border=\"1\" class=\"dataframe\">\n",
       "  <thead>\n",
       "    <tr style=\"text-align: right;\">\n",
       "      <th></th>\n",
       "      <th>Income</th>\n",
       "      <th>Limit</th>\n",
       "      <th>Rating</th>\n",
       "      <th>Cards</th>\n",
       "      <th>Age</th>\n",
       "      <th>Education</th>\n",
       "      <th>Ethnicity</th>\n",
       "      <th>Balance</th>\n",
       "      <th>Gender_Male</th>\n",
       "      <th>Student_Yes</th>\n",
       "      <th>Married_Yes</th>\n",
       "    </tr>\n",
       "  </thead>\n",
       "  <tbody>\n",
       "    <tr>\n",
       "      <th>0</th>\n",
       "      <td>14.891</td>\n",
       "      <td>3606</td>\n",
       "      <td>283</td>\n",
       "      <td>2</td>\n",
       "      <td>34</td>\n",
       "      <td>11</td>\n",
       "      <td>2</td>\n",
       "      <td>333</td>\n",
       "      <td>1</td>\n",
       "      <td>0</td>\n",
       "      <td>1</td>\n",
       "    </tr>\n",
       "    <tr>\n",
       "      <th>1</th>\n",
       "      <td>106.025</td>\n",
       "      <td>6645</td>\n",
       "      <td>483</td>\n",
       "      <td>3</td>\n",
       "      <td>82</td>\n",
       "      <td>15</td>\n",
       "      <td>1</td>\n",
       "      <td>903</td>\n",
       "      <td>0</td>\n",
       "      <td>1</td>\n",
       "      <td>1</td>\n",
       "    </tr>\n",
       "    <tr>\n",
       "      <th>2</th>\n",
       "      <td>104.593</td>\n",
       "      <td>7075</td>\n",
       "      <td>514</td>\n",
       "      <td>4</td>\n",
       "      <td>71</td>\n",
       "      <td>11</td>\n",
       "      <td>1</td>\n",
       "      <td>580</td>\n",
       "      <td>1</td>\n",
       "      <td>0</td>\n",
       "      <td>0</td>\n",
       "    </tr>\n",
       "    <tr>\n",
       "      <th>3</th>\n",
       "      <td>148.924</td>\n",
       "      <td>9504</td>\n",
       "      <td>681</td>\n",
       "      <td>3</td>\n",
       "      <td>36</td>\n",
       "      <td>11</td>\n",
       "      <td>1</td>\n",
       "      <td>964</td>\n",
       "      <td>0</td>\n",
       "      <td>0</td>\n",
       "      <td>0</td>\n",
       "    </tr>\n",
       "    <tr>\n",
       "      <th>4</th>\n",
       "      <td>55.882</td>\n",
       "      <td>4897</td>\n",
       "      <td>357</td>\n",
       "      <td>2</td>\n",
       "      <td>68</td>\n",
       "      <td>16</td>\n",
       "      <td>2</td>\n",
       "      <td>331</td>\n",
       "      <td>1</td>\n",
       "      <td>0</td>\n",
       "      <td>1</td>\n",
       "    </tr>\n",
       "  </tbody>\n",
       "</table>\n",
       "</div>"
      ],
      "text/plain": [
       "    Income  Limit  Rating  Cards  Age  Education  Ethnicity  Balance  \\\n",
       "0   14.891   3606     283      2   34         11          2      333   \n",
       "1  106.025   6645     483      3   82         15          1      903   \n",
       "2  104.593   7075     514      4   71         11          1      580   \n",
       "3  148.924   9504     681      3   36         11          1      964   \n",
       "4   55.882   4897     357      2   68         16          2      331   \n",
       "\n",
       "   Gender_Male  Student_Yes  Married_Yes  \n",
       "0            1            0            1  \n",
       "1            0            1            1  \n",
       "2            1            0            0  \n",
       "3            0            0            0  \n",
       "4            1            0            1  "
      ]
     },
     "execution_count": 34,
     "metadata": {},
     "output_type": "execute_result"
    }
   ],
   "source": [
    "df1.head()"
   ]
  },
  {
   "cell_type": "markdown",
   "id": "c9d8c77e",
   "metadata": {},
   "source": [
    "# "
   ]
  },
  {
   "cell_type": "markdown",
   "id": "170ab328",
   "metadata": {},
   "source": [
    "# 4 Preparing data for machine learning"
   ]
  },
  {
   "cell_type": "markdown",
   "id": "561ed246",
   "metadata": {},
   "source": [
    "## Feature Selection"
   ]
  },
  {
   "cell_type": "markdown",
   "id": "7f521b0b",
   "metadata": {},
   "source": [
    "I will be using the Correlation Matrix to select the best column to be used in the machine learning models"
   ]
  },
  {
   "cell_type": "code",
   "execution_count": 35,
   "id": "1b500da1",
   "metadata": {},
   "outputs": [
    {
     "data": {
      "text/plain": [
       "Limit          1.000000\n",
       "Rating         0.996880\n",
       "Balance        0.861697\n",
       "Income         0.792088\n",
       "Age            0.100888\n",
       "Married_Yes    0.031155\n",
       "Cards          0.010231\n",
       "Student_Yes   -0.006015\n",
       "Gender_Male   -0.009397\n",
       "Ethnicity     -0.020837\n",
       "Education     -0.023549\n",
       "Name: Limit, dtype: float64"
      ]
     },
     "execution_count": 35,
     "metadata": {},
     "output_type": "execute_result"
    }
   ],
   "source": [
    "corr_matrix = df1.corr()\n",
    "\n",
    "corr_matrix['Limit'].sort_values(ascending=False)"
   ]
  },
  {
   "cell_type": "code",
   "execution_count": 36,
   "id": "ac46e4e6",
   "metadata": {},
   "outputs": [
    {
     "data": {
      "text/plain": [
       "Index(['Income', 'Limit', 'Rating', 'Cards', 'Age', 'Education', 'Ethnicity',\n",
       "       'Balance', 'Gender_Male', 'Student_Yes', 'Married_Yes'],\n",
       "      dtype='object')"
      ]
     },
     "execution_count": 36,
     "metadata": {},
     "output_type": "execute_result"
    }
   ],
   "source": [
    "df1.columns"
   ]
  },
  {
   "cell_type": "code",
   "execution_count": 37,
   "id": "437e031e",
   "metadata": {},
   "outputs": [
    {
     "data": {
      "text/plain": [
       "Income         float64\n",
       "Limit            int64\n",
       "Rating           int64\n",
       "Cards            int64\n",
       "Age              int64\n",
       "Education        int64\n",
       "Ethnicity        int32\n",
       "Balance          int64\n",
       "Gender_Male      uint8\n",
       "Student_Yes      uint8\n",
       "Married_Yes      uint8\n",
       "dtype: object"
      ]
     },
     "execution_count": 37,
     "metadata": {},
     "output_type": "execute_result"
    }
   ],
   "source": [
    "df1.dtypes"
   ]
  },
  {
   "cell_type": "code",
   "execution_count": 38,
   "id": "0f5d74e6",
   "metadata": {},
   "outputs": [],
   "source": [
    "features = ['Income']"
   ]
  },
  {
   "cell_type": "markdown",
   "id": "4b1c9fb5",
   "metadata": {},
   "source": [
    "For the features variables selection, we are going to use the Balance column, which has 0.792088 correlation to the target column."
   ]
  },
  {
   "cell_type": "code",
   "execution_count": 39,
   "id": "b518871d",
   "metadata": {},
   "outputs": [
    {
     "data": {
      "text/html": [
       "<div>\n",
       "<style scoped>\n",
       "    .dataframe tbody tr th:only-of-type {\n",
       "        vertical-align: middle;\n",
       "    }\n",
       "\n",
       "    .dataframe tbody tr th {\n",
       "        vertical-align: top;\n",
       "    }\n",
       "\n",
       "    .dataframe thead th {\n",
       "        text-align: right;\n",
       "    }\n",
       "</style>\n",
       "<table border=\"1\" class=\"dataframe\">\n",
       "  <thead>\n",
       "    <tr style=\"text-align: right;\">\n",
       "      <th></th>\n",
       "      <th>Limit</th>\n",
       "    </tr>\n",
       "  </thead>\n",
       "  <tbody>\n",
       "    <tr>\n",
       "      <th>0</th>\n",
       "      <td>3606</td>\n",
       "    </tr>\n",
       "    <tr>\n",
       "      <th>1</th>\n",
       "      <td>6645</td>\n",
       "    </tr>\n",
       "    <tr>\n",
       "      <th>2</th>\n",
       "      <td>7075</td>\n",
       "    </tr>\n",
       "    <tr>\n",
       "      <th>3</th>\n",
       "      <td>9504</td>\n",
       "    </tr>\n",
       "    <tr>\n",
       "      <th>4</th>\n",
       "      <td>4897</td>\n",
       "    </tr>\n",
       "    <tr>\n",
       "      <th>...</th>\n",
       "      <td>...</td>\n",
       "    </tr>\n",
       "    <tr>\n",
       "      <th>395</th>\n",
       "      <td>4100</td>\n",
       "    </tr>\n",
       "    <tr>\n",
       "      <th>396</th>\n",
       "      <td>3838</td>\n",
       "    </tr>\n",
       "    <tr>\n",
       "      <th>397</th>\n",
       "      <td>4171</td>\n",
       "    </tr>\n",
       "    <tr>\n",
       "      <th>398</th>\n",
       "      <td>2525</td>\n",
       "    </tr>\n",
       "    <tr>\n",
       "      <th>399</th>\n",
       "      <td>5524</td>\n",
       "    </tr>\n",
       "  </tbody>\n",
       "</table>\n",
       "<p>400 rows × 1 columns</p>\n",
       "</div>"
      ],
      "text/plain": [
       "     Limit\n",
       "0     3606\n",
       "1     6645\n",
       "2     7075\n",
       "3     9504\n",
       "4     4897\n",
       "..     ...\n",
       "395   4100\n",
       "396   3838\n",
       "397   4171\n",
       "398   2525\n",
       "399   5524\n",
       "\n",
       "[400 rows x 1 columns]"
      ]
     },
     "execution_count": 39,
     "metadata": {},
     "output_type": "execute_result"
    }
   ],
   "source": [
    "\n",
    "limit_scaled= pd.DataFrame(df1[\"Limit\"])\n",
    "\n",
    "limit_scaled"
   ]
  },
  {
   "cell_type": "code",
   "execution_count": 40,
   "id": "f16250ba",
   "metadata": {},
   "outputs": [
    {
     "data": {
      "text/plain": [
       "array([[ 14.891],\n",
       "       [106.025],\n",
       "       [104.593],\n",
       "       [148.924],\n",
       "       [ 55.882],\n",
       "       [ 80.18 ],\n",
       "       [ 20.996],\n",
       "       [ 71.408],\n",
       "       [ 15.125],\n",
       "       [ 71.061],\n",
       "       [ 63.095],\n",
       "       [ 15.045],\n",
       "       [ 80.616],\n",
       "       [ 43.682],\n",
       "       [ 19.144],\n",
       "       [ 20.089],\n",
       "       [ 53.598],\n",
       "       [ 36.496],\n",
       "       [ 49.57 ],\n",
       "       [ 42.079],\n",
       "       [ 17.7  ],\n",
       "       [ 37.348],\n",
       "       [ 20.103],\n",
       "       [ 64.027],\n",
       "       [ 10.742],\n",
       "       [ 14.09 ],\n",
       "       [ 42.471],\n",
       "       [ 32.793],\n",
       "       [186.634],\n",
       "       [ 26.813],\n",
       "       [ 34.142],\n",
       "       [ 28.941],\n",
       "       [134.181],\n",
       "       [ 31.367],\n",
       "       [ 20.15 ],\n",
       "       [ 23.35 ],\n",
       "       [ 62.413],\n",
       "       [ 30.007],\n",
       "       [ 11.795],\n",
       "       [ 13.647],\n",
       "       [ 34.95 ],\n",
       "       [113.659],\n",
       "       [ 44.158],\n",
       "       [ 36.929],\n",
       "       [ 31.861],\n",
       "       [ 77.38 ],\n",
       "       [ 19.531],\n",
       "       [ 44.646],\n",
       "       [ 44.522],\n",
       "       [ 43.479],\n",
       "       [ 36.362],\n",
       "       [ 39.705],\n",
       "       [ 44.205],\n",
       "       [ 16.304],\n",
       "       [ 15.333],\n",
       "       [ 32.916],\n",
       "       [ 57.1  ],\n",
       "       [ 76.273],\n",
       "       [ 10.354],\n",
       "       [ 51.872],\n",
       "       [ 35.51 ],\n",
       "       [ 21.238],\n",
       "       [ 30.682],\n",
       "       [ 14.132],\n",
       "       [ 32.164],\n",
       "       [ 12.   ],\n",
       "       [113.829],\n",
       "       [ 11.187],\n",
       "       [ 27.847],\n",
       "       [ 49.502],\n",
       "       [ 24.889],\n",
       "       [ 58.781],\n",
       "       [ 22.939],\n",
       "       [ 23.989],\n",
       "       [ 16.103],\n",
       "       [ 33.017],\n",
       "       [ 30.622],\n",
       "       [ 20.936],\n",
       "       [110.968],\n",
       "       [ 15.354],\n",
       "       [ 27.369],\n",
       "       [ 53.48 ],\n",
       "       [ 23.672],\n",
       "       [ 19.225],\n",
       "       [ 43.54 ],\n",
       "       [152.298],\n",
       "       [ 55.367],\n",
       "       [ 11.741],\n",
       "       [ 15.56 ],\n",
       "       [ 59.53 ],\n",
       "       [ 20.191],\n",
       "       [ 48.498],\n",
       "       [ 30.733],\n",
       "       [ 16.479],\n",
       "       [ 38.009],\n",
       "       [ 14.084],\n",
       "       [ 14.312],\n",
       "       [ 26.067],\n",
       "       [ 36.295],\n",
       "       [ 83.851],\n",
       "       [ 21.153],\n",
       "       [ 17.976],\n",
       "       [ 68.713],\n",
       "       [146.183],\n",
       "       [ 15.846],\n",
       "       [ 12.031],\n",
       "       [ 16.819],\n",
       "       [ 39.11 ],\n",
       "       [107.986],\n",
       "       [ 13.561],\n",
       "       [ 34.537],\n",
       "       [ 28.575],\n",
       "       [ 46.007],\n",
       "       [ 69.251],\n",
       "       [ 16.482],\n",
       "       [ 40.442],\n",
       "       [ 35.177],\n",
       "       [ 91.362],\n",
       "       [ 27.039],\n",
       "       [ 23.012],\n",
       "       [ 27.241],\n",
       "       [148.08 ],\n",
       "       [ 62.602],\n",
       "       [ 11.808],\n",
       "       [ 29.564],\n",
       "       [ 27.578],\n",
       "       [ 26.427],\n",
       "       [ 57.202],\n",
       "       [123.299],\n",
       "       [ 18.145],\n",
       "       [ 23.793],\n",
       "       [ 10.726],\n",
       "       [ 23.283],\n",
       "       [ 21.455],\n",
       "       [ 34.664],\n",
       "       [ 44.473],\n",
       "       [ 54.663],\n",
       "       [ 36.355],\n",
       "       [ 21.374],\n",
       "       [107.841],\n",
       "       [ 39.831],\n",
       "       [ 91.876],\n",
       "       [103.893],\n",
       "       [ 19.636],\n",
       "       [ 17.392],\n",
       "       [ 19.529],\n",
       "       [ 17.055],\n",
       "       [ 23.857],\n",
       "       [ 15.184],\n",
       "       [ 13.444],\n",
       "       [ 63.931],\n",
       "       [ 35.864],\n",
       "       [ 41.419],\n",
       "       [ 92.112],\n",
       "       [ 55.056],\n",
       "       [ 19.537],\n",
       "       [ 31.811],\n",
       "       [ 56.256],\n",
       "       [ 42.357],\n",
       "       [ 53.319],\n",
       "       [ 12.238],\n",
       "       [ 31.353],\n",
       "       [ 63.809],\n",
       "       [ 13.676],\n",
       "       [ 76.782],\n",
       "       [ 25.383],\n",
       "       [ 35.691],\n",
       "       [ 29.403],\n",
       "       [ 27.47 ],\n",
       "       [ 27.33 ],\n",
       "       [ 34.772],\n",
       "       [ 36.934],\n",
       "       [ 76.348],\n",
       "       [ 14.887],\n",
       "       [121.834],\n",
       "       [ 30.132],\n",
       "       [ 24.05 ],\n",
       "       [ 22.379],\n",
       "       [ 28.316],\n",
       "       [ 58.026],\n",
       "       [ 10.635],\n",
       "       [ 46.102],\n",
       "       [ 58.929],\n",
       "       [ 80.861],\n",
       "       [158.889],\n",
       "       [ 30.42 ],\n",
       "       [ 36.472],\n",
       "       [ 23.365],\n",
       "       [ 83.869],\n",
       "       [ 58.351],\n",
       "       [ 55.187],\n",
       "       [124.29 ],\n",
       "       [ 28.508],\n",
       "       [130.209],\n",
       "       [ 30.406],\n",
       "       [ 23.883],\n",
       "       [ 93.039],\n",
       "       [ 50.699],\n",
       "       [ 27.349],\n",
       "       [ 10.403],\n",
       "       [ 23.949],\n",
       "       [ 73.914],\n",
       "       [ 21.038],\n",
       "       [ 68.206],\n",
       "       [ 57.337],\n",
       "       [ 10.793],\n",
       "       [ 23.45 ],\n",
       "       [ 10.842],\n",
       "       [ 51.345],\n",
       "       [151.947],\n",
       "       [ 24.543],\n",
       "       [ 29.567],\n",
       "       [ 39.145],\n",
       "       [ 39.422],\n",
       "       [ 34.909],\n",
       "       [ 41.025],\n",
       "       [ 15.476],\n",
       "       [ 12.456],\n",
       "       [ 10.627],\n",
       "       [ 38.954],\n",
       "       [ 44.847],\n",
       "       [ 98.515],\n",
       "       [ 33.437],\n",
       "       [ 27.512],\n",
       "       [121.709],\n",
       "       [ 15.079],\n",
       "       [ 59.879],\n",
       "       [ 66.989],\n",
       "       [ 69.165],\n",
       "       [ 69.943],\n",
       "       [ 33.214],\n",
       "       [ 25.124],\n",
       "       [ 15.741],\n",
       "       [ 11.603],\n",
       "       [ 69.656],\n",
       "       [ 10.503],\n",
       "       [ 42.529],\n",
       "       [ 60.579],\n",
       "       [ 26.532],\n",
       "       [ 27.952],\n",
       "       [ 29.705],\n",
       "       [ 15.602],\n",
       "       [ 20.918],\n",
       "       [ 58.165],\n",
       "       [ 22.561],\n",
       "       [ 34.509],\n",
       "       [ 19.588],\n",
       "       [ 36.364],\n",
       "       [ 15.717],\n",
       "       [ 22.574],\n",
       "       [ 10.363],\n",
       "       [ 28.474],\n",
       "       [ 72.945],\n",
       "       [ 85.425],\n",
       "       [ 36.508],\n",
       "       [ 58.063],\n",
       "       [ 25.936],\n",
       "       [ 15.629],\n",
       "       [ 41.4  ],\n",
       "       [ 33.657],\n",
       "       [ 67.937],\n",
       "       [180.379],\n",
       "       [ 10.588],\n",
       "       [ 29.725],\n",
       "       [ 27.999],\n",
       "       [ 40.885],\n",
       "       [ 88.83 ],\n",
       "       [ 29.638],\n",
       "       [ 25.988],\n",
       "       [ 39.055],\n",
       "       [ 15.866],\n",
       "       [ 44.978],\n",
       "       [ 30.413],\n",
       "       [ 16.751],\n",
       "       [ 30.55 ],\n",
       "       [163.329],\n",
       "       [ 23.106],\n",
       "       [ 41.532],\n",
       "       [128.04 ],\n",
       "       [ 54.319],\n",
       "       [ 53.401],\n",
       "       [ 36.142],\n",
       "       [ 63.534],\n",
       "       [ 49.927],\n",
       "       [ 14.711],\n",
       "       [ 18.967],\n",
       "       [ 18.036],\n",
       "       [ 60.449],\n",
       "       [ 16.711],\n",
       "       [ 10.852],\n",
       "       [ 26.37 ],\n",
       "       [ 24.088],\n",
       "       [ 51.532],\n",
       "       [140.672],\n",
       "       [ 42.915],\n",
       "       [ 27.272],\n",
       "       [ 65.896],\n",
       "       [ 55.054],\n",
       "       [ 20.791],\n",
       "       [ 24.919],\n",
       "       [ 21.786],\n",
       "       [ 31.335],\n",
       "       [ 59.855],\n",
       "       [ 44.061],\n",
       "       [ 82.706],\n",
       "       [ 24.46 ],\n",
       "       [ 45.12 ],\n",
       "       [ 75.406],\n",
       "       [ 14.956],\n",
       "       [ 75.257],\n",
       "       [ 33.694],\n",
       "       [ 23.375],\n",
       "       [ 27.825],\n",
       "       [ 92.386],\n",
       "       [115.52 ],\n",
       "       [ 14.479],\n",
       "       [ 52.179],\n",
       "       [ 68.462],\n",
       "       [ 18.951],\n",
       "       [ 27.59 ],\n",
       "       [ 16.279],\n",
       "       [ 25.078],\n",
       "       [ 27.229],\n",
       "       [182.728],\n",
       "       [ 31.029],\n",
       "       [ 17.765],\n",
       "       [125.48 ],\n",
       "       [ 49.166],\n",
       "       [ 41.192],\n",
       "       [ 94.193],\n",
       "       [ 20.405],\n",
       "       [ 12.581],\n",
       "       [ 62.328],\n",
       "       [ 21.011],\n",
       "       [ 24.23 ],\n",
       "       [ 24.314],\n",
       "       [ 32.856],\n",
       "       [ 12.414],\n",
       "       [ 41.365],\n",
       "       [149.316],\n",
       "       [ 27.794],\n",
       "       [ 13.234],\n",
       "       [ 14.595],\n",
       "       [ 10.735],\n",
       "       [ 48.218],\n",
       "       [ 30.012],\n",
       "       [ 21.551],\n",
       "       [160.231],\n",
       "       [ 13.433],\n",
       "       [ 48.577],\n",
       "       [ 30.002],\n",
       "       [ 61.62 ],\n",
       "       [104.483],\n",
       "       [ 41.868],\n",
       "       [ 12.068],\n",
       "       [180.682],\n",
       "       [ 34.48 ],\n",
       "       [ 39.609],\n",
       "       [ 30.111],\n",
       "       [ 12.335],\n",
       "       [ 53.566],\n",
       "       [ 53.217],\n",
       "       [ 26.162],\n",
       "       [ 64.173],\n",
       "       [128.669],\n",
       "       [113.772],\n",
       "       [ 61.069],\n",
       "       [ 23.793],\n",
       "       [ 89.   ],\n",
       "       [ 71.682],\n",
       "       [ 35.61 ],\n",
       "       [ 39.116],\n",
       "       [ 19.782],\n",
       "       [ 55.412],\n",
       "       [ 29.4  ],\n",
       "       [ 20.974],\n",
       "       [ 87.625],\n",
       "       [ 28.144],\n",
       "       [ 19.349],\n",
       "       [ 53.308],\n",
       "       [115.123],\n",
       "       [101.788],\n",
       "       [ 24.824],\n",
       "       [ 14.292],\n",
       "       [ 20.088],\n",
       "       [ 26.4  ],\n",
       "       [ 19.253],\n",
       "       [ 16.529],\n",
       "       [ 37.878],\n",
       "       [ 83.948],\n",
       "       [135.118],\n",
       "       [ 73.327],\n",
       "       [ 25.974],\n",
       "       [ 17.316],\n",
       "       [ 49.794],\n",
       "       [ 12.096],\n",
       "       [ 13.364],\n",
       "       [ 57.872],\n",
       "       [ 37.728],\n",
       "       [ 18.701]])"
      ]
     },
     "execution_count": 40,
     "metadata": {},
     "output_type": "execute_result"
    }
   ],
   "source": [
    "# Separating out the features\n",
    "x_data =df1[features].values\n",
    "x_data"
   ]
  },
  {
   "cell_type": "code",
   "execution_count": 41,
   "id": "35a9f662",
   "metadata": {},
   "outputs": [
    {
     "data": {
      "text/plain": [
       "array([ 3606,  6645,  7075,  9504,  4897,  8047,  3388,  7114,  3300,\n",
       "        6819,  8117,  1311,  5308,  6922,  3291,  2525,  3714,  4378,\n",
       "        6384,  6626,  2860,  6378,  2631,  5179,  1757,  4323,  3625,\n",
       "        4534, 13414,  5611,  5666,  2733,  7838,  1829,  2646,  2558,\n",
       "        6457,  6481,  3899,  3461,  3327,  7659,  4763,  6257,  6375,\n",
       "        7569,  5043,  4431,  2252,  4569,  5183,  3969,  5441,  5466,\n",
       "        1499,  1786,  4742,  4779,  3480,  5294,  5198,  3089,  1671,\n",
       "        2998,  2937,  4160,  9704,  5099,  5619,  6819,  3954,  7402,\n",
       "        4923,  4523,  5390,  3180,  3293,  3254,  6662,  2101,  3449,\n",
       "        4263,  4433,  1433,  2906, 12066,  6340,  2271,  4307,  7518,\n",
       "        5767,  6040,  2832,  5435,  3075,   855,  5382,  3388,  2963,\n",
       "        8494,  3736,  2433,  7582,  9540,  4768,  3182,  1337,  3189,\n",
       "        6033,  3261,  3271,  2959,  6637,  6386,  3326,  4828,  2117,\n",
       "        9113,  2161,  1410,  1402,  8157,  7056,  1300,  2529,  2531,\n",
       "        5533,  3411,  8376,  3461,  3821,  1568,  5443,  5829,  5835,\n",
       "        3500,  4116,  3613,  2073, 10384,  6045,  6754,  7416,  4896,\n",
       "        2748,  4673,  5110,  1501,  2420,   886,  5728,  4831,  2120,\n",
       "        4612,  3155,  1362,  4284,  5521,  5550,  3000,  4865,  1705,\n",
       "        7530,  2330,  5977,  4527,  2880,  2327,  2820,  6179,  2021,\n",
       "        4270,  4697,  4745, 10673,  2168,  2607,  3965,  4391,  7499,\n",
       "        3584,  5180,  6420,  4090, 11589,  4442,  3806,  2179,  7667,\n",
       "        4411,  5352,  9560,  3933, 10088,  2120,  5384,  7398,  3977,\n",
       "        2000,  4159,  5343,  7333,  1448,  6784,  5310,  3878,  2450,\n",
       "        4391,  4327,  9156,  3206,  5309,  4351,  5245,  5289,  4229,\n",
       "        2762,  5395,  1647,  5222,  5765,  8760,  6207,  4613,  7818,\n",
       "        5673,  6906,  5614,  4668,  7555,  5137,  4776,  4788,  2278,\n",
       "        8244,  2923,  4986,  5149,  2910,  3557,  3351,   906,  1233,\n",
       "        6617,  1787,  2001,  3211,  2220,   905,  1551,  2430,  3202,\n",
       "        8603,  5182,  6386,  4221,  1774,  2493,  2561,  6196,  5184,\n",
       "        9310,  4049,  3536,  5107,  5013,  4952,  5833,  1349,  5565,\n",
       "        3085,  4866,  3690,  4706,  5869,  8732,  3476,  5000,  6982,\n",
       "        3063,  5319,  1852,  8100,  6396,  2047,  1626,  1552,  3098,\n",
       "        5274,  3907,  3235,  3665,  5096, 11200,  2532,  1389,  5140,\n",
       "        4381,  2672,  5051,  4632,  3526,  4964,  4970,  7506,  1924,\n",
       "        3762,  3874,  4640,  7010,  4891,  5429,  5227,  7685,  9272,\n",
       "        3907,  7306,  4712,  1485,  2586,  1160,  3096,  3484, 13913,\n",
       "        2863,  5072, 10230,  6662,  3673,  7576,  4543,  3976,  5228,\n",
       "        3402,  4756,  3409,  5884,   855,  5303, 10278,  3807,  3922,\n",
       "        2955,  3746,  5199,  1511,  5380, 10748,  1134,  5145,  1561,\n",
       "        5140,  7140,  4716,  3873, 11966,  6090,  2539,  4336,  4471,\n",
       "        5891,  4943,  5101,  6127,  9824,  6442,  7871,  3615,  5759,\n",
       "        8028,  6135,  2150,  3782,  5354,  4840,  5673,  7167,  1567,\n",
       "        4941,  2860,  7760,  8029,  5495,  3274,  1870,  5640,  3683,\n",
       "        1357,  6827,  7100, 10578,  6555,  2308,  1335,  5758,  4100,\n",
       "        3838,  4171,  2525,  5524], dtype=int64)"
      ]
     },
     "execution_count": 41,
     "metadata": {},
     "output_type": "execute_result"
    }
   ],
   "source": [
    "# Separating out the target\n",
    "y_data = limit_scaled[\"Limit\"].values\n",
    "y_data"
   ]
  },
  {
   "cell_type": "markdown",
   "id": "b1f925c4",
   "metadata": {},
   "source": [
    "# Model Creation"
   ]
  },
  {
   "cell_type": "markdown",
   "id": "68fe0abc",
   "metadata": {},
   "source": [
    "## Split dataset into training and testing sets"
   ]
  },
  {
   "cell_type": "code",
   "execution_count": 42,
   "id": "5ae14eeb",
   "metadata": {},
   "outputs": [],
   "source": [
    "X_train, X_test, y_train, y_test = train_test_split(x_data,y_data, test_size=0.3, random_state=42)"
   ]
  },
  {
   "cell_type": "code",
   "execution_count": 43,
   "id": "4f14fc47",
   "metadata": {},
   "outputs": [
    {
     "name": "stdout",
     "output_type": "stream",
     "text": [
      "(280, 1) (280,)\n",
      "(120, 1) (120,)\n"
     ]
    }
   ],
   "source": [
    "print(X_train.shape, y_train.shape)\n",
    "print(X_test.shape, y_test.shape)"
   ]
  },
  {
   "cell_type": "markdown",
   "id": "ba2e98f1",
   "metadata": {},
   "source": [
    "## Simple Linear Regression"
   ]
  },
  {
   "cell_type": "code",
   "execution_count": 44,
   "id": "3225d528",
   "metadata": {},
   "outputs": [],
   "source": [
    "simple_linear_model = LinearRegression()"
   ]
  },
  {
   "cell_type": "code",
   "execution_count": 45,
   "id": "7bcb2314",
   "metadata": {},
   "outputs": [
    {
     "data": {
      "text/plain": [
       "LinearRegression()"
      ]
     },
     "execution_count": 45,
     "metadata": {},
     "output_type": "execute_result"
    }
   ],
   "source": [
    "simple_linear_model.fit(X_train,y_train)"
   ]
  },
  {
   "cell_type": "markdown",
   "id": "037898e8",
   "metadata": {},
   "source": [
    "## Model Valuation"
   ]
  },
  {
   "cell_type": "code",
   "execution_count": 46,
   "id": "29a08466",
   "metadata": {},
   "outputs": [],
   "source": [
    "simple_prediction_model = simple_linear_model.predict(X_test)"
   ]
  },
  {
   "cell_type": "code",
   "execution_count": 47,
   "id": "b38a130c",
   "metadata": {},
   "outputs": [
    {
     "data": {
      "text/plain": [
       "array([10606.35183606,  5229.13355645,  4026.83587239,  3654.48044914,\n",
       "        3214.46372388,  4691.06250886,  7454.97212993,  4389.26036261,\n",
       "        7162.33699878,  3757.28197572,  6192.76145426,  5219.09349228,\n",
       "        5430.97158555,  3566.95728107,  3585.72783582,  4724.78402873,\n",
       "        9301.85284665,  7096.5854916 ,  3686.18304306,  3755.80870544,\n",
       "        3457.66245211,  3411.4454176 ,  6316.40702711,  4769.52779295,\n",
       "        3127.81360487,  3044.4919854 ,  3214.62742058,  3138.0719313 ,\n",
       "        2893.01797382,  3179.92372052,  2975.30284755,  9420.20555958,\n",
       "       12157.7600122 ,  6477.15718492,  3174.19433608,  4234.73067934,\n",
       "        6093.99777957,  3111.6621973 ,  4626.51144413,  7328.54371321,\n",
       "        7869.39760467,  4111.35793432,  3986.18452563,  3084.1065864 ,\n",
       "        3606.95384104,  3669.81337322,  3143.80131575,  4830.85948928,\n",
       "        3412.20933553,  3127.59534261,  3380.9978317 ,  3683.67302701,\n",
       "        4572.38240254,  3673.36013502,  3919.50540382,  3059.93404061,\n",
       "        3816.48561497,  6481.24960238,  4178.2553184 ,  4575.32894311,\n",
       "        3928.45415666,  4656.95903003,  5483.51822573,  8370.30950172,\n",
       "        3296.14837638,  3894.45980897,  8016.45180538,  3733.32769219,\n",
       "        5032.31555943,  3624.2511255 ,  3203.55061066,  4488.6788241 ,\n",
       "        6690.34485178,  6537.56126662,  4382.11227345,  3384.10806897,\n",
       "        5970.57046899,  6226.64667083,  3627.57962504,  2907.42328328,\n",
       "       10441.40012966,  5020.09287261,  3463.22813986,  2880.74072145,\n",
       "        3982.25580486,  3086.39834018,  3172.88476249,  4025.08977428,\n",
       "        8207.59498353,  3417.01110535,  2948.40202344,  3641.98493449,\n",
       "        3790.67610219,  4762.37970379,  2895.58255543,  8618.69195873,\n",
       "        5338.86490993,  8597.02942898,  3840.49446407,  4116.8690565 ,\n",
       "        4299.50000633,  4199.80871702,  5239.88297297,  8526.42158641,\n",
       "        7341.42118682,  6211.69570571,  4611.34221675,  4299.00891624,\n",
       "       12174.29337874,  4965.90926545,  2900.54802195,  3217.19200219,\n",
       "        5127.15051336,  3365.82860432,  5319.33043726,  4252.90101286,\n",
       "        3153.07746199,  3350.22285241,  3649.95150715,  4287.38645065])"
      ]
     },
     "execution_count": 47,
     "metadata": {},
     "output_type": "execute_result"
    }
   ],
   "source": [
    "simple_prediction_model"
   ]
  },
  {
   "cell_type": "markdown",
   "id": "dd0bbc76",
   "metadata": {},
   "source": [
    "We can see from the simple linear regression prediction above as expected, the simple linear model has generated random numeric values that are going to help us to predict and determine the customers' credit card limits.  "
   ]
  },
  {
   "cell_type": "markdown",
   "id": "db091849",
   "metadata": {},
   "source": [
    "## Visualising the correlation"
   ]
  },
  {
   "cell_type": "code",
   "execution_count": 48,
   "id": "b6428486",
   "metadata": {},
   "outputs": [
    {
     "data": {
      "text/plain": [
       "<matplotlib.collections.PathCollection at 0x1c8aeb07940>"
      ]
     },
     "execution_count": 48,
     "metadata": {},
     "output_type": "execute_result"
    }
   ],
   "source": [
    "plt.scatter(y_test, simple_prediction_model)"
   ]
  },
  {
   "cell_type": "code",
   "execution_count": 49,
   "id": "eb599439",
   "metadata": {},
   "outputs": [],
   "source": [
    "# Fit a linear regression model\n",
    "slope, intercept = np.polyfit(y_test, simple_prediction_model, 1)"
   ]
  },
  {
   "cell_type": "code",
   "execution_count": 50,
   "id": "08971073",
   "metadata": {},
   "outputs": [
    {
     "data": {
      "text/plain": [
       "[<matplotlib.lines.Line2D at 0x1c8b51278e0>]"
      ]
     },
     "execution_count": 50,
     "metadata": {},
     "output_type": "execute_result"
    }
   ],
   "source": [
    "# Add the line of best fit\n",
    "plt.plot(simple_prediction_model, slope*simple_prediction_model + intercept, color='red')"
   ]
  },
  {
   "cell_type": "code",
   "execution_count": 79,
   "id": "5d948958",
   "metadata": {},
   "outputs": [
    {
     "data": {
      "image/png": "[encoded data removed]",
      "text/plain": [
       "<Figure size 1080x720 with 1 Axes>"
      ]
     },
     "metadata": {},
     "output_type": "display_data"
    }
   ],
   "source": [
    "plt.figure(figsize=(15,10))\n",
    "plt.scatter(y_test, simple_prediction_model)\n",
    "slope, intercept = np.polyfit(y_test, simple_prediction_model, 1)\n",
    "plt.plot(simple_prediction_model, slope*simple_prediction_model + intercept, color='red')\n",
    "plt.xlabel('Actual')\n",
    "plt.ylabel('Predictied')\n",
    "plt.title('Actual vs Predicted')\n",
    "\n",
    "plt.show()"
   ]
  },
  {
   "cell_type": "code",
   "execution_count": null,
   "id": "763086b7",
   "metadata": {},
   "outputs": [],
   "source": []
  },
  {
   "cell_type": "code",
   "execution_count": 52,
   "id": "69b0a9e6",
   "metadata": {},
   "outputs": [
    {
     "name": "stdout",
     "output_type": "stream",
     "text": [
      "MSE: 1860474.2055559128\n",
      "R-squared: 0.5998357475575693\n"
     ]
    }
   ],
   "source": [
    "print('MSE:', mean_squared_error(y_test, simple_prediction_model))\n",
    "print('R-squared:', r2_score(y_test, simple_prediction_model))"
   ]
  },
  {
   "cell_type": "markdown",
   "id": "cb62a9cf",
   "metadata": {},
   "source": [
    "After having ran the mean square error and r2 score functions, the MSE has shown a percentage of 1860474 of error compared to R-squared which has given a percentage of 0.5998357475575693 correlation between the two variables. Therefore, we can say that both columns have a positve weak correlation compared to the Correlation Matrix box above, which is 0.79.  "
   ]
  },
  {
   "cell_type": "markdown",
   "id": "d55ac084",
   "metadata": {},
   "source": [
    "# "
   ]
  },
  {
   "cell_type": "markdown",
   "id": "2459e062",
   "metadata": {},
   "source": [
    "## Multiple Linear Regression"
   ]
  },
  {
   "cell_type": "markdown",
   "id": "bc39df15",
   "metadata": {},
   "source": [
    "For the multiple linear regression model, it has been decided to use the Income, Rating, Cards, Age columns for our features variables because they have strong correlation with the target column."
   ]
  },
  {
   "cell_type": "code",
   "execution_count": 53,
   "id": "93378716",
   "metadata": {},
   "outputs": [],
   "source": [
    "features = ['Income', 'Rating', 'Cards', 'Age']"
   ]
  },
  {
   "cell_type": "code",
   "execution_count": 54,
   "id": "4428c6f3",
   "metadata": {},
   "outputs": [
    {
     "data": {
      "text/plain": [
       "array([[ 14.891, 283.   ,   2.   ,  34.   ],\n",
       "       [106.025, 483.   ,   3.   ,  82.   ],\n",
       "       [104.593, 514.   ,   4.   ,  71.   ],\n",
       "       ...,\n",
       "       [ 57.872, 321.   ,   5.   ,  67.   ],\n",
       "       [ 37.728, 192.   ,   1.   ,  44.   ],\n",
       "       [ 18.701, 415.   ,   5.   ,  64.   ]])"
      ]
     },
     "execution_count": 54,
     "metadata": {},
     "output_type": "execute_result"
    }
   ],
   "source": [
    "x_data = df1[features].values\n",
    "\n",
    "\n",
    "x_data\n"
   ]
  },
  {
   "cell_type": "code",
   "execution_count": 55,
   "id": "e6b1d3e5",
   "metadata": {},
   "outputs": [
    {
     "data": {
      "text/html": [
       "<div>\n",
       "<style scoped>\n",
       "    .dataframe tbody tr th:only-of-type {\n",
       "        vertical-align: middle;\n",
       "    }\n",
       "\n",
       "    .dataframe tbody tr th {\n",
       "        vertical-align: top;\n",
       "    }\n",
       "\n",
       "    .dataframe thead th {\n",
       "        text-align: right;\n",
       "    }\n",
       "</style>\n",
       "<table border=\"1\" class=\"dataframe\">\n",
       "  <thead>\n",
       "    <tr style=\"text-align: right;\">\n",
       "      <th></th>\n",
       "      <th>Limit</th>\n",
       "    </tr>\n",
       "  </thead>\n",
       "  <tbody>\n",
       "    <tr>\n",
       "      <th>0</th>\n",
       "      <td>3606</td>\n",
       "    </tr>\n",
       "    <tr>\n",
       "      <th>1</th>\n",
       "      <td>6645</td>\n",
       "    </tr>\n",
       "    <tr>\n",
       "      <th>2</th>\n",
       "      <td>7075</td>\n",
       "    </tr>\n",
       "    <tr>\n",
       "      <th>3</th>\n",
       "      <td>9504</td>\n",
       "    </tr>\n",
       "    <tr>\n",
       "      <th>4</th>\n",
       "      <td>4897</td>\n",
       "    </tr>\n",
       "    <tr>\n",
       "      <th>...</th>\n",
       "      <td>...</td>\n",
       "    </tr>\n",
       "    <tr>\n",
       "      <th>395</th>\n",
       "      <td>4100</td>\n",
       "    </tr>\n",
       "    <tr>\n",
       "      <th>396</th>\n",
       "      <td>3838</td>\n",
       "    </tr>\n",
       "    <tr>\n",
       "      <th>397</th>\n",
       "      <td>4171</td>\n",
       "    </tr>\n",
       "    <tr>\n",
       "      <th>398</th>\n",
       "      <td>2525</td>\n",
       "    </tr>\n",
       "    <tr>\n",
       "      <th>399</th>\n",
       "      <td>5524</td>\n",
       "    </tr>\n",
       "  </tbody>\n",
       "</table>\n",
       "<p>400 rows × 1 columns</p>\n",
       "</div>"
      ],
      "text/plain": [
       "     Limit\n",
       "0     3606\n",
       "1     6645\n",
       "2     7075\n",
       "3     9504\n",
       "4     4897\n",
       "..     ...\n",
       "395   4100\n",
       "396   3838\n",
       "397   4171\n",
       "398   2525\n",
       "399   5524\n",
       "\n",
       "[400 rows x 1 columns]"
      ]
     },
     "execution_count": 55,
     "metadata": {},
     "output_type": "execute_result"
    }
   ],
   "source": [
    "limit_scaled= pd.DataFrame(df1[\"Limit\"])\n",
    "\n",
    "limit_scaled"
   ]
  },
  {
   "cell_type": "code",
   "execution_count": 56,
   "id": "6cf4a531",
   "metadata": {},
   "outputs": [
    {
     "data": {
      "text/plain": [
       "array([ 3606,  6645,  7075,  9504,  4897,  8047,  3388,  7114,  3300,\n",
       "        6819,  8117,  1311,  5308,  6922,  3291,  2525,  3714,  4378,\n",
       "        6384,  6626,  2860,  6378,  2631,  5179,  1757,  4323,  3625,\n",
       "        4534, 13414,  5611,  5666,  2733,  7838,  1829,  2646,  2558,\n",
       "        6457,  6481,  3899,  3461,  3327,  7659,  4763,  6257,  6375,\n",
       "        7569,  5043,  4431,  2252,  4569,  5183,  3969,  5441,  5466,\n",
       "        1499,  1786,  4742,  4779,  3480,  5294,  5198,  3089,  1671,\n",
       "        2998,  2937,  4160,  9704,  5099,  5619,  6819,  3954,  7402,\n",
       "        4923,  4523,  5390,  3180,  3293,  3254,  6662,  2101,  3449,\n",
       "        4263,  4433,  1433,  2906, 12066,  6340,  2271,  4307,  7518,\n",
       "        5767,  6040,  2832,  5435,  3075,   855,  5382,  3388,  2963,\n",
       "        8494,  3736,  2433,  7582,  9540,  4768,  3182,  1337,  3189,\n",
       "        6033,  3261,  3271,  2959,  6637,  6386,  3326,  4828,  2117,\n",
       "        9113,  2161,  1410,  1402,  8157,  7056,  1300,  2529,  2531,\n",
       "        5533,  3411,  8376,  3461,  3821,  1568,  5443,  5829,  5835,\n",
       "        3500,  4116,  3613,  2073, 10384,  6045,  6754,  7416,  4896,\n",
       "        2748,  4673,  5110,  1501,  2420,   886,  5728,  4831,  2120,\n",
       "        4612,  3155,  1362,  4284,  5521,  5550,  3000,  4865,  1705,\n",
       "        7530,  2330,  5977,  4527,  2880,  2327,  2820,  6179,  2021,\n",
       "        4270,  4697,  4745, 10673,  2168,  2607,  3965,  4391,  7499,\n",
       "        3584,  5180,  6420,  4090, 11589,  4442,  3806,  2179,  7667,\n",
       "        4411,  5352,  9560,  3933, 10088,  2120,  5384,  7398,  3977,\n",
       "        2000,  4159,  5343,  7333,  1448,  6784,  5310,  3878,  2450,\n",
       "        4391,  4327,  9156,  3206,  5309,  4351,  5245,  5289,  4229,\n",
       "        2762,  5395,  1647,  5222,  5765,  8760,  6207,  4613,  7818,\n",
       "        5673,  6906,  5614,  4668,  7555,  5137,  4776,  4788,  2278,\n",
       "        8244,  2923,  4986,  5149,  2910,  3557,  3351,   906,  1233,\n",
       "        6617,  1787,  2001,  3211,  2220,   905,  1551,  2430,  3202,\n",
       "        8603,  5182,  6386,  4221,  1774,  2493,  2561,  6196,  5184,\n",
       "        9310,  4049,  3536,  5107,  5013,  4952,  5833,  1349,  5565,\n",
       "        3085,  4866,  3690,  4706,  5869,  8732,  3476,  5000,  6982,\n",
       "        3063,  5319,  1852,  8100,  6396,  2047,  1626,  1552,  3098,\n",
       "        5274,  3907,  3235,  3665,  5096, 11200,  2532,  1389,  5140,\n",
       "        4381,  2672,  5051,  4632,  3526,  4964,  4970,  7506,  1924,\n",
       "        3762,  3874,  4640,  7010,  4891,  5429,  5227,  7685,  9272,\n",
       "        3907,  7306,  4712,  1485,  2586,  1160,  3096,  3484, 13913,\n",
       "        2863,  5072, 10230,  6662,  3673,  7576,  4543,  3976,  5228,\n",
       "        3402,  4756,  3409,  5884,   855,  5303, 10278,  3807,  3922,\n",
       "        2955,  3746,  5199,  1511,  5380, 10748,  1134,  5145,  1561,\n",
       "        5140,  7140,  4716,  3873, 11966,  6090,  2539,  4336,  4471,\n",
       "        5891,  4943,  5101,  6127,  9824,  6442,  7871,  3615,  5759,\n",
       "        8028,  6135,  2150,  3782,  5354,  4840,  5673,  7167,  1567,\n",
       "        4941,  2860,  7760,  8029,  5495,  3274,  1870,  5640,  3683,\n",
       "        1357,  6827,  7100, 10578,  6555,  2308,  1335,  5758,  4100,\n",
       "        3838,  4171,  2525,  5524], dtype=int64)"
      ]
     },
     "execution_count": 56,
     "metadata": {},
     "output_type": "execute_result"
    }
   ],
   "source": [
    "# Separating out the target\n",
    "y_data = limit_scaled[\"Limit\"].values\n",
    "y_data"
   ]
  },
  {
   "cell_type": "markdown",
   "id": "b1954151",
   "metadata": {},
   "source": [
    "## "
   ]
  },
  {
   "cell_type": "markdown",
   "id": "cc658870",
   "metadata": {},
   "source": [
    "## Split dataset into training and testing sets¶"
   ]
  },
  {
   "cell_type": "code",
   "execution_count": 57,
   "id": "7a8adc89",
   "metadata": {},
   "outputs": [],
   "source": [
    "X_train, X_test, y_train, y_test = train_test_split(x_data,y_data, test_size=0.3, random_state=42)"
   ]
  },
  {
   "cell_type": "code",
   "execution_count": 58,
   "id": "759f68d5",
   "metadata": {},
   "outputs": [
    {
     "name": "stdout",
     "output_type": "stream",
     "text": [
      "(280, 4) (280,)\n",
      "(120, 4) (120,)\n"
     ]
    }
   ],
   "source": [
    "print(X_train.shape, y_train.shape)\n",
    "print(X_test.shape, y_test.shape)"
   ]
  },
  {
   "cell_type": "code",
   "execution_count": 59,
   "id": "359bcc3d",
   "metadata": {},
   "outputs": [],
   "source": [
    "multiple_linear_model = LinearRegression()"
   ]
  },
  {
   "cell_type": "code",
   "execution_count": 60,
   "id": "b615875b",
   "metadata": {},
   "outputs": [
    {
     "data": {
      "text/plain": [
       "LinearRegression()"
      ]
     },
     "execution_count": 60,
     "metadata": {},
     "output_type": "execute_result"
    }
   ],
   "source": [
    "multiple_linear_model.fit(X_train,y_train)"
   ]
  },
  {
   "cell_type": "code",
   "execution_count": 61,
   "id": "2c19c05b",
   "metadata": {},
   "outputs": [],
   "source": [
    "multiple_prediction = multiple_linear_model.predict(X_test)"
   ]
  },
  {
   "cell_type": "code",
   "execution_count": 62,
   "id": "16bbbe7c",
   "metadata": {},
   "outputs": [
    {
     "data": {
      "text/plain": [
       "array([ 9072.27332771,  5053.21556633,  1771.49182325,  3134.47172013,\n",
       "        5298.02270689,  2818.09204402,  7361.23768618,  3085.72682689,\n",
       "        4722.83727414,  5746.41591322,  6752.92706393,  4904.88227694,\n",
       "        4683.22729212,  4880.58131428,  5433.2817165 ,  4744.05058397,\n",
       "        7223.73785658,  7183.41069162,  4998.0971095 ,  5373.76939082,\n",
       "        3356.24227365,  2418.06036138,  6543.6114804 ,  4755.5957307 ,\n",
       "        3731.0450909 ,  3704.28595986,  3358.09168979,  5492.62481548,\n",
       "        4003.46611983,  4807.79664243,  4015.12246001, 10012.45120041,\n",
       "        9333.78249542,  4827.7698388 ,  4955.83782571,  2206.70519544,\n",
       "        6423.76123357,  3163.96437769,  5567.22164714,  6703.6153796 ,\n",
       "        8065.29559418,  1803.72236349,  3328.01715061,  4148.57095415,\n",
       "        4568.32128577,  5685.37737466,  2375.2053966 ,  5133.32061853,\n",
       "        2612.54664429,  4494.80259463,  5121.66998284,  3026.71184102,\n",
       "        5205.58784067,  4106.26501171,  4926.84032574,  3299.41026058,\n",
       "        4419.13596787,  4483.84639376,  5520.73102882,  2097.66029806,\n",
       "        2443.75390835,  2412.59514892,  3963.59081528,  6402.57980806,\n",
       "        2270.27510257,  2415.23969846,  7060.43875365,  1478.45621309,\n",
       "        5472.46484398,  4401.15574282,  1315.57667145,  6279.92875711,\n",
       "        7844.63171085,  7842.7057064 ,  6702.68603546,  3314.33860421,\n",
       "        5843.28022766,  8367.02640329,  2654.05484818,  3925.55133915,\n",
       "        9575.64865507,  6262.83223602,  1671.3007208 ,  2359.17930808,\n",
       "        5838.03949317,  3107.69576469,   968.60003417,  3743.37078022,\n",
       "        6046.4438144 ,  5791.61247286,  2226.72167597,  3534.22001087,\n",
       "        2012.08321319,  5952.36741599,  3675.27270906,  9285.98054552,\n",
       "        5217.27516544,  7450.54571422,  3504.74778976,  2846.16261871,\n",
       "        2235.28270681,  3162.09609827,  3697.66163949,  9701.68101283,\n",
       "        4553.12766438,  7145.22172145,  6653.90401463,  3503.27994223,\n",
       "       11901.40628051,  5236.50905689,  1702.02226687,  1314.10012699,\n",
       "        5172.64316233,  3642.74994029,  4220.14731417,  4936.97818364,\n",
       "        2061.22047134,  1834.42066884,  1968.62722137,  2159.13659328])"
      ]
     },
     "execution_count": 62,
     "metadata": {},
     "output_type": "execute_result"
    }
   ],
   "source": [
    "multiple_prediction"
   ]
  },
  {
   "cell_type": "code",
   "execution_count": 80,
   "id": "418f8f4a",
   "metadata": {},
   "outputs": [
    {
     "data": {
      "image/png": "[encoded data removed]",
      "text/plain": [
       "<Figure size 1080x720 with 1 Axes>"
      ]
     },
     "metadata": {},
     "output_type": "display_data"
    }
   ],
   "source": [
    "plt.figure(figsize=(15,10))\n",
    "plt.scatter(y_test, multiple_prediction)\n",
    "slope, intercept = np.polyfit(y_test, multiple_prediction, 1)\n",
    "plt.plot(multiple_prediction, slope*multiple_prediction + intercept, color='red')\n",
    "plt.xlabel('Actual')\n",
    "plt.ylabel('Predictied')\n",
    "plt.title('Actual vs Predicted')\n",
    "\n",
    "plt.show()"
   ]
  },
  {
   "cell_type": "code",
   "execution_count": 65,
   "id": "fa85a775",
   "metadata": {},
   "outputs": [
    {
     "name": "stdout",
     "output_type": "stream",
     "text": [
      "MSE: 21166.234887454717\n",
      "R-squared: 0.995447413065193\n"
     ]
    }
   ],
   "source": [
    "print('MSE:', mean_squared_error(y_test, multiple_prediction))\n",
    "print('R-squared:', r2_score(y_test, multiple_prediction))"
   ]
  },
  {
   "cell_type": "markdown",
   "id": "abae037b",
   "metadata": {},
   "source": [
    "The multiple linear regresssion has shown a positive strong correlation compared to the simple linear regression which is 0.5998357475575693 as we can see above. The MSE has shown 21166.234887454717, following the r2-score with 0.995447413065193. Therefore, it appears that the multiple linear regression is a better model compared to simple linear regression.    \n",
    " "
   ]
  },
  {
   "cell_type": "markdown",
   "id": "d792e743",
   "metadata": {},
   "source": [
    "# "
   ]
  },
  {
   "cell_type": "markdown",
   "id": "6c1ef9ac",
   "metadata": {},
   "source": [
    "# Decision Tree Regression"
   ]
  },
  {
   "cell_type": "markdown",
   "id": "5172e014",
   "metadata": {},
   "source": [
    "For the decision tree regression model, it has been decided to use all the columns for our features variables because they included the negative and strong correlated columns that can be used for our machine learning building process."
   ]
  },
  {
   "cell_type": "code",
   "execution_count": 66,
   "id": "18267fe6",
   "metadata": {},
   "outputs": [
    {
     "data": {
      "text/plain": [
       "Index(['Income', 'Limit', 'Rating', 'Cards', 'Age', 'Education', 'Ethnicity',\n",
       "       'Balance', 'Gender_Male', 'Student_Yes', 'Married_Yes'],\n",
       "      dtype='object')"
      ]
     },
     "execution_count": 66,
     "metadata": {},
     "output_type": "execute_result"
    }
   ],
   "source": [
    "df1.columns"
   ]
  },
  {
   "cell_type": "code",
   "execution_count": 67,
   "id": "a04c576a",
   "metadata": {},
   "outputs": [],
   "source": [
    "features = ['Income', 'Rating', 'Cards', 'Age','Education', 'Ethnicity',\n",
    "       'Balance', 'Gender_Male', 'Student_Yes', 'Married_Yes']"
   ]
  },
  {
   "cell_type": "code",
   "execution_count": 68,
   "id": "8821d0d7",
   "metadata": {},
   "outputs": [
    {
     "data": {
      "text/plain": [
       "array([[ 14.891, 283.   ,   2.   , ...,   1.   ,   0.   ,   1.   ],\n",
       "       [106.025, 483.   ,   3.   , ...,   0.   ,   1.   ,   1.   ],\n",
       "       [104.593, 514.   ,   4.   , ...,   1.   ,   0.   ,   0.   ],\n",
       "       ...,\n",
       "       [ 57.872, 321.   ,   5.   , ...,   0.   ,   0.   ,   1.   ],\n",
       "       [ 37.728, 192.   ,   1.   , ...,   1.   ,   0.   ,   1.   ],\n",
       "       [ 18.701, 415.   ,   5.   , ...,   0.   ,   0.   ,   0.   ]])"
      ]
     },
     "execution_count": 68,
     "metadata": {},
     "output_type": "execute_result"
    }
   ],
   "source": [
    "x_data = df1[features].values\n",
    "\n",
    "\n",
    "x_data"
   ]
  },
  {
   "cell_type": "code",
   "execution_count": 69,
   "id": "f8b1503f",
   "metadata": {},
   "outputs": [
    {
     "data": {
      "text/html": [
       "<div>\n",
       "<style scoped>\n",
       "    .dataframe tbody tr th:only-of-type {\n",
       "        vertical-align: middle;\n",
       "    }\n",
       "\n",
       "    .dataframe tbody tr th {\n",
       "        vertical-align: top;\n",
       "    }\n",
       "\n",
       "    .dataframe thead th {\n",
       "        text-align: right;\n",
       "    }\n",
       "</style>\n",
       "<table border=\"1\" class=\"dataframe\">\n",
       "  <thead>\n",
       "    <tr style=\"text-align: right;\">\n",
       "      <th></th>\n",
       "      <th>Limit</th>\n",
       "    </tr>\n",
       "  </thead>\n",
       "  <tbody>\n",
       "    <tr>\n",
       "      <th>0</th>\n",
       "      <td>3606</td>\n",
       "    </tr>\n",
       "    <tr>\n",
       "      <th>1</th>\n",
       "      <td>6645</td>\n",
       "    </tr>\n",
       "    <tr>\n",
       "      <th>2</th>\n",
       "      <td>7075</td>\n",
       "    </tr>\n",
       "    <tr>\n",
       "      <th>3</th>\n",
       "      <td>9504</td>\n",
       "    </tr>\n",
       "    <tr>\n",
       "      <th>4</th>\n",
       "      <td>4897</td>\n",
       "    </tr>\n",
       "    <tr>\n",
       "      <th>...</th>\n",
       "      <td>...</td>\n",
       "    </tr>\n",
       "    <tr>\n",
       "      <th>395</th>\n",
       "      <td>4100</td>\n",
       "    </tr>\n",
       "    <tr>\n",
       "      <th>396</th>\n",
       "      <td>3838</td>\n",
       "    </tr>\n",
       "    <tr>\n",
       "      <th>397</th>\n",
       "      <td>4171</td>\n",
       "    </tr>\n",
       "    <tr>\n",
       "      <th>398</th>\n",
       "      <td>2525</td>\n",
       "    </tr>\n",
       "    <tr>\n",
       "      <th>399</th>\n",
       "      <td>5524</td>\n",
       "    </tr>\n",
       "  </tbody>\n",
       "</table>\n",
       "<p>400 rows × 1 columns</p>\n",
       "</div>"
      ],
      "text/plain": [
       "     Limit\n",
       "0     3606\n",
       "1     6645\n",
       "2     7075\n",
       "3     9504\n",
       "4     4897\n",
       "..     ...\n",
       "395   4100\n",
       "396   3838\n",
       "397   4171\n",
       "398   2525\n",
       "399   5524\n",
       "\n",
       "[400 rows x 1 columns]"
      ]
     },
     "execution_count": 69,
     "metadata": {},
     "output_type": "execute_result"
    }
   ],
   "source": [
    "limit_scaled= pd.DataFrame(df1[\"Limit\"])\n",
    "\n",
    "limit_scaled"
   ]
  },
  {
   "cell_type": "code",
   "execution_count": 70,
   "id": "7bd387db",
   "metadata": {},
   "outputs": [
    {
     "data": {
      "text/plain": [
       "array([ 3606,  6645,  7075,  9504,  4897,  8047,  3388,  7114,  3300,\n",
       "        6819,  8117,  1311,  5308,  6922,  3291,  2525,  3714,  4378,\n",
       "        6384,  6626,  2860,  6378,  2631,  5179,  1757,  4323,  3625,\n",
       "        4534, 13414,  5611,  5666,  2733,  7838,  1829,  2646,  2558,\n",
       "        6457,  6481,  3899,  3461,  3327,  7659,  4763,  6257,  6375,\n",
       "        7569,  5043,  4431,  2252,  4569,  5183,  3969,  5441,  5466,\n",
       "        1499,  1786,  4742,  4779,  3480,  5294,  5198,  3089,  1671,\n",
       "        2998,  2937,  4160,  9704,  5099,  5619,  6819,  3954,  7402,\n",
       "        4923,  4523,  5390,  3180,  3293,  3254,  6662,  2101,  3449,\n",
       "        4263,  4433,  1433,  2906, 12066,  6340,  2271,  4307,  7518,\n",
       "        5767,  6040,  2832,  5435,  3075,   855,  5382,  3388,  2963,\n",
       "        8494,  3736,  2433,  7582,  9540,  4768,  3182,  1337,  3189,\n",
       "        6033,  3261,  3271,  2959,  6637,  6386,  3326,  4828,  2117,\n",
       "        9113,  2161,  1410,  1402,  8157,  7056,  1300,  2529,  2531,\n",
       "        5533,  3411,  8376,  3461,  3821,  1568,  5443,  5829,  5835,\n",
       "        3500,  4116,  3613,  2073, 10384,  6045,  6754,  7416,  4896,\n",
       "        2748,  4673,  5110,  1501,  2420,   886,  5728,  4831,  2120,\n",
       "        4612,  3155,  1362,  4284,  5521,  5550,  3000,  4865,  1705,\n",
       "        7530,  2330,  5977,  4527,  2880,  2327,  2820,  6179,  2021,\n",
       "        4270,  4697,  4745, 10673,  2168,  2607,  3965,  4391,  7499,\n",
       "        3584,  5180,  6420,  4090, 11589,  4442,  3806,  2179,  7667,\n",
       "        4411,  5352,  9560,  3933, 10088,  2120,  5384,  7398,  3977,\n",
       "        2000,  4159,  5343,  7333,  1448,  6784,  5310,  3878,  2450,\n",
       "        4391,  4327,  9156,  3206,  5309,  4351,  5245,  5289,  4229,\n",
       "        2762,  5395,  1647,  5222,  5765,  8760,  6207,  4613,  7818,\n",
       "        5673,  6906,  5614,  4668,  7555,  5137,  4776,  4788,  2278,\n",
       "        8244,  2923,  4986,  5149,  2910,  3557,  3351,   906,  1233,\n",
       "        6617,  1787,  2001,  3211,  2220,   905,  1551,  2430,  3202,\n",
       "        8603,  5182,  6386,  4221,  1774,  2493,  2561,  6196,  5184,\n",
       "        9310,  4049,  3536,  5107,  5013,  4952,  5833,  1349,  5565,\n",
       "        3085,  4866,  3690,  4706,  5869,  8732,  3476,  5000,  6982,\n",
       "        3063,  5319,  1852,  8100,  6396,  2047,  1626,  1552,  3098,\n",
       "        5274,  3907,  3235,  3665,  5096, 11200,  2532,  1389,  5140,\n",
       "        4381,  2672,  5051,  4632,  3526,  4964,  4970,  7506,  1924,\n",
       "        3762,  3874,  4640,  7010,  4891,  5429,  5227,  7685,  9272,\n",
       "        3907,  7306,  4712,  1485,  2586,  1160,  3096,  3484, 13913,\n",
       "        2863,  5072, 10230,  6662,  3673,  7576,  4543,  3976,  5228,\n",
       "        3402,  4756,  3409,  5884,   855,  5303, 10278,  3807,  3922,\n",
       "        2955,  3746,  5199,  1511,  5380, 10748,  1134,  5145,  1561,\n",
       "        5140,  7140,  4716,  3873, 11966,  6090,  2539,  4336,  4471,\n",
       "        5891,  4943,  5101,  6127,  9824,  6442,  7871,  3615,  5759,\n",
       "        8028,  6135,  2150,  3782,  5354,  4840,  5673,  7167,  1567,\n",
       "        4941,  2860,  7760,  8029,  5495,  3274,  1870,  5640,  3683,\n",
       "        1357,  6827,  7100, 10578,  6555,  2308,  1335,  5758,  4100,\n",
       "        3838,  4171,  2525,  5524], dtype=int64)"
      ]
     },
     "execution_count": 70,
     "metadata": {},
     "output_type": "execute_result"
    }
   ],
   "source": [
    "# Separating out the target\n",
    "y_data = limit_scaled[\"Limit\"].values\n",
    "y_data"
   ]
  },
  {
   "cell_type": "markdown",
   "id": "27794ad5",
   "metadata": {},
   "source": [
    "## Split dataset into training and testing sets"
   ]
  },
  {
   "cell_type": "code",
   "execution_count": 71,
   "id": "15fe5a01",
   "metadata": {},
   "outputs": [],
   "source": [
    "X_train, X_test, y_train, y_test = train_test_split(x_data,y_data, test_size=0.3, random_state=42)"
   ]
  },
  {
   "cell_type": "code",
   "execution_count": 72,
   "id": "508f6de5",
   "metadata": {
    "scrolled": true
   },
   "outputs": [
    {
     "name": "stdout",
     "output_type": "stream",
     "text": [
      "(280, 10) (280,)\n",
      "(120, 10) (120,)\n"
     ]
    }
   ],
   "source": [
    "print(X_train.shape, y_train.shape)\n",
    "print(X_test.shape, y_test.shape)"
   ]
  },
  {
   "cell_type": "code",
   "execution_count": 73,
   "id": "df04cb8c",
   "metadata": {},
   "outputs": [],
   "source": [
    "decision_model = DecisionTreeRegressor()"
   ]
  },
  {
   "cell_type": "code",
   "execution_count": 74,
   "id": "46fd1eec",
   "metadata": {},
   "outputs": [
    {
     "data": {
      "text/plain": [
       "DecisionTreeRegressor()"
      ]
     },
     "execution_count": 74,
     "metadata": {},
     "output_type": "execute_result"
    }
   ],
   "source": [
    "decision_model.fit(X_train,y_train)"
   ]
  },
  {
   "cell_type": "code",
   "execution_count": 75,
   "id": "774ac2df",
   "metadata": {},
   "outputs": [],
   "source": [
    "decision_prediction_model = decision_model.predict(X_test)"
   ]
  },
  {
   "cell_type": "code",
   "execution_count": 76,
   "id": "eb1bdc1f",
   "metadata": {},
   "outputs": [
    {
     "data": {
      "text/plain": [
       "array([ 8732.,  5110.,  1501.,  2959.,  5274.,  2832.,  7659.,  2963.,\n",
       "        4831.,  5829.,  6645.,  4897.,  5228.,  4632.,  5466.,  4673.,\n",
       "        7416.,  7398.,  5183.,  5429.,  3476.,  2330.,  6378.,  4712.,\n",
       "        3480.,  3922.,  3182.,  5390.,  4270.,  4391.,  3899.,  9560.,\n",
       "        9824.,  4831.,  5072.,  2001.,  5835.,  3388.,  5289.,  7056.,\n",
       "        8157.,  1561.,  3000.,  4160.,  4831.,  5466.,  2308.,  5013.,\n",
       "        2748.,  4378.,  5110.,  2963.,  5183.,  4229.,  4831.,  3736.,\n",
       "        4828.,  4831.,  5619.,  2120.,  2531.,  2330.,  3806.,  6090.,\n",
       "        2001.,  2330.,  7100.,  1774.,  5466.,  4160.,  1335.,  6135.,\n",
       "        7871.,  7871.,  6645.,  3182.,  5977.,  8100.,  2586.,  3899.,\n",
       "        9540.,  6617.,  1433.,  2525.,  5829.,  2860.,   855.,  3762.,\n",
       "        6090.,  5829.,  2001.,  3098.,  2000.,  5829.,  3922.,  8760.,\n",
       "        5352.,  7416.,  3182.,  2880.,  2001.,  2923.,  3933.,  9560.,\n",
       "        4527.,  7100.,  7056.,  3098., 12066.,  5352.,  1389.,  1485.,\n",
       "        5101.,  3933.,  4378.,  4891.,  2150.,  1561.,  2179.,  2120.])"
      ]
     },
     "execution_count": 76,
     "metadata": {},
     "output_type": "execute_result"
    }
   ],
   "source": [
    "decision_prediction_model"
   ]
  },
  {
   "cell_type": "code",
   "execution_count": 81,
   "id": "1f185f45",
   "metadata": {},
   "outputs": [
    {
     "data": {
      "image/png": "[encoded data removed]",
      "text/plain": [
       "<Figure size 1080x720 with 1 Axes>"
      ]
     },
     "metadata": {},
     "output_type": "display_data"
    }
   ],
   "source": [
    "plt.figure(figsize=(15,10))\n",
    "plt.scatter(y_test, decision_prediction_model)\n",
    "slope, intercept = np.polyfit(y_test, decision_prediction_model, 1)\n",
    "plt.plot(decision_prediction_model, slope*decision_prediction_model + intercept, color='red')\n",
    "plt.xlabel('Actual')\n",
    "plt.ylabel('Predictied')\n",
    "plt.title('Actual vs Predicted')\n",
    "\n",
    "plt.show()"
   ]
  },
  {
   "cell_type": "code",
   "execution_count": 82,
   "id": "594856c9",
   "metadata": {},
   "outputs": [
    {
     "name": "stdout",
     "output_type": "stream",
     "text": [
      "MSE: 64380.50833333333\n",
      "R-squared: 0.9861525744822814\n"
     ]
    }
   ],
   "source": [
    "print('MSE:', mean_squared_error(y_test, decision_prediction_model))\n",
    "print('R-squared:', r2_score(y_test, decision_prediction_model))"
   ]
  },
  {
   "cell_type": "markdown",
   "id": "7827c1cd",
   "metadata": {},
   "source": [
    "# Model evaluation using performance metrics¶"
   ]
  },
  {
   "cell_type": "markdown",
   "id": "5b1d90ae",
   "metadata": {},
   "source": [
    "I selected several metrics for evaluating the performance of the simple regression, multiple regression, and decision tree regression models. These metrics are the coefficient of determination (R-squared), mean squared error (MSE), and mean absolute error (MAE). R-squared quantifies the fraction of the target variable's variance that the predictor variable accounts for, whereas MSE and MAE measure the average discrepancy between the predicted and actual values.\n",
    "In general, a higher R-squared and lower MSE and MAE values suggest that the model has a better performance.\n"
   ]
  },
  {
   "cell_type": "code",
   "execution_count": null,
   "id": "6b20cd89",
   "metadata": {},
   "outputs": [],
   "source": []
  },
  {
   "cell_type": "markdown",
   "id": "91084b12",
   "metadata": {},
   "source": [
    "# Model Comparison"
   ]
  },
  {
   "cell_type": "markdown",
   "id": "5f8f1897",
   "metadata": {},
   "source": [
    "As we can see from the scatter graphs above, the multiple linear regression and the decision regression models have shown a positive strong correlation, compared to the simple linear regression which has its variables grouped at bottom left of the graph and the spreading up right. Furthermore, the multiple linear regression and the decision tree models have shown higher R-squared of 0.99 and 0.98, following the liner regression model with the lowest R-squared of 0.60. Therefore, The Multiple Linear Regression Model is the winner as the results are higher for R-Squared and lower for MAE. Also, the Multiple Linear Regression model is performing the best with the Cross-Validation results."
   ]
  }
 ],
 "metadata": {
  "kernelspec": {
   "display_name": "Python 3 (ipykernel)",
   "language": "python",
   "name": "python3"
  },
  "language_info": {
   "codemirror_mode": {
    "name": "ipython",
    "version": 3
   },
   "file_extension": ".py",
   "mimetype": "text/x-python",
   "name": "python",
   "nbconvert_exporter": "python",
   "pygments_lexer": "ipython3",
   "version": "3.9.12"
  }
 },
 "nbformat": 4,
 "nbformat_minor": 5
}
