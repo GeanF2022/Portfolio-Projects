{
 "cells": [
  {
   "cell_type": "code",
   "execution_count": 2,
   "id": "ed345e22",
   "metadata": {},
   "outputs": [],
   "source": [
    "from sklearn.impute import SimpleImputer\n",
    "\n",
    "import pandas as pd \n",
    "import numpy as np\n",
    "\n",
    "import seaborn as sns\n",
    "\n",
    "import matplotlib.pyplot as plt\n",
    "import sklearn.linear_model"
   ]
  },
  {
   "cell_type": "code",
   "execution_count": null,
   "id": "66475b6e",
   "metadata": {},
   "outputs": [],
   "source": [
    "pip install seaborn"
   ]
  },
  {
   "cell_type": "code",
   "execution_count": null,
   "id": "1efda787",
   "metadata": {},
   "outputs": [],
   "source": [
    "!pip install pyod  "
   ]
  },
  {
   "cell_type": "code",
   "execution_count": null,
   "id": "0c054e1a",
   "metadata": {},
   "outputs": [],
   "source": [
    "pip install flask"
   ]
  },
  {
   "cell_type": "markdown",
   "id": "5bd897ac",
   "metadata": {},
   "source": [
    "# "
   ]
  },
  {
   "cell_type": "markdown",
   "id": "1ea46566",
   "metadata": {},
   "source": [
    "# Q1. Problem identification:"
   ]
  },
  {
   "cell_type": "markdown",
   "id": "89f1a396",
   "metadata": {},
   "source": [
    "This dataset is related to the official Irish homelessness data from 2019 to 2021, which was published by the (Data.Gov.ie). These data have been sourced by the local authorities nationwide and its mainly focus are referred to the number of homelessness people in Ireland who have used accommodation, such as(Supported Temporary, Temporary Emergency and Other Accommodation).These accommodation have been funded and maintained by the housing authorities around the country. Therefore, after have done it  a depth analysis through this dataset, I will be able to extract insight and useful information about the most updated numbers of homelessness cases.\n",
    "\n",
    "\n",
    "\n",
    "\n",
    "\n",
    "\n"
   ]
  },
  {
   "cell_type": "markdown",
   "id": "822f2b83",
   "metadata": {},
   "source": [
    "## Feature descriptions\n",
    "\n",
    "    1.Region: Location where the accommadation are based\n",
    "    2.Total Adults: Total numbers of adults who have used accommodation\n",
    "    3.Male Adults: Numbers of males adults who have used accommodation\n",
    "    4.Female Adults: Numbers females adults who have used accommodation\n",
    "    5.Adults Aged 18-24: Age group from 18 to 24 who have used accommodation\n",
    "    6.Adults Aged 25-44: Age group from 25 to 44 who have used accommodation\n",
    "    7.Adults Aged 45-64: Age group from 45 to 64 who have used accommodation\n",
    "    8.Adults Aged 65+: Age group from 65 and over who have used accommodation\n",
    "    9.Number of people who accessed Private Emergency Accommodation\n",
    "    10.Number of people who accessed Supported Temporary Accommodation\n",
    "    11.Number of people who accessed Temporary Emergency Accommodation\n",
    "    12.Number of people who accessed Other Accommodation\n",
    "    13.Number of Families\n",
    "    14.Number of Adults in Families\n",
    "    15.Number of Single-Parent families\n",
    "    16.Number of Dependants in Families\n",
    "    17.Month\t\n",
    "    18.Year\n",
    "    19.Number of Child Dependants in Families\n"
   ]
  },
  {
   "cell_type": "markdown",
   "id": "7248f2e8",
   "metadata": {},
   "source": [
    "# "
   ]
  },
  {
   "cell_type": "markdown",
   "id": "75be12da",
   "metadata": {},
   "source": [
    "# Q2. Import data¶"
   ]
  },
  {
   "cell_type": "code",
   "execution_count": 3,
   "id": "0aa14bba",
   "metadata": {},
   "outputs": [],
   "source": [
    "data = pd.read_csv(\"Homeless_Ireland.csv\")"
   ]
  },
  {
   "cell_type": "code",
   "execution_count": 4,
   "id": "16951e07",
   "metadata": {},
   "outputs": [
    {
     "data": {
      "text/html": [
       "<div>\n",
       "<style scoped>\n",
       "    .dataframe tbody tr th:only-of-type {\n",
       "        vertical-align: middle;\n",
       "    }\n",
       "\n",
       "    .dataframe tbody tr th {\n",
       "        vertical-align: top;\n",
       "    }\n",
       "\n",
       "    .dataframe thead th {\n",
       "        text-align: right;\n",
       "    }\n",
       "</style>\n",
       "<table border=\"1\" class=\"dataframe\">\n",
       "  <thead>\n",
       "    <tr style=\"text-align: right;\">\n",
       "      <th></th>\n",
       "      <th>Region</th>\n",
       "      <th>Total Adults</th>\n",
       "      <th>Male Adults</th>\n",
       "      <th>Female Adults</th>\n",
       "      <th>Adults Aged 18-24</th>\n",
       "      <th>Adults Aged 25-44</th>\n",
       "      <th>Adults Aged 45-64</th>\n",
       "      <th>Adults Aged 65+</th>\n",
       "      <th>Number of people who accessed Private Emergency Accommodation</th>\n",
       "      <th>Number of people who accessed Supported Temporary Accommodation</th>\n",
       "      <th>Number of people who accessed Temporary Emergency Accommodation</th>\n",
       "      <th>Number of people who accessed Other Accommodation</th>\n",
       "      <th>Number of Families</th>\n",
       "      <th>Number of Adults in Families</th>\n",
       "      <th>Number of Single-Parent families</th>\n",
       "      <th>Number of Dependants in Families</th>\n",
       "      <th>Month</th>\n",
       "      <th>Year</th>\n",
       "      <th>Number of Child Dependants in Families</th>\n",
       "    </tr>\n",
       "  </thead>\n",
       "  <tbody>\n",
       "    <tr>\n",
       "      <th>0</th>\n",
       "      <td>Dublin</td>\n",
       "      <td>4175.0</td>\n",
       "      <td>2724.0</td>\n",
       "      <td>1451.0</td>\n",
       "      <td>485</td>\n",
       "      <td>2397.0</td>\n",
       "      <td>1225.0</td>\n",
       "      <td>68</td>\n",
       "      <td>2372.0</td>\n",
       "      <td>1858.0</td>\n",
       "      <td>33</td>\n",
       "      <td>0</td>\n",
       "      <td>742</td>\n",
       "      <td>1121.0</td>\n",
       "      <td>363.0</td>\n",
       "      <td>1823.0</td>\n",
       "      <td>January</td>\n",
       "      <td>2021</td>\n",
       "      <td>NaN</td>\n",
       "    </tr>\n",
       "    <tr>\n",
       "      <th>1</th>\n",
       "      <td>Mid-East</td>\n",
       "      <td>329.0</td>\n",
       "      <td>218.0</td>\n",
       "      <td>111.0</td>\n",
       "      <td>51</td>\n",
       "      <td>172.0</td>\n",
       "      <td>95.0</td>\n",
       "      <td>11</td>\n",
       "      <td>206.0</td>\n",
       "      <td>120.0</td>\n",
       "      <td>3</td>\n",
       "      <td>0</td>\n",
       "      <td>59</td>\n",
       "      <td>81.0</td>\n",
       "      <td>37.0</td>\n",
       "      <td>152.0</td>\n",
       "      <td>January</td>\n",
       "      <td>2021</td>\n",
       "      <td>NaN</td>\n",
       "    </tr>\n",
       "    <tr>\n",
       "      <th>2</th>\n",
       "      <td>Midlands</td>\n",
       "      <td>66.0</td>\n",
       "      <td>36.0</td>\n",
       "      <td>30.0</td>\n",
       "      <td>17</td>\n",
       "      <td>30.0</td>\n",
       "      <td>17.0</td>\n",
       "      <td>2</td>\n",
       "      <td>39.0</td>\n",
       "      <td>11.0</td>\n",
       "      <td>16</td>\n",
       "      <td>0</td>\n",
       "      <td>14</td>\n",
       "      <td>15.0</td>\n",
       "      <td>13.0</td>\n",
       "      <td>31.0</td>\n",
       "      <td>January</td>\n",
       "      <td>2021</td>\n",
       "      <td>NaN</td>\n",
       "    </tr>\n",
       "    <tr>\n",
       "      <th>3</th>\n",
       "      <td>Mid-West</td>\n",
       "      <td>295.0</td>\n",
       "      <td>200.0</td>\n",
       "      <td>95.0</td>\n",
       "      <td>29</td>\n",
       "      <td>181.0</td>\n",
       "      <td>80.0</td>\n",
       "      <td>5</td>\n",
       "      <td>71.0</td>\n",
       "      <td>190.0</td>\n",
       "      <td>34</td>\n",
       "      <td>0</td>\n",
       "      <td>29</td>\n",
       "      <td>37.0</td>\n",
       "      <td>21.0</td>\n",
       "      <td>45.0</td>\n",
       "      <td>January</td>\n",
       "      <td>2021</td>\n",
       "      <td>NaN</td>\n",
       "    </tr>\n",
       "    <tr>\n",
       "      <th>4</th>\n",
       "      <td>North-East</td>\n",
       "      <td>85.0</td>\n",
       "      <td>66.0</td>\n",
       "      <td>19.0</td>\n",
       "      <td>12</td>\n",
       "      <td>43.0</td>\n",
       "      <td>22.0</td>\n",
       "      <td>8</td>\n",
       "      <td>25.0</td>\n",
       "      <td>38.0</td>\n",
       "      <td>22</td>\n",
       "      <td>0</td>\n",
       "      <td>1</td>\n",
       "      <td>2.0</td>\n",
       "      <td>0.0</td>\n",
       "      <td>1.0</td>\n",
       "      <td>January</td>\n",
       "      <td>2021</td>\n",
       "      <td>NaN</td>\n",
       "    </tr>\n",
       "  </tbody>\n",
       "</table>\n",
       "</div>"
      ],
      "text/plain": [
       "       Region  Total Adults  Male Adults  Female Adults  Adults Aged 18-24  \\\n",
       "0      Dublin        4175.0       2724.0         1451.0                485   \n",
       "1    Mid-East         329.0        218.0          111.0                 51   \n",
       "2    Midlands          66.0         36.0           30.0                 17   \n",
       "3    Mid-West         295.0        200.0           95.0                 29   \n",
       "4  North-East          85.0         66.0           19.0                 12   \n",
       "\n",
       "   Adults Aged 25-44  Adults Aged 45-64  Adults Aged 65+  \\\n",
       "0             2397.0             1225.0               68   \n",
       "1              172.0               95.0               11   \n",
       "2               30.0               17.0                2   \n",
       "3              181.0               80.0                5   \n",
       "4               43.0               22.0                8   \n",
       "\n",
       "   Number of people who accessed Private Emergency Accommodation  \\\n",
       "0                                             2372.0               \n",
       "1                                              206.0               \n",
       "2                                               39.0               \n",
       "3                                               71.0               \n",
       "4                                               25.0               \n",
       "\n",
       "   Number of people who accessed Supported Temporary Accommodation  \\\n",
       "0                                             1858.0                 \n",
       "1                                              120.0                 \n",
       "2                                               11.0                 \n",
       "3                                              190.0                 \n",
       "4                                               38.0                 \n",
       "\n",
       "   Number of people who accessed Temporary Emergency Accommodation  \\\n",
       "0                                                 33                 \n",
       "1                                                  3                 \n",
       "2                                                 16                 \n",
       "3                                                 34                 \n",
       "4                                                 22                 \n",
       "\n",
       "   Number of people who accessed Other Accommodation  Number of Families  \\\n",
       "0                                                  0                 742   \n",
       "1                                                  0                  59   \n",
       "2                                                  0                  14   \n",
       "3                                                  0                  29   \n",
       "4                                                  0                   1   \n",
       "\n",
       "   Number of Adults in Families  Number of Single-Parent families  \\\n",
       "0                        1121.0                             363.0   \n",
       "1                          81.0                              37.0   \n",
       "2                          15.0                              13.0   \n",
       "3                          37.0                              21.0   \n",
       "4                           2.0                               0.0   \n",
       "\n",
       "   Number of Dependants in Families    Month  Year  \\\n",
       "0                            1823.0  January  2021   \n",
       "1                             152.0  January  2021   \n",
       "2                              31.0  January  2021   \n",
       "3                              45.0  January  2021   \n",
       "4                               1.0  January  2021   \n",
       "\n",
       "  Number of Child Dependants in Families  \n",
       "0                                    NaN  \n",
       "1                                    NaN  \n",
       "2                                    NaN  \n",
       "3                                    NaN  \n",
       "4                                    NaN  "
      ]
     },
     "execution_count": 4,
     "metadata": {},
     "output_type": "execute_result"
    }
   ],
   "source": [
    "data.head()"
   ]
  },
  {
   "cell_type": "code",
   "execution_count": 5,
   "id": "d33abf78",
   "metadata": {},
   "outputs": [
    {
     "data": {
      "text/plain": [
       "(288, 19)"
      ]
     },
     "execution_count": 5,
     "metadata": {},
     "output_type": "execute_result"
    }
   ],
   "source": [
    "data.shape"
   ]
  },
  {
   "cell_type": "code",
   "execution_count": 6,
   "id": "02bf8405",
   "metadata": {},
   "outputs": [
    {
     "name": "stdout",
     "output_type": "stream",
     "text": [
      "<class 'pandas.core.frame.DataFrame'>\n",
      "RangeIndex: 288 entries, 0 to 287\n",
      "Data columns (total 19 columns):\n",
      " #   Column                                                           Non-Null Count  Dtype  \n",
      "---  ------                                                           --------------  -----  \n",
      " 0   Region                                                           288 non-null    object \n",
      " 1   Total Adults                                                     288 non-null    float64\n",
      " 2   Male Adults                                                      288 non-null    float64\n",
      " 3   Female Adults                                                    288 non-null    float64\n",
      " 4   Adults Aged 18-24                                                288 non-null    int64  \n",
      " 5   Adults Aged 25-44                                                288 non-null    float64\n",
      " 6   Adults Aged 45-64                                                288 non-null    float64\n",
      " 7   Adults Aged 65+                                                  288 non-null    int64  \n",
      " 8   Number of people who accessed Private Emergency Accommodation    288 non-null    float64\n",
      " 9   Number of people who accessed Supported Temporary Accommodation  288 non-null    float64\n",
      " 10  Number of people who accessed Temporary Emergency Accommodation  288 non-null    int64  \n",
      " 11  Number of people who accessed Other Accommodation                288 non-null    int64  \n",
      " 12  Number of Families                                               288 non-null    int64  \n",
      " 13  Number of Adults in Families                                     288 non-null    float64\n",
      " 14  Number of Single-Parent families                                 261 non-null    float64\n",
      " 15  Number of Dependants in Families                                 279 non-null    float64\n",
      " 16  Month                                                            288 non-null    object \n",
      " 17  Year                                                             288 non-null    int64  \n",
      " 18  Number of Child Dependants in Families                           9 non-null      object \n",
      "dtypes: float64(10), int64(6), object(3)\n",
      "memory usage: 42.9+ KB\n"
     ]
    }
   ],
   "source": [
    "data.info()"
   ]
  },
  {
   "cell_type": "markdown",
   "id": "6fd590e7",
   "metadata": {},
   "source": [
    "# "
   ]
  },
  {
   "cell_type": "markdown",
   "id": "7735308d",
   "metadata": {},
   "source": [
    "# Q3. PART (A) Cleaning data"
   ]
  },
  {
   "cell_type": "markdown",
   "id": "87030943",
   "metadata": {},
   "source": [
    "## (a) Check for any duplicates"
   ]
  },
  {
   "cell_type": "code",
   "execution_count": 7,
   "id": "c5b1ca5b",
   "metadata": {},
   "outputs": [
    {
     "data": {
      "text/plain": [
       "False"
      ]
     },
     "execution_count": 7,
     "metadata": {},
     "output_type": "execute_result"
    }
   ],
   "source": [
    "data.duplicated().any()"
   ]
  },
  {
   "cell_type": "markdown",
   "id": "cfd3ca65",
   "metadata": {},
   "source": [
    "There are no duplicated values."
   ]
  },
  {
   "cell_type": "markdown",
   "id": "6932463b",
   "metadata": {},
   "source": [
    "## (b) Check for NULL or NaN values"
   ]
  },
  {
   "cell_type": "code",
   "execution_count": 8,
   "id": "a9df5663",
   "metadata": {},
   "outputs": [
    {
     "data": {
      "text/plain": [
       "Region                                                               0\n",
       "Total Adults                                                         0\n",
       "Male Adults                                                          0\n",
       "Female Adults                                                        0\n",
       "Adults Aged 18-24                                                    0\n",
       "Adults Aged 25-44                                                    0\n",
       "Adults Aged 45-64                                                    0\n",
       "Adults Aged 65+                                                      0\n",
       "Number of people who accessed Private Emergency Accommodation        0\n",
       "Number of people who accessed Supported Temporary Accommodation      0\n",
       "Number of people who accessed Temporary Emergency Accommodation      0\n",
       "Number of people who accessed Other Accommodation                    0\n",
       "Number of Families                                                   0\n",
       "Number of Adults in Families                                         0\n",
       "Number of Single-Parent families                                    27\n",
       "Number of Dependants in Families                                     9\n",
       "Month                                                                0\n",
       "Year                                                                 0\n",
       "Number of Child Dependants in Families                             279\n",
       "dtype: int64"
      ]
     },
     "execution_count": 8,
     "metadata": {},
     "output_type": "execute_result"
    }
   ],
   "source": [
    "data.isna().sum()"
   ]
  },
  {
   "cell_type": "code",
   "execution_count": 9,
   "id": "9fd62d1e",
   "metadata": {},
   "outputs": [
    {
     "data": {
      "text/plain": [
       "Region                                                             False\n",
       "Total Adults                                                       False\n",
       "Male Adults                                                        False\n",
       "Female Adults                                                      False\n",
       "Adults Aged 18-24                                                  False\n",
       "Adults Aged 25-44                                                  False\n",
       "Adults Aged 45-64                                                  False\n",
       "Adults Aged 65+                                                    False\n",
       "Number of people who accessed Private Emergency Accommodation      False\n",
       "Number of people who accessed Supported Temporary Accommodation    False\n",
       "Number of people who accessed Temporary Emergency Accommodation    False\n",
       "Number of people who accessed Other Accommodation                  False\n",
       "Number of Families                                                 False\n",
       "Number of Adults in Families                                       False\n",
       "Number of Single-Parent families                                    True\n",
       "Number of Dependants in Families                                    True\n",
       "Month                                                              False\n",
       "Year                                                               False\n",
       "Number of Child Dependants in Families                              True\n",
       "dtype: bool"
      ]
     },
     "execution_count": 9,
     "metadata": {},
     "output_type": "execute_result"
    }
   ],
   "source": [
    "data.isnull().any()"
   ]
  },
  {
   "cell_type": "markdown",
   "id": "d1c59b89",
   "metadata": {},
   "source": [
    "# "
   ]
  },
  {
   "cell_type": "markdown",
   "id": "f13aaa35",
   "metadata": {},
   "source": [
    "It has been decided to filling out the NaNs values in these columns with the mean values because there are 27 NaNs values related to the column for Number of Single-Parent families and 9 NaNs values related to Number of Dependants in Families. By choosing the filling function, the NaN values in these 2 columns will be changed by the mean values from the data that already exist in the columns\n"
   ]
  },
  {
   "cell_type": "code",
   "execution_count": 10,
   "id": "97447b01",
   "metadata": {},
   "outputs": [],
   "source": [
    "\n",
    "data['Number of Single-Parent families'].fillna(float(data['Number of Single-Parent families'].mean()), inplace=True)\n",
    "data['Number of Dependants in Families'].fillna(float(data['Number of Dependants in Families'].mean()), inplace=True)"
   ]
  },
  {
   "cell_type": "code",
   "execution_count": 11,
   "id": "a347d82f",
   "metadata": {},
   "outputs": [
    {
     "data": {
      "text/plain": [
       "Region                                                               0\n",
       "Total Adults                                                         0\n",
       "Male Adults                                                          0\n",
       "Female Adults                                                        0\n",
       "Adults Aged 18-24                                                    0\n",
       "Adults Aged 25-44                                                    0\n",
       "Adults Aged 45-64                                                    0\n",
       "Adults Aged 65+                                                      0\n",
       "Number of people who accessed Private Emergency Accommodation        0\n",
       "Number of people who accessed Supported Temporary Accommodation      0\n",
       "Number of people who accessed Temporary Emergency Accommodation      0\n",
       "Number of people who accessed Other Accommodation                    0\n",
       "Number of Families                                                   0\n",
       "Number of Adults in Families                                         0\n",
       "Number of Single-Parent families                                     0\n",
       "Number of Dependants in Families                                     0\n",
       "Month                                                                0\n",
       "Year                                                                 0\n",
       "Number of Child Dependants in Families                             279\n",
       "dtype: int64"
      ]
     },
     "execution_count": 11,
     "metadata": {},
     "output_type": "execute_result"
    }
   ],
   "source": [
    "data.isna().sum()"
   ]
  },
  {
   "cell_type": "markdown",
   "id": "56ba2026",
   "metadata": {},
   "source": [
    "## "
   ]
  },
  {
   "cell_type": "markdown",
   "id": "df30505e",
   "metadata": {},
   "source": [
    "## (c) Fix any other issue specific for your data"
   ]
  },
  {
   "cell_type": "markdown",
   "id": "f88774bd",
   "metadata": {},
   "source": [
    "RENAME COLUMN"
   ]
  },
  {
   "cell_type": "code",
   "execution_count": 12,
   "id": "852d31ee",
   "metadata": {},
   "outputs": [],
   "source": [
    "data1 =pd.DataFrame(data) "
   ]
  },
  {
   "cell_type": "code",
   "execution_count": 13,
   "id": "b01d5ac9",
   "metadata": {},
   "outputs": [],
   "source": [
    "### All of these columns were renamed and shorted due to invalided syntax code from the Dataset.\n",
    "\n",
    "data1.rename(columns = {'Total Adults': 'Total_Adults', 'Male Adults': 'Male_Adults', 'Female Adults': 'Female_Adults','Adults Aged 18-24': 'Adults_Aged_18-24','Adults Aged 25-44': 'Adults_Aged_25-44', \n",
    "                        'Adults Aged 45-64': 'Adults_Aged_45-64', 'Adults Aged 65+': 'Adults_Aged_65_over',\n",
    "                        'Number of people who accessed Private Emergency Accommodation': 'People who accessed Private Emerg Acc',\n",
    "                        'Number of people who accessed Supported Temporary Accommodation': 'People who accessed Supported Temp Acc', \n",
    "                        'Number of people who accessed Temporary Emergency Accommodation': 'People who accessed Temp Emerg Acc', \n",
    "                        'Number of people who accessed Other Accommodation': 'People who accessed Other Acc', 'Number of Families': 'No. of Families',\n",
    "                        'Number of Adults in Families': 'No. of Adults in Families', 'Number of Single-Parent families': 'No. of Single-Parent families',\n",
    "                        'Number of Dependants in Families': 'No. of Dependants in Families'}, inplace=True)\n",
    "\n",
    "\n",
    "\n"
   ]
  },
  {
   "cell_type": "markdown",
   "id": "6e0f21e6",
   "metadata": {},
   "source": [
    "DROPPING COLUMN"
   ]
  },
  {
   "cell_type": "code",
   "execution_count": 14,
   "id": "9841dc88",
   "metadata": {},
   "outputs": [],
   "source": [
    "\n",
    "\n",
    "data1.drop(columns =['Number of Child Dependants in Families'], axis=1, inplace=True)"
   ]
  },
  {
   "cell_type": "markdown",
   "id": "82a16183",
   "metadata": {},
   "source": [
    "This column has been dropped because it does have 279 NaNs values and does not have any relevant information to be analysed."
   ]
  },
  {
   "cell_type": "code",
   "execution_count": 15,
   "id": "8576b369",
   "metadata": {},
   "outputs": [
    {
     "data": {
      "text/plain": [
       "Index(['Region', 'Total_Adults', 'Male_Adults', 'Female_Adults',\n",
       "       'Adults_Aged_18-24', 'Adults_Aged_25-44', 'Adults_Aged_45-64',\n",
       "       'Adults_Aged_65_over', 'People who accessed Private Emerg Acc',\n",
       "       'People who accessed Supported Temp Acc',\n",
       "       'People who accessed Temp Emerg Acc', 'People who accessed Other Acc',\n",
       "       'No. of Families', 'No. of Adults in Families',\n",
       "       'No. of Single-Parent families', 'No. of Dependants in Families',\n",
       "       'Month', 'Year'],\n",
       "      dtype='object')"
      ]
     },
     "execution_count": 15,
     "metadata": {},
     "output_type": "execute_result"
    }
   ],
   "source": [
    "data1.columns"
   ]
  },
  {
   "cell_type": "markdown",
   "id": "3fab5c8a",
   "metadata": {},
   "source": [
    "# "
   ]
  },
  {
   "cell_type": "markdown",
   "id": "f73afd40",
   "metadata": {},
   "source": [
    "# Q3. Summary statistics and outliers"
   ]
  },
  {
   "cell_type": "markdown",
   "id": "b08ed5b4",
   "metadata": {},
   "source": [
    "## (a) Describe the numerical data with summary statistics information"
   ]
  },
  {
   "cell_type": "code",
   "execution_count": 16,
   "id": "0102cde0",
   "metadata": {},
   "outputs": [
    {
     "data": {
      "text/html": [
       "<div>\n",
       "<style scoped>\n",
       "    .dataframe tbody tr th:only-of-type {\n",
       "        vertical-align: middle;\n",
       "    }\n",
       "\n",
       "    .dataframe tbody tr th {\n",
       "        vertical-align: top;\n",
       "    }\n",
       "\n",
       "    .dataframe thead th {\n",
       "        text-align: right;\n",
       "    }\n",
       "</style>\n",
       "<table border=\"1\" class=\"dataframe\">\n",
       "  <thead>\n",
       "    <tr style=\"text-align: right;\">\n",
       "      <th></th>\n",
       "      <th>Total_Adults</th>\n",
       "      <th>Male_Adults</th>\n",
       "      <th>Female_Adults</th>\n",
       "      <th>Adults_Aged_18-24</th>\n",
       "      <th>Adults_Aged_25-44</th>\n",
       "      <th>Adults_Aged_45-64</th>\n",
       "      <th>Adults_Aged_65_over</th>\n",
       "      <th>People who accessed Private Emerg Acc</th>\n",
       "      <th>People who accessed Supported Temp Acc</th>\n",
       "      <th>People who accessed Temp Emerg Acc</th>\n",
       "      <th>People who accessed Other Acc</th>\n",
       "      <th>No. of Families</th>\n",
       "      <th>No. of Adults in Families</th>\n",
       "      <th>No. of Single-Parent families</th>\n",
       "      <th>No. of Dependants in Families</th>\n",
       "      <th>Year</th>\n",
       "    </tr>\n",
       "  </thead>\n",
       "  <tbody>\n",
       "    <tr>\n",
       "      <th>count</th>\n",
       "      <td>288.000000</td>\n",
       "      <td>288.000000</td>\n",
       "      <td>288.000000</td>\n",
       "      <td>288.000000</td>\n",
       "      <td>288.000000</td>\n",
       "      <td>288.000000</td>\n",
       "      <td>288.000000</td>\n",
       "      <td>288.000000</td>\n",
       "      <td>288.000000</td>\n",
       "      <td>288.000000</td>\n",
       "      <td>288.000000</td>\n",
       "      <td>288.000000</td>\n",
       "      <td>288.000000</td>\n",
       "      <td>288.000000</td>\n",
       "      <td>288.000000</td>\n",
       "      <td>288.000000</td>\n",
       "    </tr>\n",
       "    <tr>\n",
       "      <th>mean</th>\n",
       "      <td>695.715278</td>\n",
       "      <td>433.618056</td>\n",
       "      <td>262.097222</td>\n",
       "      <td>93.031250</td>\n",
       "      <td>399.361111</td>\n",
       "      <td>188.059028</td>\n",
       "      <td>15.263889</td>\n",
       "      <td>364.493056</td>\n",
       "      <td>325.222222</td>\n",
       "      <td>15.100694</td>\n",
       "      <td>1.114583</td>\n",
       "      <td>147.434028</td>\n",
       "      <td>213.496528</td>\n",
       "      <td>85.386973</td>\n",
       "      <td>337.121864</td>\n",
       "      <td>2019.875000</td>\n",
       "    </tr>\n",
       "    <tr>\n",
       "      <th>std</th>\n",
       "      <td>1280.238641</td>\n",
       "      <td>787.730308</td>\n",
       "      <td>496.635465</td>\n",
       "      <td>162.376265</td>\n",
       "      <td>748.986164</td>\n",
       "      <td>351.136324</td>\n",
       "      <td>20.951408</td>\n",
       "      <td>685.255638</td>\n",
       "      <td>616.343878</td>\n",
       "      <td>21.005398</td>\n",
       "      <td>2.927235</td>\n",
       "      <td>311.622576</td>\n",
       "      <td>455.102983</td>\n",
       "      <td>168.106590</td>\n",
       "      <td>698.327000</td>\n",
       "      <td>0.781984</td>\n",
       "    </tr>\n",
       "    <tr>\n",
       "      <th>min</th>\n",
       "      <td>48.000000</td>\n",
       "      <td>33.000000</td>\n",
       "      <td>14.000000</td>\n",
       "      <td>5.000000</td>\n",
       "      <td>27.000000</td>\n",
       "      <td>10.000000</td>\n",
       "      <td>0.000000</td>\n",
       "      <td>10.000000</td>\n",
       "      <td>0.000000</td>\n",
       "      <td>0.000000</td>\n",
       "      <td>0.000000</td>\n",
       "      <td>1.000000</td>\n",
       "      <td>1.000000</td>\n",
       "      <td>0.000000</td>\n",
       "      <td>1.000000</td>\n",
       "      <td>2019.000000</td>\n",
       "    </tr>\n",
       "    <tr>\n",
       "      <th>25%</th>\n",
       "      <td>109.750000</td>\n",
       "      <td>71.000000</td>\n",
       "      <td>46.000000</td>\n",
       "      <td>21.000000</td>\n",
       "      <td>59.750000</td>\n",
       "      <td>25.000000</td>\n",
       "      <td>5.000000</td>\n",
       "      <td>52.000000</td>\n",
       "      <td>49.750000</td>\n",
       "      <td>0.000000</td>\n",
       "      <td>0.000000</td>\n",
       "      <td>16.000000</td>\n",
       "      <td>21.000000</td>\n",
       "      <td>12.000000</td>\n",
       "      <td>32.000000</td>\n",
       "      <td>2019.000000</td>\n",
       "    </tr>\n",
       "    <tr>\n",
       "      <th>50%</th>\n",
       "      <td>286.000000</td>\n",
       "      <td>177.500000</td>\n",
       "      <td>103.000000</td>\n",
       "      <td>40.000000</td>\n",
       "      <td>160.000000</td>\n",
       "      <td>76.500000</td>\n",
       "      <td>9.000000</td>\n",
       "      <td>109.000000</td>\n",
       "      <td>129.500000</td>\n",
       "      <td>4.000000</td>\n",
       "      <td>0.000000</td>\n",
       "      <td>42.000000</td>\n",
       "      <td>57.500000</td>\n",
       "      <td>30.000000</td>\n",
       "      <td>100.500000</td>\n",
       "      <td>2020.000000</td>\n",
       "    </tr>\n",
       "    <tr>\n",
       "      <th>75%</th>\n",
       "      <td>350.250000</td>\n",
       "      <td>221.000000</td>\n",
       "      <td>142.000000</td>\n",
       "      <td>56.000000</td>\n",
       "      <td>195.000000</td>\n",
       "      <td>98.000000</td>\n",
       "      <td>13.000000</td>\n",
       "      <td>216.500000</td>\n",
       "      <td>185.000000</td>\n",
       "      <td>25.000000</td>\n",
       "      <td>0.000000</td>\n",
       "      <td>79.000000</td>\n",
       "      <td>106.250000</td>\n",
       "      <td>61.000000</td>\n",
       "      <td>190.250000</td>\n",
       "      <td>2020.250000</td>\n",
       "    </tr>\n",
       "    <tr>\n",
       "      <th>max</th>\n",
       "      <td>4600.000000</td>\n",
       "      <td>2875.000000</td>\n",
       "      <td>1884.000000</td>\n",
       "      <td>769.000000</td>\n",
       "      <td>2687.000000</td>\n",
       "      <td>1250.000000</td>\n",
       "      <td>89.000000</td>\n",
       "      <td>2465.000000</td>\n",
       "      <td>2330.000000</td>\n",
       "      <td>195.000000</td>\n",
       "      <td>18.000000</td>\n",
       "      <td>1297.000000</td>\n",
       "      <td>1862.000000</td>\n",
       "      <td>758.000000</td>\n",
       "      <td>2872.000000</td>\n",
       "      <td>2021.000000</td>\n",
       "    </tr>\n",
       "  </tbody>\n",
       "</table>\n",
       "</div>"
      ],
      "text/plain": [
       "       Total_Adults  Male_Adults  Female_Adults  Adults_Aged_18-24  \\\n",
       "count    288.000000   288.000000     288.000000         288.000000   \n",
       "mean     695.715278   433.618056     262.097222          93.031250   \n",
       "std     1280.238641   787.730308     496.635465         162.376265   \n",
       "min       48.000000    33.000000      14.000000           5.000000   \n",
       "25%      109.750000    71.000000      46.000000          21.000000   \n",
       "50%      286.000000   177.500000     103.000000          40.000000   \n",
       "75%      350.250000   221.000000     142.000000          56.000000   \n",
       "max     4600.000000  2875.000000    1884.000000         769.000000   \n",
       "\n",
       "       Adults_Aged_25-44  Adults_Aged_45-64  Adults_Aged_65_over  \\\n",
       "count         288.000000         288.000000           288.000000   \n",
       "mean          399.361111         188.059028            15.263889   \n",
       "std           748.986164         351.136324            20.951408   \n",
       "min            27.000000          10.000000             0.000000   \n",
       "25%            59.750000          25.000000             5.000000   \n",
       "50%           160.000000          76.500000             9.000000   \n",
       "75%           195.000000          98.000000            13.000000   \n",
       "max          2687.000000        1250.000000            89.000000   \n",
       "\n",
       "       People who accessed Private Emerg Acc  \\\n",
       "count                             288.000000   \n",
       "mean                              364.493056   \n",
       "std                               685.255638   \n",
       "min                                10.000000   \n",
       "25%                                52.000000   \n",
       "50%                               109.000000   \n",
       "75%                               216.500000   \n",
       "max                              2465.000000   \n",
       "\n",
       "       People who accessed Supported Temp Acc  \\\n",
       "count                              288.000000   \n",
       "mean                               325.222222   \n",
       "std                                616.343878   \n",
       "min                                  0.000000   \n",
       "25%                                 49.750000   \n",
       "50%                                129.500000   \n",
       "75%                                185.000000   \n",
       "max                               2330.000000   \n",
       "\n",
       "       People who accessed Temp Emerg Acc  People who accessed Other Acc  \\\n",
       "count                          288.000000                     288.000000   \n",
       "mean                            15.100694                       1.114583   \n",
       "std                             21.005398                       2.927235   \n",
       "min                              0.000000                       0.000000   \n",
       "25%                              0.000000                       0.000000   \n",
       "50%                              4.000000                       0.000000   \n",
       "75%                             25.000000                       0.000000   \n",
       "max                            195.000000                      18.000000   \n",
       "\n",
       "       No. of Families  No. of Adults in Families  \\\n",
       "count       288.000000                 288.000000   \n",
       "mean        147.434028                 213.496528   \n",
       "std         311.622576                 455.102983   \n",
       "min           1.000000                   1.000000   \n",
       "25%          16.000000                  21.000000   \n",
       "50%          42.000000                  57.500000   \n",
       "75%          79.000000                 106.250000   \n",
       "max        1297.000000                1862.000000   \n",
       "\n",
       "       No. of Single-Parent families  No. of Dependants in Families  \\\n",
       "count                     288.000000                     288.000000   \n",
       "mean                       85.386973                     337.121864   \n",
       "std                       168.106590                     698.327000   \n",
       "min                         0.000000                       1.000000   \n",
       "25%                        12.000000                      32.000000   \n",
       "50%                        30.000000                     100.500000   \n",
       "75%                        61.000000                     190.250000   \n",
       "max                       758.000000                    2872.000000   \n",
       "\n",
       "              Year  \n",
       "count   288.000000  \n",
       "mean   2019.875000  \n",
       "std       0.781984  \n",
       "min    2019.000000  \n",
       "25%    2019.000000  \n",
       "50%    2020.000000  \n",
       "75%    2020.250000  \n",
       "max    2021.000000  "
      ]
     },
     "execution_count": 16,
     "metadata": {},
     "output_type": "execute_result"
    }
   ],
   "source": [
    "data1.describe()"
   ]
  },
  {
   "cell_type": "markdown",
   "id": "0d97dd70",
   "metadata": {},
   "source": [
    "The description of the data doesn't show any unusual information. However, all the columns above (except the Year column) seems to have a large difference between the 75% percentile and the max value. It looks like these features are right skewed. We will check that later again once we plot histograms and boxplots to better visualise the data distribution.\n",
    "\n",
    "\n"
   ]
  },
  {
   "cell_type": "markdown",
   "id": "8d1aa547",
   "metadata": {},
   "source": [
    "# "
   ]
  },
  {
   "cell_type": "markdown",
   "id": "42b7b7ed",
   "metadata": {},
   "source": [
    "## (b) Plot a histograms and/or boxplots for numerical data. Interpret all graphs plotted."
   ]
  },
  {
   "cell_type": "markdown",
   "id": "62580383",
   "metadata": {},
   "source": [
    "Let's check the data distribution using histograms and box plots."
   ]
  },
  {
   "cell_type": "code",
   "execution_count": 17,
   "id": "09531c16",
   "metadata": {},
   "outputs": [],
   "source": [
    "data2 = pd.DataFrame(data1)"
   ]
  },
  {
   "cell_type": "code",
   "execution_count": 18,
   "id": "a437de41",
   "metadata": {},
   "outputs": [
    {
     "data": {
      "image/png": "[encoded data removed]",
      "text/plain": [
       "<Figure size 1152x936 with 18 Axes>"
      ]
     },
     "metadata": {
      "needs_background": "light"
     },
     "output_type": "display_data"
    }
   ],
   "source": [
    "fig, ax = plt.subplots(nrows=6,ncols=3, figsize=(16,13))\n",
    "plt.suptitle(\"Variables histogram\")\n",
    "ax=ax.flatten()\n",
    "\n",
    "\n",
    "\n",
    "plt.rcParams['font.size'] = 10\n",
    "plt.rcParams['axes.titlesize'] = 20\n",
    "\n",
    "\n",
    "int_cols= data2.select_dtypes(exclude='object').columns\n",
    "for x, i in enumerate(int_cols):\n",
    "    sns.histplot(data2[i], ax=ax[x], kde=True, color='#51A2DB')\n",
    "    \n",
    "    \n",
    "\n"
   ]
  },
  {
   "cell_type": "markdown",
   "id": "6563ce87",
   "metadata": {},
   "source": [
    "As expected from the data description, the histograms visually show us that the data is skewed."
   ]
  },
  {
   "cell_type": "code",
   "execution_count": 19,
   "id": "e8191d67",
   "metadata": {},
   "outputs": [
    {
     "data": {
      "text/plain": [
       "<Figure size 1152x432 with 0 Axes>"
      ]
     },
     "execution_count": 19,
     "metadata": {},
     "output_type": "execute_result"
    },
    {
     "data": {
      "text/plain": [
       "<Figure size 1152x432 with 0 Axes>"
      ]
     },
     "metadata": {},
     "output_type": "display_data"
    }
   ],
   "source": [
    "plt.figure(figsize=(16,6))"
   ]
  },
  {
   "cell_type": "markdown",
   "id": "23a0a4a6",
   "metadata": {},
   "source": [
    "## "
   ]
  },
  {
   "cell_type": "code",
   "execution_count": 20,
   "id": "9fa35682",
   "metadata": {},
   "outputs": [
    {
     "name": "stdout",
     "output_type": "stream",
     "text": [
      "Total_Adults : float64\n",
      "Male_Adults : float64\n",
      "Female_Adults : float64\n",
      "Adults_Aged_18-24 : int64\n",
      "Adults_Aged_25-44 : float64\n",
      "Adults_Aged_45-64 : float64\n",
      "Adults_Aged_65_over : int64\n",
      "People who accessed Private Emerg Acc : float64\n",
      "People who accessed Supported Temp Acc : float64\n",
      "People who accessed Temp Emerg Acc : int64\n",
      "People who accessed Other Acc : int64\n",
      "No. of Families : int64\n"
     ]
    },
    {
     "data": {
      "text/plain": [
       "<Figure size 1440x1080 with 0 Axes>"
      ]
     },
     "metadata": {},
     "output_type": "display_data"
    },
    {
     "data": {
      "image/png": "[encoded data removed]",
      "text/plain": [
       "<Figure size 1440x1080 with 12 Axes>"
      ]
     },
     "metadata": {
      "needs_background": "light"
     },
     "output_type": "display_data"
    }
   ],
   "source": [
    "#Inputting the variables into the plot\n",
    "\n",
    "data_variables = []\n",
    "for i in data2.columns[0:13].tolist():\n",
    "        if data2.dtypes[i] == 'int64' or data2.dtypes[i] == 'float64':            \n",
    "            print(i, ':' , data2.dtypes[i]) \n",
    "            data_variables.append(i)\n",
    "  \n",
    "    \n",
    "    \n",
    "plt.rcParams[\"figure.figsize\"] = [20.00, 15.00]\n",
    "plt.rcParams[\"figure.autolayout\"] = True\n",
    "\n",
    "plt.rcParams['font.size'] = 10\n",
    "plt.rcParams['axes.titlesize'] = 20\n",
    "\n",
    "plt.suptitle(\"Features boxplots\")\n",
    "\n",
    "fig, axes = plt.subplots(3,4) # 3 Rows and 4 columns \n",
    "\n",
    "row = 0\n",
    "column = 0\n",
    "for i in data_variables:\n",
    "    \n",
    "    sns.boxplot(data = data2, y=i, ax=axes[row][column])\n",
    "    \n",
    "    column += 1\n",
    "    if column == 4:\n",
    "        row += 1\n",
    "        column = 0            \n",
    "\n",
    "plt.show() "
   ]
  },
  {
   "cell_type": "markdown",
   "id": "1fe6afef",
   "metadata": {},
   "source": [
    "As we can see from the boxplots graphs above, all the columns have outliers are above the max value. Some of them have the median in the middle of the box, which means that they are well distributed symmetric. On the other hand, we also have few boxplots with the median closer to the bottom of the box, with a positive skewed form.Furthermore, there are some boxoplots with the median closer to the top of the box and shorter on the upper end of the box, therefore, we can conclude that they have a negatively skewed. \n",
    "\n",
    "\n"
   ]
  },
  {
   "cell_type": "markdown",
   "id": "b0f66884",
   "metadata": {},
   "source": [
    "## "
   ]
  },
  {
   "cell_type": "markdown",
   "id": "49558af8",
   "metadata": {},
   "source": [
    "## (c) Identify and handle outliers"
   ]
  },
  {
   "cell_type": "markdown",
   "id": "5de2b425",
   "metadata": {},
   "source": [
    "\n",
    "\n",
    "based on theses boxplot analysis, these information belongs to each region and cannot be removed or replaced. Because we do not have enough information about whether there were any problems with the data collection, therefore, the outliers will be kept. The outliers might impact the choice of machine learning algorithm that I will be using later on.  \n",
    "\n",
    "\n",
    "\n"
   ]
  },
  {
   "cell_type": "markdown",
   "id": "446b8feb",
   "metadata": {},
   "source": [
    "## \n"
   ]
  },
  {
   "cell_type": "markdown",
   "id": "b7e15a08",
   "metadata": {},
   "source": [
    "## (d) Describe the categorical data with bar charts"
   ]
  },
  {
   "cell_type": "code",
   "execution_count": 21,
   "id": "812aab3e",
   "metadata": {},
   "outputs": [],
   "source": [
    "data3 = data2.sort_values(['Region'], ascending = [True])"
   ]
  },
  {
   "cell_type": "code",
   "execution_count": 23,
   "id": "6dcd254a",
   "metadata": {},
   "outputs": [
    {
     "data": {
      "text/html": [
       "<div>\n",
       "<style scoped>\n",
       "    .dataframe tbody tr th:only-of-type {\n",
       "        vertical-align: middle;\n",
       "    }\n",
       "\n",
       "    .dataframe tbody tr th {\n",
       "        vertical-align: top;\n",
       "    }\n",
       "\n",
       "    .dataframe thead th {\n",
       "        text-align: right;\n",
       "    }\n",
       "</style>\n",
       "<table border=\"1\" class=\"dataframe\">\n",
       "  <thead>\n",
       "    <tr style=\"text-align: right;\">\n",
       "      <th></th>\n",
       "      <th>Region</th>\n",
       "      <th>Total_Adults</th>\n",
       "      <th>Male_Adults</th>\n",
       "      <th>Female_Adults</th>\n",
       "      <th>Adults_Aged_18-24</th>\n",
       "      <th>Adults_Aged_25-44</th>\n",
       "      <th>Adults_Aged_45-64</th>\n",
       "      <th>Adults_Aged_65_over</th>\n",
       "      <th>People who accessed Private Emerg Acc</th>\n",
       "      <th>People who accessed Supported Temp Acc</th>\n",
       "      <th>People who accessed Temp Emerg Acc</th>\n",
       "      <th>People who accessed Other Acc</th>\n",
       "      <th>No. of Families</th>\n",
       "      <th>No. of Adults in Families</th>\n",
       "      <th>No. of Single-Parent families</th>\n",
       "      <th>No. of Dependants in Families</th>\n",
       "      <th>Month</th>\n",
       "      <th>Year</th>\n",
       "    </tr>\n",
       "  </thead>\n",
       "  <tbody>\n",
       "    <tr>\n",
       "      <th>0</th>\n",
       "      <td>Dublin</td>\n",
       "      <td>4175.0</td>\n",
       "      <td>2724.0</td>\n",
       "      <td>1451.0</td>\n",
       "      <td>485</td>\n",
       "      <td>2397.0</td>\n",
       "      <td>1225.0</td>\n",
       "      <td>68</td>\n",
       "      <td>2372.0</td>\n",
       "      <td>1858.0</td>\n",
       "      <td>33</td>\n",
       "      <td>0</td>\n",
       "      <td>742</td>\n",
       "      <td>1121.0</td>\n",
       "      <td>363.0</td>\n",
       "      <td>1823.0</td>\n",
       "      <td>January</td>\n",
       "      <td>2021</td>\n",
       "    </tr>\n",
       "    <tr>\n",
       "      <th>198</th>\n",
       "      <td>Dublin</td>\n",
       "      <td>4266.0</td>\n",
       "      <td>2652.0</td>\n",
       "      <td>1614.0</td>\n",
       "      <td>475</td>\n",
       "      <td>2514.0</td>\n",
       "      <td>1190.0</td>\n",
       "      <td>87</td>\n",
       "      <td>2335.0</td>\n",
       "      <td>1902.0</td>\n",
       "      <td>42</td>\n",
       "      <td>0</td>\n",
       "      <td>974</td>\n",
       "      <td>1413.0</td>\n",
       "      <td>535.0</td>\n",
       "      <td>2232.0</td>\n",
       "      <td>April</td>\n",
       "      <td>2020</td>\n",
       "    </tr>\n",
       "    <tr>\n",
       "      <th>189</th>\n",
       "      <td>Dublin</td>\n",
       "      <td>4515.0</td>\n",
       "      <td>2773.0</td>\n",
       "      <td>1742.0</td>\n",
       "      <td>524</td>\n",
       "      <td>2662.0</td>\n",
       "      <td>1241.0</td>\n",
       "      <td>88</td>\n",
       "      <td>2442.0</td>\n",
       "      <td>2102.0</td>\n",
       "      <td>54</td>\n",
       "      <td>0</td>\n",
       "      <td>1103</td>\n",
       "      <td>1609.0</td>\n",
       "      <td>597.0</td>\n",
       "      <td>2491.0</td>\n",
       "      <td>March</td>\n",
       "      <td>2020</td>\n",
       "    </tr>\n",
       "    <tr>\n",
       "      <th>36</th>\n",
       "      <td>Dublin</td>\n",
       "      <td>4304.0</td>\n",
       "      <td>2452.0</td>\n",
       "      <td>1852.0</td>\n",
       "      <td>565</td>\n",
       "      <td>2617.0</td>\n",
       "      <td>1052.0</td>\n",
       "      <td>70</td>\n",
       "      <td>2052.0</td>\n",
       "      <td>2281.0</td>\n",
       "      <td>74</td>\n",
       "      <td>0</td>\n",
       "      <td>1288</td>\n",
       "      <td>1825.0</td>\n",
       "      <td>751.0</td>\n",
       "      <td>2806.0</td>\n",
       "      <td>February</td>\n",
       "      <td>2019</td>\n",
       "    </tr>\n",
       "    <tr>\n",
       "      <th>180</th>\n",
       "      <td>Dublin</td>\n",
       "      <td>4600.0</td>\n",
       "      <td>2773.0</td>\n",
       "      <td>1827.0</td>\n",
       "      <td>577</td>\n",
       "      <td>2687.0</td>\n",
       "      <td>1250.0</td>\n",
       "      <td>86</td>\n",
       "      <td>2349.0</td>\n",
       "      <td>2278.0</td>\n",
       "      <td>62</td>\n",
       "      <td>0</td>\n",
       "      <td>1201</td>\n",
       "      <td>1735.0</td>\n",
       "      <td>667.0</td>\n",
       "      <td>2678.0</td>\n",
       "      <td>January</td>\n",
       "      <td>2020</td>\n",
       "    </tr>\n",
       "    <tr>\n",
       "      <th>...</th>\n",
       "      <td>...</td>\n",
       "      <td>...</td>\n",
       "      <td>...</td>\n",
       "      <td>...</td>\n",
       "      <td>...</td>\n",
       "      <td>...</td>\n",
       "      <td>...</td>\n",
       "      <td>...</td>\n",
       "      <td>...</td>\n",
       "      <td>...</td>\n",
       "      <td>...</td>\n",
       "      <td>...</td>\n",
       "      <td>...</td>\n",
       "      <td>...</td>\n",
       "      <td>...</td>\n",
       "      <td>...</td>\n",
       "      <td>...</td>\n",
       "      <td>...</td>\n",
       "    </tr>\n",
       "    <tr>\n",
       "      <th>215</th>\n",
       "      <td>West</td>\n",
       "      <td>314.0</td>\n",
       "      <td>174.0</td>\n",
       "      <td>140.0</td>\n",
       "      <td>46</td>\n",
       "      <td>171.0</td>\n",
       "      <td>87.0</td>\n",
       "      <td>10</td>\n",
       "      <td>169.0</td>\n",
       "      <td>143.0</td>\n",
       "      <td>0</td>\n",
       "      <td>2</td>\n",
       "      <td>72</td>\n",
       "      <td>107.0</td>\n",
       "      <td>37.0</td>\n",
       "      <td>189.0</td>\n",
       "      <td>May</td>\n",
       "      <td>2020</td>\n",
       "    </tr>\n",
       "    <tr>\n",
       "      <th>224</th>\n",
       "      <td>West</td>\n",
       "      <td>297.0</td>\n",
       "      <td>165.0</td>\n",
       "      <td>132.0</td>\n",
       "      <td>47</td>\n",
       "      <td>159.0</td>\n",
       "      <td>79.0</td>\n",
       "      <td>12</td>\n",
       "      <td>158.0</td>\n",
       "      <td>139.0</td>\n",
       "      <td>0</td>\n",
       "      <td>0</td>\n",
       "      <td>65</td>\n",
       "      <td>97.0</td>\n",
       "      <td>33.0</td>\n",
       "      <td>170.0</td>\n",
       "      <td>June</td>\n",
       "      <td>2020</td>\n",
       "    </tr>\n",
       "    <tr>\n",
       "      <th>233</th>\n",
       "      <td>West</td>\n",
       "      <td>258.0</td>\n",
       "      <td>150.0</td>\n",
       "      <td>108.0</td>\n",
       "      <td>47</td>\n",
       "      <td>122.0</td>\n",
       "      <td>79.0</td>\n",
       "      <td>10</td>\n",
       "      <td>124.0</td>\n",
       "      <td>134.0</td>\n",
       "      <td>0</td>\n",
       "      <td>0</td>\n",
       "      <td>66</td>\n",
       "      <td>99.0</td>\n",
       "      <td>33.0</td>\n",
       "      <td>154.0</td>\n",
       "      <td>June</td>\n",
       "      <td>2021</td>\n",
       "    </tr>\n",
       "    <tr>\n",
       "      <th>251</th>\n",
       "      <td>West</td>\n",
       "      <td>282.0</td>\n",
       "      <td>165.0</td>\n",
       "      <td>117.0</td>\n",
       "      <td>49</td>\n",
       "      <td>139.0</td>\n",
       "      <td>84.0</td>\n",
       "      <td>10</td>\n",
       "      <td>142.0</td>\n",
       "      <td>140.0</td>\n",
       "      <td>0</td>\n",
       "      <td>0</td>\n",
       "      <td>59</td>\n",
       "      <td>91.0</td>\n",
       "      <td>27.0</td>\n",
       "      <td>145.0</td>\n",
       "      <td>August</td>\n",
       "      <td>2020</td>\n",
       "    </tr>\n",
       "    <tr>\n",
       "      <th>287</th>\n",
       "      <td>West</td>\n",
       "      <td>248.0</td>\n",
       "      <td>146.0</td>\n",
       "      <td>102.0</td>\n",
       "      <td>50</td>\n",
       "      <td>120.0</td>\n",
       "      <td>70.0</td>\n",
       "      <td>8</td>\n",
       "      <td>108.0</td>\n",
       "      <td>140.0</td>\n",
       "      <td>0</td>\n",
       "      <td>0</td>\n",
       "      <td>42</td>\n",
       "      <td>67.0</td>\n",
       "      <td>17.0</td>\n",
       "      <td>90.0</td>\n",
       "      <td>December</td>\n",
       "      <td>2020</td>\n",
       "    </tr>\n",
       "  </tbody>\n",
       "</table>\n",
       "<p>288 rows × 18 columns</p>\n",
       "</div>"
      ],
      "text/plain": [
       "     Region  Total_Adults  Male_Adults  Female_Adults  Adults_Aged_18-24  \\\n",
       "0    Dublin        4175.0       2724.0         1451.0                485   \n",
       "198  Dublin        4266.0       2652.0         1614.0                475   \n",
       "189  Dublin        4515.0       2773.0         1742.0                524   \n",
       "36   Dublin        4304.0       2452.0         1852.0                565   \n",
       "180  Dublin        4600.0       2773.0         1827.0                577   \n",
       "..      ...           ...          ...            ...                ...   \n",
       "215    West         314.0        174.0          140.0                 46   \n",
       "224    West         297.0        165.0          132.0                 47   \n",
       "233    West         258.0        150.0          108.0                 47   \n",
       "251    West         282.0        165.0          117.0                 49   \n",
       "287    West         248.0        146.0          102.0                 50   \n",
       "\n",
       "     Adults_Aged_25-44  Adults_Aged_45-64  Adults_Aged_65_over  \\\n",
       "0               2397.0             1225.0                   68   \n",
       "198             2514.0             1190.0                   87   \n",
       "189             2662.0             1241.0                   88   \n",
       "36              2617.0             1052.0                   70   \n",
       "180             2687.0             1250.0                   86   \n",
       "..                 ...                ...                  ...   \n",
       "215              171.0               87.0                   10   \n",
       "224              159.0               79.0                   12   \n",
       "233              122.0               79.0                   10   \n",
       "251              139.0               84.0                   10   \n",
       "287              120.0               70.0                    8   \n",
       "\n",
       "     People who accessed Private Emerg Acc  \\\n",
       "0                                   2372.0   \n",
       "198                                 2335.0   \n",
       "189                                 2442.0   \n",
       "36                                  2052.0   \n",
       "180                                 2349.0   \n",
       "..                                     ...   \n",
       "215                                  169.0   \n",
       "224                                  158.0   \n",
       "233                                  124.0   \n",
       "251                                  142.0   \n",
       "287                                  108.0   \n",
       "\n",
       "     People who accessed Supported Temp Acc  \\\n",
       "0                                    1858.0   \n",
       "198                                  1902.0   \n",
       "189                                  2102.0   \n",
       "36                                   2281.0   \n",
       "180                                  2278.0   \n",
       "..                                      ...   \n",
       "215                                   143.0   \n",
       "224                                   139.0   \n",
       "233                                   134.0   \n",
       "251                                   140.0   \n",
       "287                                   140.0   \n",
       "\n",
       "     People who accessed Temp Emerg Acc  People who accessed Other Acc  \\\n",
       "0                                    33                              0   \n",
       "198                                  42                              0   \n",
       "189                                  54                              0   \n",
       "36                                   74                              0   \n",
       "180                                  62                              0   \n",
       "..                                  ...                            ...   \n",
       "215                                   0                              2   \n",
       "224                                   0                              0   \n",
       "233                                   0                              0   \n",
       "251                                   0                              0   \n",
       "287                                   0                              0   \n",
       "\n",
       "     No. of Families  No. of Adults in Families  \\\n",
       "0                742                     1121.0   \n",
       "198              974                     1413.0   \n",
       "189             1103                     1609.0   \n",
       "36              1288                     1825.0   \n",
       "180             1201                     1735.0   \n",
       "..               ...                        ...   \n",
       "215               72                      107.0   \n",
       "224               65                       97.0   \n",
       "233               66                       99.0   \n",
       "251               59                       91.0   \n",
       "287               42                       67.0   \n",
       "\n",
       "     No. of Single-Parent families  No. of Dependants in Families     Month  \\\n",
       "0                            363.0                         1823.0   January   \n",
       "198                          535.0                         2232.0     April   \n",
       "189                          597.0                         2491.0     March   \n",
       "36                           751.0                         2806.0  February   \n",
       "180                          667.0                         2678.0   January   \n",
       "..                             ...                            ...       ...   \n",
       "215                           37.0                          189.0       May   \n",
       "224                           33.0                          170.0      June   \n",
       "233                           33.0                          154.0      June   \n",
       "251                           27.0                          145.0    August   \n",
       "287                           17.0                           90.0  December   \n",
       "\n",
       "     Year  \n",
       "0    2021  \n",
       "198  2020  \n",
       "189  2020  \n",
       "36   2019  \n",
       "180  2020  \n",
       "..    ...  \n",
       "215  2020  \n",
       "224  2020  \n",
       "233  2021  \n",
       "251  2020  \n",
       "287  2020  \n",
       "\n",
       "[288 rows x 18 columns]"
      ]
     },
     "execution_count": 23,
     "metadata": {},
     "output_type": "execute_result"
    }
   ],
   "source": [
    "data3"
   ]
  },
  {
   "cell_type": "code",
   "execution_count": 24,
   "id": "fdb7ca45",
   "metadata": {},
   "outputs": [],
   "source": [
    "x1 = data3[\"Region\"]\n",
    "x2 = data3[\"Month\"]\n",
    "x3 = data3[\"Year\"]"
   ]
  },
  {
   "cell_type": "code",
   "execution_count": 25,
   "id": "aa4c22c0",
   "metadata": {},
   "outputs": [],
   "source": [
    "y1= data3[\"Adults_Aged_18-24\"]\n",
    "y2= data3[\"Adults_Aged_25-44\"]\n",
    "y3= data3[\"Adults_Aged_45-64\"]\n",
    "y4= data3[\"Adults_Aged_65_over\"]\n",
    "y5= data3[\"People who accessed Private Emerg Acc\"]\n",
    "y6= data3[\"People who accessed Supported Temp Acc\"]\n",
    "y7= data3[\"People who accessed Temp Emerg Acc\"]\n"
   ]
  },
  {
   "cell_type": "code",
   "execution_count": 26,
   "id": "74605b04",
   "metadata": {},
   "outputs": [
    {
     "data": {
      "image/png": "[encoded data removed]",
      "text/plain": [
       "<Figure size 1080x576 with 1 Axes>"
      ]
     },
     "metadata": {
      "needs_background": "light"
     },
     "output_type": "display_data"
    }
   ],
   "source": [
    "\n",
    "fig,ax = plt.subplots(figsize=(15,8))\n",
    "plot = sns.barplot(data=data3, x=\"Region\", y=\"Adults_Aged_45-64\", ci=False)\n",
    "\n",
    "plt.rcParams['font.size'] = 10\n",
    "plt.rcParams['axes.titlesize'] = 20\n",
    "\n",
    "plt.title(\"Age group [45-64]\")\n",
    "plt.xticks(rotation = 50)\n",
    "plot.set_ylim([0,1250])\n",
    "for i in plot.patches:\n",
    "    plt.annotate(i.get_height(),\n",
    "                (i.get_x() + i.get_width() /2, i.get_height()),\n",
    "                ha= \"center\", va=\"baseline\", fontsize=12,\n",
    "                color=\"black\", xytext=(0,1),\n",
    "                textcoords=\"offset points\")\n",
    "    \n",
    "\n",
    "\n",
    "plt.show()"
   ]
  },
  {
   "cell_type": "markdown",
   "id": "e4e21b6e",
   "metadata": {},
   "source": [
    "As we can see from the aged group [45 -64], 1.172 of the majorities people who have used some sort of accommodation between 2019 and 2021 are from Dublin and 136 are from South-West.\n",
    "West, Mid-West, Mid-East and South-East are quit similiar in term of comparation and it appears that they are not that high compared to Dublin.\n",
    "However,The Midlands consists of only 20 by following  the North-East with 28.81 and North-West which has the lowest number of people who have used temporary accommodation compared to the others locations. "
   ]
  },
  {
   "cell_type": "markdown",
   "id": "948db594",
   "metadata": {},
   "source": [
    "## "
   ]
  },
  {
   "cell_type": "code",
   "execution_count": 27,
   "id": "b8f25cfc",
   "metadata": {},
   "outputs": [
    {
     "data": {
      "image/png": "[encoded data removed]",
      "text/plain": [
       "<Figure size 1080x576 with 1 Axes>"
      ]
     },
     "metadata": {
      "needs_background": "light"
     },
     "output_type": "display_data"
    }
   ],
   "source": [
    "fig,ax = plt.subplots(figsize=(15,8))\n",
    "plot = sns.barplot(data=data3, x=\"Region\", y=\"Adults_Aged_65_over\", ci=False)\n",
    "\n",
    "plt.rcParams['font.size'] = 10 \n",
    "plt.rcParams['axes.titlesize'] = 20\n",
    "\n",
    "plt.title(\"Age group [65 plus]\")\n",
    "plt.xticks(rotation = 50)\n",
    "plot.set_ylim([0,80])\n",
    "for i in plot.patches:\n",
    "    plt.annotate(i.get_height(),\n",
    "                (i.get_x() + i.get_width() /2, i.get_height()),\n",
    "                ha= \"center\", va=\"baseline\", fontsize=12,\n",
    "                color=\"black\", xytext=(0,1),\n",
    "                textcoords=\"offset points\")\n",
    "    \n",
    "    \n",
    "    \n",
    "    \n",
    "plt.show()   \n",
    "    "
   ]
  },
  {
   "cell_type": "markdown",
   "id": "0f630cf2",
   "metadata": {},
   "source": [
    "Conversely, in contrast to the aged group [45-64] who have also used some sort of accommodation between 2019 and 2021, the aged group [65 plus] are also quite high compared to the other aged group. \n",
    "As we can see, 71.90 of the majorities people are from Dublin, 18.00 South-West, 11.44 West and 10.1 North-East. The Mid-East has a number of 9.6 people, 6.6 came from the Mid-West and South-East are also slightly higher as well.\n",
    "The 1.5 are related to Midlands and 1.16 of the people are from North-West who are the lowest in this group. "
   ]
  },
  {
   "cell_type": "markdown",
   "id": "98543bdd",
   "metadata": {},
   "source": [
    "## "
   ]
  },
  {
   "cell_type": "markdown",
   "id": "bbbe8eb0",
   "metadata": {},
   "source": [
    "## (e) Perform a multivariate analysis"
   ]
  },
  {
   "cell_type": "code",
   "execution_count": 28,
   "id": "d3590391",
   "metadata": {},
   "outputs": [],
   "source": [
    "x1 = data3[\"Region\"]\n",
    "x2 = data3[\"Month\"]\n",
    "x3 = data3[\"Year\"]\n"
   ]
  },
  {
   "cell_type": "code",
   "execution_count": 29,
   "id": "8bbc8736",
   "metadata": {},
   "outputs": [],
   "source": [
    "width =0.30"
   ]
  },
  {
   "cell_type": "code",
   "execution_count": 30,
   "id": "c34667b0",
   "metadata": {},
   "outputs": [],
   "source": [
    "age_group_18_24 = data3[\"Adults_Aged_18-24\"]\n",
    "age_group_25_44 = data3[\"Adults_Aged_25-44\"]\n",
    "age_group_45_64 = data3[\"Adults_Aged_45-64\"]\n",
    "age_group_65_over = data3[\"Adults_Aged_65_over\"]\n",
    "male_group = data3[\"Male_Adults\"]\n",
    "female_group = data3[\"Female_Adults\"]\n",
    "adults_families = data3[\"No. of Adults in Families\"]\n",
    "dependents_in_families = data3[\"No. of Dependants in Families\"]\n"
   ]
  },
  {
   "cell_type": "code",
   "execution_count": 31,
   "id": "cd06f828",
   "metadata": {
    "scrolled": true
   },
   "outputs": [
    {
     "data": {
      "image/png": "[encoded data removed]",
      "text/plain": [
       "<Figure size 1080x576 with 1 Axes>"
      ]
     },
     "metadata": {
      "needs_background": "light"
     },
     "output_type": "display_data"
    }
   ],
   "source": [
    "fig,ax = plt.subplots(figsize=(15,8))\n",
    "\n",
    "group1 = ax.bar(x3 - width/2, male_group, width, label = \"Male_Adults\")\n",
    "group2 = ax.bar(x3 + width/2, female_group, width, label = \"Female_Adults\")\n",
    "\n",
    "ax.set_title(\"Grouped By Gender\")\n",
    "ax.set_xlabel(\"Year\")\n",
    "ax.set_ylabel(\"Total_Adults\")\n",
    "\n",
    "plt.legend()\n",
    "plt.grid()\n",
    "for i in plot.patches:\n",
    "    plt.annotate(i.get_height(),\n",
    "                (i.get_x() + i.get_width() /2, i.get_height()),\n",
    "                ha= \"center\", va=\"baseline\", fontsize=12,\n",
    "                color=\"black\", xytext=(0,1),\n",
    "                textcoords=\"offset points\")\n",
    "    \n",
    "\n",
    "ax.set_ylim([0,3500])\n",
    "\n",
    "\n",
    "\n",
    "\n",
    "\n",
    "\n",
    "plt.show()"
   ]
  },
  {
   "cell_type": "markdown",
   "id": "567cda55",
   "metadata": {},
   "source": [
    "We can see clearly from the graph above that, almost 3.000 Male Adults have increased their seeking for a local authority's accommodation in 2021. In constrast, the Female Adults have descreased their seeking for local authorities accommodation compared to the previous years, such as 2019 and 2020."
   ]
  },
  {
   "cell_type": "markdown",
   "id": "f01e4f00",
   "metadata": {},
   "source": [
    "## "
   ]
  },
  {
   "cell_type": "code",
   "execution_count": 32,
   "id": "bc673d9b",
   "metadata": {},
   "outputs": [],
   "source": [
    "##Creating a Dataframe\n",
    "\n",
    "data4 = pd.DataFrame(data3)"
   ]
  },
  {
   "cell_type": "code",
   "execution_count": 33,
   "id": "f3625e3c",
   "metadata": {},
   "outputs": [
    {
     "data": {
      "text/html": [
       "<div>\n",
       "<style scoped>\n",
       "    .dataframe tbody tr th:only-of-type {\n",
       "        vertical-align: middle;\n",
       "    }\n",
       "\n",
       "    .dataframe tbody tr th {\n",
       "        vertical-align: top;\n",
       "    }\n",
       "\n",
       "    .dataframe thead th {\n",
       "        text-align: right;\n",
       "    }\n",
       "</style>\n",
       "<table border=\"1\" class=\"dataframe\">\n",
       "  <thead>\n",
       "    <tr style=\"text-align: right;\">\n",
       "      <th></th>\n",
       "      <th>Total_Adults</th>\n",
       "      <th>Male_Adults</th>\n",
       "      <th>Female_Adults</th>\n",
       "      <th>Adults_Aged_18-24</th>\n",
       "      <th>Adults_Aged_25-44</th>\n",
       "      <th>Adults_Aged_45-64</th>\n",
       "      <th>Adults_Aged_65_over</th>\n",
       "      <th>People who accessed Private Emerg Acc</th>\n",
       "      <th>People who accessed Supported Temp Acc</th>\n",
       "      <th>People who accessed Temp Emerg Acc</th>\n",
       "      <th>People who accessed Other Acc</th>\n",
       "      <th>No. of Families</th>\n",
       "      <th>No. of Adults in Families</th>\n",
       "      <th>No. of Single-Parent families</th>\n",
       "      <th>No. of Dependants in Families</th>\n",
       "      <th>Year</th>\n",
       "    </tr>\n",
       "  </thead>\n",
       "  <tbody>\n",
       "    <tr>\n",
       "      <th>Total_Adults</th>\n",
       "      <td>1.000000</td>\n",
       "      <td>0.997976</td>\n",
       "      <td>0.994900</td>\n",
       "      <td>0.989807</td>\n",
       "      <td>0.999579</td>\n",
       "      <td>0.997857</td>\n",
       "      <td>0.976672</td>\n",
       "      <td>0.996342</td>\n",
       "      <td>0.995364</td>\n",
       "      <td>0.578121</td>\n",
       "      <td>-0.134125</td>\n",
       "      <td>0.971411</td>\n",
       "      <td>0.977852</td>\n",
       "      <td>0.914871</td>\n",
       "      <td>0.965217</td>\n",
       "      <td>-0.018955</td>\n",
       "    </tr>\n",
       "    <tr>\n",
       "      <th>Male_Adults</th>\n",
       "      <td>0.997976</td>\n",
       "      <td>1.000000</td>\n",
       "      <td>0.986472</td>\n",
       "      <td>0.986605</td>\n",
       "      <td>0.996490</td>\n",
       "      <td>0.998837</td>\n",
       "      <td>0.971827</td>\n",
       "      <td>0.997367</td>\n",
       "      <td>0.989825</td>\n",
       "      <td>0.561331</td>\n",
       "      <td>-0.133576</td>\n",
       "      <td>0.954610</td>\n",
       "      <td>0.962857</td>\n",
       "      <td>0.891787</td>\n",
       "      <td>0.949639</td>\n",
       "      <td>0.006772</td>\n",
       "    </tr>\n",
       "    <tr>\n",
       "      <th>Female_Adults</th>\n",
       "      <td>0.994900</td>\n",
       "      <td>0.986472</td>\n",
       "      <td>1.000000</td>\n",
       "      <td>0.986661</td>\n",
       "      <td>0.996172</td>\n",
       "      <td>0.988011</td>\n",
       "      <td>0.976239</td>\n",
       "      <td>0.986435</td>\n",
       "      <td>0.995876</td>\n",
       "      <td>0.599948</td>\n",
       "      <td>-0.133881</td>\n",
       "      <td>0.989988</td>\n",
       "      <td>0.993510</td>\n",
       "      <td>0.943882</td>\n",
       "      <td>0.981906</td>\n",
       "      <td>-0.059605</td>\n",
       "    </tr>\n",
       "    <tr>\n",
       "      <th>Adults_Aged_18-24</th>\n",
       "      <td>0.989807</td>\n",
       "      <td>0.986605</td>\n",
       "      <td>0.986661</td>\n",
       "      <td>1.000000</td>\n",
       "      <td>0.987463</td>\n",
       "      <td>0.982842</td>\n",
       "      <td>0.959638</td>\n",
       "      <td>0.983730</td>\n",
       "      <td>0.987956</td>\n",
       "      <td>0.574120</td>\n",
       "      <td>-0.122113</td>\n",
       "      <td>0.963611</td>\n",
       "      <td>0.973574</td>\n",
       "      <td>0.887745</td>\n",
       "      <td>0.949021</td>\n",
       "      <td>-0.015418</td>\n",
       "    </tr>\n",
       "    <tr>\n",
       "      <th>Adults_Aged_25-44</th>\n",
       "      <td>0.999579</td>\n",
       "      <td>0.996490</td>\n",
       "      <td>0.996172</td>\n",
       "      <td>0.987463</td>\n",
       "      <td>1.000000</td>\n",
       "      <td>0.996499</td>\n",
       "      <td>0.976818</td>\n",
       "      <td>0.994832</td>\n",
       "      <td>0.996103</td>\n",
       "      <td>0.584115</td>\n",
       "      <td>-0.136327</td>\n",
       "      <td>0.975257</td>\n",
       "      <td>0.980610</td>\n",
       "      <td>0.923242</td>\n",
       "      <td>0.969509</td>\n",
       "      <td>-0.026741</td>\n",
       "    </tr>\n",
       "    <tr>\n",
       "      <th>Adults_Aged_45-64</th>\n",
       "      <td>0.997857</td>\n",
       "      <td>0.998837</td>\n",
       "      <td>0.988011</td>\n",
       "      <td>0.982842</td>\n",
       "      <td>0.996499</td>\n",
       "      <td>1.000000</td>\n",
       "      <td>0.973912</td>\n",
       "      <td>0.997463</td>\n",
       "      <td>0.989625</td>\n",
       "      <td>0.564224</td>\n",
       "      <td>-0.132771</td>\n",
       "      <td>0.958649</td>\n",
       "      <td>0.965885</td>\n",
       "      <td>0.901182</td>\n",
       "      <td>0.955312</td>\n",
       "      <td>-0.002498</td>\n",
       "    </tr>\n",
       "    <tr>\n",
       "      <th>Adults_Aged_65_over</th>\n",
       "      <td>0.976672</td>\n",
       "      <td>0.971827</td>\n",
       "      <td>0.976239</td>\n",
       "      <td>0.959638</td>\n",
       "      <td>0.976818</td>\n",
       "      <td>0.973912</td>\n",
       "      <td>1.000000</td>\n",
       "      <td>0.976546</td>\n",
       "      <td>0.969947</td>\n",
       "      <td>0.539135</td>\n",
       "      <td>-0.150595</td>\n",
       "      <td>0.959379</td>\n",
       "      <td>0.963107</td>\n",
       "      <td>0.915001</td>\n",
       "      <td>0.955377</td>\n",
       "      <td>-0.040939</td>\n",
       "    </tr>\n",
       "    <tr>\n",
       "      <th>People who accessed Private Emerg Acc</th>\n",
       "      <td>0.996342</td>\n",
       "      <td>0.997367</td>\n",
       "      <td>0.986435</td>\n",
       "      <td>0.983730</td>\n",
       "      <td>0.994832</td>\n",
       "      <td>0.997463</td>\n",
       "      <td>0.976546</td>\n",
       "      <td>1.000000</td>\n",
       "      <td>0.984073</td>\n",
       "      <td>0.544949</td>\n",
       "      <td>-0.144681</td>\n",
       "      <td>0.955998</td>\n",
       "      <td>0.963912</td>\n",
       "      <td>0.894266</td>\n",
       "      <td>0.952297</td>\n",
       "      <td>-0.008806</td>\n",
       "    </tr>\n",
       "    <tr>\n",
       "      <th>People who accessed Supported Temp Acc</th>\n",
       "      <td>0.995364</td>\n",
       "      <td>0.989825</td>\n",
       "      <td>0.995876</td>\n",
       "      <td>0.987956</td>\n",
       "      <td>0.996103</td>\n",
       "      <td>0.989625</td>\n",
       "      <td>0.969947</td>\n",
       "      <td>0.984073</td>\n",
       "      <td>1.000000</td>\n",
       "      <td>0.590657</td>\n",
       "      <td>-0.122660</td>\n",
       "      <td>0.980481</td>\n",
       "      <td>0.985339</td>\n",
       "      <td>0.930009</td>\n",
       "      <td>0.971692</td>\n",
       "      <td>-0.029358</td>\n",
       "    </tr>\n",
       "    <tr>\n",
       "      <th>People who accessed Temp Emerg Acc</th>\n",
       "      <td>0.578121</td>\n",
       "      <td>0.561331</td>\n",
       "      <td>0.599948</td>\n",
       "      <td>0.574120</td>\n",
       "      <td>0.584115</td>\n",
       "      <td>0.564224</td>\n",
       "      <td>0.539135</td>\n",
       "      <td>0.544949</td>\n",
       "      <td>0.590657</td>\n",
       "      <td>1.000000</td>\n",
       "      <td>-0.180162</td>\n",
       "      <td>0.624096</td>\n",
       "      <td>0.618630</td>\n",
       "      <td>0.624299</td>\n",
       "      <td>0.607856</td>\n",
       "      <td>-0.070929</td>\n",
       "    </tr>\n",
       "    <tr>\n",
       "      <th>People who accessed Other Acc</th>\n",
       "      <td>-0.134125</td>\n",
       "      <td>-0.133576</td>\n",
       "      <td>-0.133881</td>\n",
       "      <td>-0.122113</td>\n",
       "      <td>-0.136327</td>\n",
       "      <td>-0.132771</td>\n",
       "      <td>-0.150595</td>\n",
       "      <td>-0.144681</td>\n",
       "      <td>-0.122660</td>\n",
       "      <td>-0.180162</td>\n",
       "      <td>1.000000</td>\n",
       "      <td>-0.135128</td>\n",
       "      <td>-0.134800</td>\n",
       "      <td>-0.139522</td>\n",
       "      <td>-0.134820</td>\n",
       "      <td>-0.301199</td>\n",
       "    </tr>\n",
       "    <tr>\n",
       "      <th>No. of Families</th>\n",
       "      <td>0.971411</td>\n",
       "      <td>0.954610</td>\n",
       "      <td>0.989988</td>\n",
       "      <td>0.963611</td>\n",
       "      <td>0.975257</td>\n",
       "      <td>0.958649</td>\n",
       "      <td>0.959379</td>\n",
       "      <td>0.955998</td>\n",
       "      <td>0.980481</td>\n",
       "      <td>0.624096</td>\n",
       "      <td>-0.135128</td>\n",
       "      <td>1.000000</td>\n",
       "      <td>0.998941</td>\n",
       "      <td>0.971824</td>\n",
       "      <td>0.990153</td>\n",
       "      <td>-0.106401</td>\n",
       "    </tr>\n",
       "    <tr>\n",
       "      <th>No. of Adults in Families</th>\n",
       "      <td>0.977852</td>\n",
       "      <td>0.962857</td>\n",
       "      <td>0.993510</td>\n",
       "      <td>0.973574</td>\n",
       "      <td>0.980610</td>\n",
       "      <td>0.965885</td>\n",
       "      <td>0.963107</td>\n",
       "      <td>0.963912</td>\n",
       "      <td>0.985339</td>\n",
       "      <td>0.618630</td>\n",
       "      <td>-0.134800</td>\n",
       "      <td>0.998941</td>\n",
       "      <td>1.000000</td>\n",
       "      <td>0.961497</td>\n",
       "      <td>0.987727</td>\n",
       "      <td>-0.094060</td>\n",
       "    </tr>\n",
       "    <tr>\n",
       "      <th>No. of Single-Parent families</th>\n",
       "      <td>0.914871</td>\n",
       "      <td>0.891787</td>\n",
       "      <td>0.943882</td>\n",
       "      <td>0.887745</td>\n",
       "      <td>0.923242</td>\n",
       "      <td>0.901182</td>\n",
       "      <td>0.915001</td>\n",
       "      <td>0.894266</td>\n",
       "      <td>0.930009</td>\n",
       "      <td>0.624299</td>\n",
       "      <td>-0.139522</td>\n",
       "      <td>0.971824</td>\n",
       "      <td>0.961497</td>\n",
       "      <td>1.000000</td>\n",
       "      <td>0.974814</td>\n",
       "      <td>-0.105323</td>\n",
       "    </tr>\n",
       "    <tr>\n",
       "      <th>No. of Dependants in Families</th>\n",
       "      <td>0.965217</td>\n",
       "      <td>0.949639</td>\n",
       "      <td>0.981906</td>\n",
       "      <td>0.949021</td>\n",
       "      <td>0.969509</td>\n",
       "      <td>0.955312</td>\n",
       "      <td>0.955377</td>\n",
       "      <td>0.952297</td>\n",
       "      <td>0.971692</td>\n",
       "      <td>0.607856</td>\n",
       "      <td>-0.134820</td>\n",
       "      <td>0.990153</td>\n",
       "      <td>0.987727</td>\n",
       "      <td>0.974814</td>\n",
       "      <td>1.000000</td>\n",
       "      <td>-0.091278</td>\n",
       "    </tr>\n",
       "    <tr>\n",
       "      <th>Year</th>\n",
       "      <td>-0.018955</td>\n",
       "      <td>0.006772</td>\n",
       "      <td>-0.059605</td>\n",
       "      <td>-0.015418</td>\n",
       "      <td>-0.026741</td>\n",
       "      <td>-0.002498</td>\n",
       "      <td>-0.040939</td>\n",
       "      <td>-0.008806</td>\n",
       "      <td>-0.029358</td>\n",
       "      <td>-0.070929</td>\n",
       "      <td>-0.301199</td>\n",
       "      <td>-0.106401</td>\n",
       "      <td>-0.094060</td>\n",
       "      <td>-0.105323</td>\n",
       "      <td>-0.091278</td>\n",
       "      <td>1.000000</td>\n",
       "    </tr>\n",
       "  </tbody>\n",
       "</table>\n",
       "</div>"
      ],
      "text/plain": [
       "                                        Total_Adults  Male_Adults  \\\n",
       "Total_Adults                                1.000000     0.997976   \n",
       "Male_Adults                                 0.997976     1.000000   \n",
       "Female_Adults                               0.994900     0.986472   \n",
       "Adults_Aged_18-24                           0.989807     0.986605   \n",
       "Adults_Aged_25-44                           0.999579     0.996490   \n",
       "Adults_Aged_45-64                           0.997857     0.998837   \n",
       "Adults_Aged_65_over                         0.976672     0.971827   \n",
       "People who accessed Private Emerg Acc       0.996342     0.997367   \n",
       "People who accessed Supported Temp Acc      0.995364     0.989825   \n",
       "People who accessed Temp Emerg Acc          0.578121     0.561331   \n",
       "People who accessed Other Acc              -0.134125    -0.133576   \n",
       "No. of Families                             0.971411     0.954610   \n",
       "No. of Adults in Families                   0.977852     0.962857   \n",
       "No. of Single-Parent families               0.914871     0.891787   \n",
       "No. of Dependants in Families               0.965217     0.949639   \n",
       "Year                                       -0.018955     0.006772   \n",
       "\n",
       "                                        Female_Adults  Adults_Aged_18-24  \\\n",
       "Total_Adults                                 0.994900           0.989807   \n",
       "Male_Adults                                  0.986472           0.986605   \n",
       "Female_Adults                                1.000000           0.986661   \n",
       "Adults_Aged_18-24                            0.986661           1.000000   \n",
       "Adults_Aged_25-44                            0.996172           0.987463   \n",
       "Adults_Aged_45-64                            0.988011           0.982842   \n",
       "Adults_Aged_65_over                          0.976239           0.959638   \n",
       "People who accessed Private Emerg Acc        0.986435           0.983730   \n",
       "People who accessed Supported Temp Acc       0.995876           0.987956   \n",
       "People who accessed Temp Emerg Acc           0.599948           0.574120   \n",
       "People who accessed Other Acc               -0.133881          -0.122113   \n",
       "No. of Families                              0.989988           0.963611   \n",
       "No. of Adults in Families                    0.993510           0.973574   \n",
       "No. of Single-Parent families                0.943882           0.887745   \n",
       "No. of Dependants in Families                0.981906           0.949021   \n",
       "Year                                        -0.059605          -0.015418   \n",
       "\n",
       "                                        Adults_Aged_25-44  Adults_Aged_45-64  \\\n",
       "Total_Adults                                     0.999579           0.997857   \n",
       "Male_Adults                                      0.996490           0.998837   \n",
       "Female_Adults                                    0.996172           0.988011   \n",
       "Adults_Aged_18-24                                0.987463           0.982842   \n",
       "Adults_Aged_25-44                                1.000000           0.996499   \n",
       "Adults_Aged_45-64                                0.996499           1.000000   \n",
       "Adults_Aged_65_over                              0.976818           0.973912   \n",
       "People who accessed Private Emerg Acc            0.994832           0.997463   \n",
       "People who accessed Supported Temp Acc           0.996103           0.989625   \n",
       "People who accessed Temp Emerg Acc               0.584115           0.564224   \n",
       "People who accessed Other Acc                   -0.136327          -0.132771   \n",
       "No. of Families                                  0.975257           0.958649   \n",
       "No. of Adults in Families                        0.980610           0.965885   \n",
       "No. of Single-Parent families                    0.923242           0.901182   \n",
       "No. of Dependants in Families                    0.969509           0.955312   \n",
       "Year                                            -0.026741          -0.002498   \n",
       "\n",
       "                                        Adults_Aged_65_over  \\\n",
       "Total_Adults                                       0.976672   \n",
       "Male_Adults                                        0.971827   \n",
       "Female_Adults                                      0.976239   \n",
       "Adults_Aged_18-24                                  0.959638   \n",
       "Adults_Aged_25-44                                  0.976818   \n",
       "Adults_Aged_45-64                                  0.973912   \n",
       "Adults_Aged_65_over                                1.000000   \n",
       "People who accessed Private Emerg Acc              0.976546   \n",
       "People who accessed Supported Temp Acc             0.969947   \n",
       "People who accessed Temp Emerg Acc                 0.539135   \n",
       "People who accessed Other Acc                     -0.150595   \n",
       "No. of Families                                    0.959379   \n",
       "No. of Adults in Families                          0.963107   \n",
       "No. of Single-Parent families                      0.915001   \n",
       "No. of Dependants in Families                      0.955377   \n",
       "Year                                              -0.040939   \n",
       "\n",
       "                                        People who accessed Private Emerg Acc  \\\n",
       "Total_Adults                                                         0.996342   \n",
       "Male_Adults                                                          0.997367   \n",
       "Female_Adults                                                        0.986435   \n",
       "Adults_Aged_18-24                                                    0.983730   \n",
       "Adults_Aged_25-44                                                    0.994832   \n",
       "Adults_Aged_45-64                                                    0.997463   \n",
       "Adults_Aged_65_over                                                  0.976546   \n",
       "People who accessed Private Emerg Acc                                1.000000   \n",
       "People who accessed Supported Temp Acc                               0.984073   \n",
       "People who accessed Temp Emerg Acc                                   0.544949   \n",
       "People who accessed Other Acc                                       -0.144681   \n",
       "No. of Families                                                      0.955998   \n",
       "No. of Adults in Families                                            0.963912   \n",
       "No. of Single-Parent families                                        0.894266   \n",
       "No. of Dependants in Families                                        0.952297   \n",
       "Year                                                                -0.008806   \n",
       "\n",
       "                                        People who accessed Supported Temp Acc  \\\n",
       "Total_Adults                                                          0.995364   \n",
       "Male_Adults                                                           0.989825   \n",
       "Female_Adults                                                         0.995876   \n",
       "Adults_Aged_18-24                                                     0.987956   \n",
       "Adults_Aged_25-44                                                     0.996103   \n",
       "Adults_Aged_45-64                                                     0.989625   \n",
       "Adults_Aged_65_over                                                   0.969947   \n",
       "People who accessed Private Emerg Acc                                 0.984073   \n",
       "People who accessed Supported Temp Acc                                1.000000   \n",
       "People who accessed Temp Emerg Acc                                    0.590657   \n",
       "People who accessed Other Acc                                        -0.122660   \n",
       "No. of Families                                                       0.980481   \n",
       "No. of Adults in Families                                             0.985339   \n",
       "No. of Single-Parent families                                         0.930009   \n",
       "No. of Dependants in Families                                         0.971692   \n",
       "Year                                                                 -0.029358   \n",
       "\n",
       "                                        People who accessed Temp Emerg Acc  \\\n",
       "Total_Adults                                                      0.578121   \n",
       "Male_Adults                                                       0.561331   \n",
       "Female_Adults                                                     0.599948   \n",
       "Adults_Aged_18-24                                                 0.574120   \n",
       "Adults_Aged_25-44                                                 0.584115   \n",
       "Adults_Aged_45-64                                                 0.564224   \n",
       "Adults_Aged_65_over                                               0.539135   \n",
       "People who accessed Private Emerg Acc                             0.544949   \n",
       "People who accessed Supported Temp Acc                            0.590657   \n",
       "People who accessed Temp Emerg Acc                                1.000000   \n",
       "People who accessed Other Acc                                    -0.180162   \n",
       "No. of Families                                                   0.624096   \n",
       "No. of Adults in Families                                         0.618630   \n",
       "No. of Single-Parent families                                     0.624299   \n",
       "No. of Dependants in Families                                     0.607856   \n",
       "Year                                                             -0.070929   \n",
       "\n",
       "                                        People who accessed Other Acc  \\\n",
       "Total_Adults                                                -0.134125   \n",
       "Male_Adults                                                 -0.133576   \n",
       "Female_Adults                                               -0.133881   \n",
       "Adults_Aged_18-24                                           -0.122113   \n",
       "Adults_Aged_25-44                                           -0.136327   \n",
       "Adults_Aged_45-64                                           -0.132771   \n",
       "Adults_Aged_65_over                                         -0.150595   \n",
       "People who accessed Private Emerg Acc                       -0.144681   \n",
       "People who accessed Supported Temp Acc                      -0.122660   \n",
       "People who accessed Temp Emerg Acc                          -0.180162   \n",
       "People who accessed Other Acc                                1.000000   \n",
       "No. of Families                                             -0.135128   \n",
       "No. of Adults in Families                                   -0.134800   \n",
       "No. of Single-Parent families                               -0.139522   \n",
       "No. of Dependants in Families                               -0.134820   \n",
       "Year                                                        -0.301199   \n",
       "\n",
       "                                        No. of Families  \\\n",
       "Total_Adults                                   0.971411   \n",
       "Male_Adults                                    0.954610   \n",
       "Female_Adults                                  0.989988   \n",
       "Adults_Aged_18-24                              0.963611   \n",
       "Adults_Aged_25-44                              0.975257   \n",
       "Adults_Aged_45-64                              0.958649   \n",
       "Adults_Aged_65_over                            0.959379   \n",
       "People who accessed Private Emerg Acc          0.955998   \n",
       "People who accessed Supported Temp Acc         0.980481   \n",
       "People who accessed Temp Emerg Acc             0.624096   \n",
       "People who accessed Other Acc                 -0.135128   \n",
       "No. of Families                                1.000000   \n",
       "No. of Adults in Families                      0.998941   \n",
       "No. of Single-Parent families                  0.971824   \n",
       "No. of Dependants in Families                  0.990153   \n",
       "Year                                          -0.106401   \n",
       "\n",
       "                                        No. of Adults in Families  \\\n",
       "Total_Adults                                             0.977852   \n",
       "Male_Adults                                              0.962857   \n",
       "Female_Adults                                            0.993510   \n",
       "Adults_Aged_18-24                                        0.973574   \n",
       "Adults_Aged_25-44                                        0.980610   \n",
       "Adults_Aged_45-64                                        0.965885   \n",
       "Adults_Aged_65_over                                      0.963107   \n",
       "People who accessed Private Emerg Acc                    0.963912   \n",
       "People who accessed Supported Temp Acc                   0.985339   \n",
       "People who accessed Temp Emerg Acc                       0.618630   \n",
       "People who accessed Other Acc                           -0.134800   \n",
       "No. of Families                                          0.998941   \n",
       "No. of Adults in Families                                1.000000   \n",
       "No. of Single-Parent families                            0.961497   \n",
       "No. of Dependants in Families                            0.987727   \n",
       "Year                                                    -0.094060   \n",
       "\n",
       "                                        No. of Single-Parent families  \\\n",
       "Total_Adults                                                 0.914871   \n",
       "Male_Adults                                                  0.891787   \n",
       "Female_Adults                                                0.943882   \n",
       "Adults_Aged_18-24                                            0.887745   \n",
       "Adults_Aged_25-44                                            0.923242   \n",
       "Adults_Aged_45-64                                            0.901182   \n",
       "Adults_Aged_65_over                                          0.915001   \n",
       "People who accessed Private Emerg Acc                        0.894266   \n",
       "People who accessed Supported Temp Acc                       0.930009   \n",
       "People who accessed Temp Emerg Acc                           0.624299   \n",
       "People who accessed Other Acc                               -0.139522   \n",
       "No. of Families                                              0.971824   \n",
       "No. of Adults in Families                                    0.961497   \n",
       "No. of Single-Parent families                                1.000000   \n",
       "No. of Dependants in Families                                0.974814   \n",
       "Year                                                        -0.105323   \n",
       "\n",
       "                                        No. of Dependants in Families  \\\n",
       "Total_Adults                                                 0.965217   \n",
       "Male_Adults                                                  0.949639   \n",
       "Female_Adults                                                0.981906   \n",
       "Adults_Aged_18-24                                            0.949021   \n",
       "Adults_Aged_25-44                                            0.969509   \n",
       "Adults_Aged_45-64                                            0.955312   \n",
       "Adults_Aged_65_over                                          0.955377   \n",
       "People who accessed Private Emerg Acc                        0.952297   \n",
       "People who accessed Supported Temp Acc                       0.971692   \n",
       "People who accessed Temp Emerg Acc                           0.607856   \n",
       "People who accessed Other Acc                               -0.134820   \n",
       "No. of Families                                              0.990153   \n",
       "No. of Adults in Families                                    0.987727   \n",
       "No. of Single-Parent families                                0.974814   \n",
       "No. of Dependants in Families                                1.000000   \n",
       "Year                                                        -0.091278   \n",
       "\n",
       "                                            Year  \n",
       "Total_Adults                           -0.018955  \n",
       "Male_Adults                             0.006772  \n",
       "Female_Adults                          -0.059605  \n",
       "Adults_Aged_18-24                      -0.015418  \n",
       "Adults_Aged_25-44                      -0.026741  \n",
       "Adults_Aged_45-64                      -0.002498  \n",
       "Adults_Aged_65_over                    -0.040939  \n",
       "People who accessed Private Emerg Acc  -0.008806  \n",
       "People who accessed Supported Temp Acc -0.029358  \n",
       "People who accessed Temp Emerg Acc     -0.070929  \n",
       "People who accessed Other Acc          -0.301199  \n",
       "No. of Families                        -0.106401  \n",
       "No. of Adults in Families              -0.094060  \n",
       "No. of Single-Parent families          -0.105323  \n",
       "No. of Dependants in Families          -0.091278  \n",
       "Year                                    1.000000  "
      ]
     },
     "execution_count": 33,
     "metadata": {},
     "output_type": "execute_result"
    }
   ],
   "source": [
    "##Creating a correlation Matrix code\n",
    "data4.corr()"
   ]
  },
  {
   "cell_type": "code",
   "execution_count": 34,
   "id": "075a9f4b",
   "metadata": {},
   "outputs": [
    {
     "name": "stdout",
     "output_type": "stream",
     "text": [
      "                                        Total_Adults  Male_Adults  \\\n",
      "Total_Adults                                1.000000     0.997976   \n",
      "Male_Adults                                 0.997976     1.000000   \n",
      "Female_Adults                               0.994900     0.986472   \n",
      "Adults_Aged_18-24                           0.989807     0.986605   \n",
      "Adults_Aged_25-44                           0.999579     0.996490   \n",
      "Adults_Aged_45-64                           0.997857     0.998837   \n",
      "Adults_Aged_65_over                         0.976672     0.971827   \n",
      "People who accessed Private Emerg Acc       0.996342     0.997367   \n",
      "People who accessed Supported Temp Acc      0.995364     0.989825   \n",
      "People who accessed Temp Emerg Acc          0.578121     0.561331   \n",
      "People who accessed Other Acc              -0.134125    -0.133576   \n",
      "No. of Families                             0.971411     0.954610   \n",
      "No. of Adults in Families                   0.977852     0.962857   \n",
      "No. of Single-Parent families               0.914871     0.891787   \n",
      "No. of Dependants in Families               0.965217     0.949639   \n",
      "Year                                       -0.018955     0.006772   \n",
      "\n",
      "                                        Female_Adults  Adults_Aged_18-24  \\\n",
      "Total_Adults                                 0.994900           0.989807   \n",
      "Male_Adults                                  0.986472           0.986605   \n",
      "Female_Adults                                1.000000           0.986661   \n",
      "Adults_Aged_18-24                            0.986661           1.000000   \n",
      "Adults_Aged_25-44                            0.996172           0.987463   \n",
      "Adults_Aged_45-64                            0.988011           0.982842   \n",
      "Adults_Aged_65_over                          0.976239           0.959638   \n",
      "People who accessed Private Emerg Acc        0.986435           0.983730   \n",
      "People who accessed Supported Temp Acc       0.995876           0.987956   \n",
      "People who accessed Temp Emerg Acc           0.599948           0.574120   \n",
      "People who accessed Other Acc               -0.133881          -0.122113   \n",
      "No. of Families                              0.989988           0.963611   \n",
      "No. of Adults in Families                    0.993510           0.973574   \n",
      "No. of Single-Parent families                0.943882           0.887745   \n",
      "No. of Dependants in Families                0.981906           0.949021   \n",
      "Year                                        -0.059605          -0.015418   \n",
      "\n",
      "                                        Adults_Aged_25-44  Adults_Aged_45-64  \\\n",
      "Total_Adults                                     0.999579           0.997857   \n",
      "Male_Adults                                      0.996490           0.998837   \n",
      "Female_Adults                                    0.996172           0.988011   \n",
      "Adults_Aged_18-24                                0.987463           0.982842   \n",
      "Adults_Aged_25-44                                1.000000           0.996499   \n",
      "Adults_Aged_45-64                                0.996499           1.000000   \n",
      "Adults_Aged_65_over                              0.976818           0.973912   \n",
      "People who accessed Private Emerg Acc            0.994832           0.997463   \n",
      "People who accessed Supported Temp Acc           0.996103           0.989625   \n",
      "People who accessed Temp Emerg Acc               0.584115           0.564224   \n",
      "People who accessed Other Acc                   -0.136327          -0.132771   \n",
      "No. of Families                                  0.975257           0.958649   \n",
      "No. of Adults in Families                        0.980610           0.965885   \n",
      "No. of Single-Parent families                    0.923242           0.901182   \n",
      "No. of Dependants in Families                    0.969509           0.955312   \n",
      "Year                                            -0.026741          -0.002498   \n",
      "\n",
      "                                        Adults_Aged_65_over  \\\n",
      "Total_Adults                                       0.976672   \n",
      "Male_Adults                                        0.971827   \n",
      "Female_Adults                                      0.976239   \n",
      "Adults_Aged_18-24                                  0.959638   \n",
      "Adults_Aged_25-44                                  0.976818   \n",
      "Adults_Aged_45-64                                  0.973912   \n",
      "Adults_Aged_65_over                                1.000000   \n",
      "People who accessed Private Emerg Acc              0.976546   \n",
      "People who accessed Supported Temp Acc             0.969947   \n",
      "People who accessed Temp Emerg Acc                 0.539135   \n",
      "People who accessed Other Acc                     -0.150595   \n",
      "No. of Families                                    0.959379   \n",
      "No. of Adults in Families                          0.963107   \n",
      "No. of Single-Parent families                      0.915001   \n",
      "No. of Dependants in Families                      0.955377   \n",
      "Year                                              -0.040939   \n",
      "\n",
      "                                        People who accessed Private Emerg Acc  \\\n",
      "Total_Adults                                                         0.996342   \n",
      "Male_Adults                                                          0.997367   \n",
      "Female_Adults                                                        0.986435   \n",
      "Adults_Aged_18-24                                                    0.983730   \n",
      "Adults_Aged_25-44                                                    0.994832   \n",
      "Adults_Aged_45-64                                                    0.997463   \n",
      "Adults_Aged_65_over                                                  0.976546   \n",
      "People who accessed Private Emerg Acc                                1.000000   \n",
      "People who accessed Supported Temp Acc                               0.984073   \n",
      "People who accessed Temp Emerg Acc                                   0.544949   \n",
      "People who accessed Other Acc                                       -0.144681   \n",
      "No. of Families                                                      0.955998   \n",
      "No. of Adults in Families                                            0.963912   \n",
      "No. of Single-Parent families                                        0.894266   \n",
      "No. of Dependants in Families                                        0.952297   \n",
      "Year                                                                -0.008806   \n",
      "\n",
      "                                        People who accessed Supported Temp Acc  \\\n",
      "Total_Adults                                                          0.995364   \n",
      "Male_Adults                                                           0.989825   \n",
      "Female_Adults                                                         0.995876   \n",
      "Adults_Aged_18-24                                                     0.987956   \n",
      "Adults_Aged_25-44                                                     0.996103   \n",
      "Adults_Aged_45-64                                                     0.989625   \n",
      "Adults_Aged_65_over                                                   0.969947   \n",
      "People who accessed Private Emerg Acc                                 0.984073   \n",
      "People who accessed Supported Temp Acc                                1.000000   \n",
      "People who accessed Temp Emerg Acc                                    0.590657   \n",
      "People who accessed Other Acc                                        -0.122660   \n",
      "No. of Families                                                       0.980481   \n",
      "No. of Adults in Families                                             0.985339   \n",
      "No. of Single-Parent families                                         0.930009   \n",
      "No. of Dependants in Families                                         0.971692   \n",
      "Year                                                                 -0.029358   \n",
      "\n",
      "                                        People who accessed Temp Emerg Acc  \\\n",
      "Total_Adults                                                      0.578121   \n",
      "Male_Adults                                                       0.561331   \n",
      "Female_Adults                                                     0.599948   \n",
      "Adults_Aged_18-24                                                 0.574120   \n",
      "Adults_Aged_25-44                                                 0.584115   \n",
      "Adults_Aged_45-64                                                 0.564224   \n",
      "Adults_Aged_65_over                                               0.539135   \n",
      "People who accessed Private Emerg Acc                             0.544949   \n",
      "People who accessed Supported Temp Acc                            0.590657   \n",
      "People who accessed Temp Emerg Acc                                1.000000   \n",
      "People who accessed Other Acc                                    -0.180162   \n",
      "No. of Families                                                   0.624096   \n",
      "No. of Adults in Families                                         0.618630   \n",
      "No. of Single-Parent families                                     0.624299   \n",
      "No. of Dependants in Families                                     0.607856   \n",
      "Year                                                             -0.070929   \n",
      "\n",
      "                                        People who accessed Other Acc  \\\n",
      "Total_Adults                                                -0.134125   \n",
      "Male_Adults                                                 -0.133576   \n",
      "Female_Adults                                               -0.133881   \n",
      "Adults_Aged_18-24                                           -0.122113   \n",
      "Adults_Aged_25-44                                           -0.136327   \n",
      "Adults_Aged_45-64                                           -0.132771   \n",
      "Adults_Aged_65_over                                         -0.150595   \n",
      "People who accessed Private Emerg Acc                       -0.144681   \n",
      "People who accessed Supported Temp Acc                      -0.122660   \n",
      "People who accessed Temp Emerg Acc                          -0.180162   \n",
      "People who accessed Other Acc                                1.000000   \n",
      "No. of Families                                             -0.135128   \n",
      "No. of Adults in Families                                   -0.134800   \n",
      "No. of Single-Parent families                               -0.139522   \n",
      "No. of Dependants in Families                               -0.134820   \n",
      "Year                                                        -0.301199   \n",
      "\n",
      "                                        No. of Families  \\\n",
      "Total_Adults                                   0.971411   \n",
      "Male_Adults                                    0.954610   \n",
      "Female_Adults                                  0.989988   \n",
      "Adults_Aged_18-24                              0.963611   \n",
      "Adults_Aged_25-44                              0.975257   \n",
      "Adults_Aged_45-64                              0.958649   \n",
      "Adults_Aged_65_over                            0.959379   \n",
      "People who accessed Private Emerg Acc          0.955998   \n",
      "People who accessed Supported Temp Acc         0.980481   \n",
      "People who accessed Temp Emerg Acc             0.624096   \n",
      "People who accessed Other Acc                 -0.135128   \n",
      "No. of Families                                1.000000   \n",
      "No. of Adults in Families                      0.998941   \n",
      "No. of Single-Parent families                  0.971824   \n",
      "No. of Dependants in Families                  0.990153   \n",
      "Year                                          -0.106401   \n",
      "\n",
      "                                        No. of Adults in Families  \\\n",
      "Total_Adults                                             0.977852   \n",
      "Male_Adults                                              0.962857   \n",
      "Female_Adults                                            0.993510   \n",
      "Adults_Aged_18-24                                        0.973574   \n",
      "Adults_Aged_25-44                                        0.980610   \n",
      "Adults_Aged_45-64                                        0.965885   \n",
      "Adults_Aged_65_over                                      0.963107   \n",
      "People who accessed Private Emerg Acc                    0.963912   \n",
      "People who accessed Supported Temp Acc                   0.985339   \n",
      "People who accessed Temp Emerg Acc                       0.618630   \n",
      "People who accessed Other Acc                           -0.134800   \n",
      "No. of Families                                          0.998941   \n",
      "No. of Adults in Families                                1.000000   \n",
      "No. of Single-Parent families                            0.961497   \n",
      "No. of Dependants in Families                            0.987727   \n",
      "Year                                                    -0.094060   \n",
      "\n",
      "                                        No. of Single-Parent families  \\\n",
      "Total_Adults                                                 0.914871   \n",
      "Male_Adults                                                  0.891787   \n",
      "Female_Adults                                                0.943882   \n",
      "Adults_Aged_18-24                                            0.887745   \n",
      "Adults_Aged_25-44                                            0.923242   \n",
      "Adults_Aged_45-64                                            0.901182   \n",
      "Adults_Aged_65_over                                          0.915001   \n",
      "People who accessed Private Emerg Acc                        0.894266   \n",
      "People who accessed Supported Temp Acc                       0.930009   \n",
      "People who accessed Temp Emerg Acc                           0.624299   \n",
      "People who accessed Other Acc                               -0.139522   \n",
      "No. of Families                                              0.971824   \n",
      "No. of Adults in Families                                    0.961497   \n",
      "No. of Single-Parent families                                1.000000   \n",
      "No. of Dependants in Families                                0.974814   \n",
      "Year                                                        -0.105323   \n",
      "\n",
      "                                        No. of Dependants in Families  \\\n",
      "Total_Adults                                                 0.965217   \n",
      "Male_Adults                                                  0.949639   \n",
      "Female_Adults                                                0.981906   \n",
      "Adults_Aged_18-24                                            0.949021   \n",
      "Adults_Aged_25-44                                            0.969509   \n",
      "Adults_Aged_45-64                                            0.955312   \n",
      "Adults_Aged_65_over                                          0.955377   \n",
      "People who accessed Private Emerg Acc                        0.952297   \n",
      "People who accessed Supported Temp Acc                       0.971692   \n",
      "People who accessed Temp Emerg Acc                           0.607856   \n",
      "People who accessed Other Acc                               -0.134820   \n",
      "No. of Families                                              0.990153   \n",
      "No. of Adults in Families                                    0.987727   \n",
      "No. of Single-Parent families                                0.974814   \n",
      "No. of Dependants in Families                                1.000000   \n",
      "Year                                                        -0.091278   \n",
      "\n",
      "                                            Year  \n",
      "Total_Adults                           -0.018955  \n",
      "Male_Adults                             0.006772  \n",
      "Female_Adults                          -0.059605  \n",
      "Adults_Aged_18-24                      -0.015418  \n",
      "Adults_Aged_25-44                      -0.026741  \n",
      "Adults_Aged_45-64                      -0.002498  \n",
      "Adults_Aged_65_over                    -0.040939  \n",
      "People who accessed Private Emerg Acc  -0.008806  \n",
      "People who accessed Supported Temp Acc -0.029358  \n",
      "People who accessed Temp Emerg Acc     -0.070929  \n",
      "People who accessed Other Acc          -0.301199  \n",
      "No. of Families                        -0.106401  \n",
      "No. of Adults in Families              -0.094060  \n",
      "No. of Single-Parent families          -0.105323  \n",
      "No. of Dependants in Families          -0.091278  \n",
      "Year                                    1.000000  \n"
     ]
    }
   ],
   "source": [
    "\n",
    "corr_matrix = data4.corr()\n",
    "print(corr_matrix)"
   ]
  },
  {
   "cell_type": "code",
   "execution_count": 35,
   "id": "1ccf5ad9",
   "metadata": {},
   "outputs": [
    {
     "data": {
      "image/png": "[encoded data removed]",
      "text/plain": [
       "<Figure size 1080x576 with 2 Axes>"
      ]
     },
     "metadata": {
      "needs_background": "light"
     },
     "output_type": "display_data"
    }
   ],
   "source": [
    "plt.rcParams[\"figure.figsize\"]=(15,8)\n",
    "sns.heatmap(corr_matrix, annot=True, vmin=1,vmax=1, cmap= \"BrBG\")\n",
    "\n",
    "plt.rcParams['font.size'] = 10\n",
    "plt.rcParams['axes.titlesize'] = 10"
   ]
  },
  {
   "cell_type": "markdown",
   "id": "182731ed",
   "metadata": {},
   "source": [
    "We can see that based on this correlation matrixes, there are quite few columns with bright colors which appears to have strong correlation between each other. For example, Total Adults column is correlated with most of the columns in this table - if we check, Total Adults have strong correlation with Male Adults and Female Adults have 0.99 percent of correlation with Adults Aged [18-24]. Adults aged[65 plus] also have 0.98 percent correlation with Number of people who Accessed Private Emergency Accommodation.\n",
    "\n",
    "Conversely, there are also some data that have negative correlation with dark colors and this can be seen from the table above. For example, Number of people who accessed Private Emergency Accommodation have -0.14 negative correlation to Number of people who accessed Other Accommodation. Also, Number of people who accessed Other Accommodation have -0.13 negative correlation with Total Adults.  "
   ]
  },
  {
   "cell_type": "markdown",
   "id": "7e9577c3",
   "metadata": {},
   "source": [
    "## "
   ]
  },
  {
   "cell_type": "markdown",
   "id": "c93802c9",
   "metadata": {},
   "source": [
    "# Q4. Data preparation, modelling, and evaluation"
   ]
  },
  {
   "cell_type": "markdown",
   "id": "412bb158",
   "metadata": {},
   "source": [
    "## PART (A) "
   ]
  },
  {
   "cell_type": "markdown",
   "id": "63d46a7d",
   "metadata": {},
   "source": [
    "In this question, I will be analysing the dataset and evaluate a supervised machine learning model that is capable of predicting if the total number of adults have any close correlation with the number of accommodation that have been supported and maintained by the local authorities throughout the country."
   ]
  },
  {
   "cell_type": "markdown",
   "id": "526fc6b7",
   "metadata": {},
   "source": [
    "## "
   ]
  },
  {
   "cell_type": "markdown",
   "id": "a451cec9",
   "metadata": {},
   "source": [
    "# Prepare the data for ML algorithms."
   ]
  },
  {
   "cell_type": "markdown",
   "id": "293973f2",
   "metadata": {},
   "source": [
    "\n",
    " Based on the previous exploration some columns will be dropped before running the machine learning, (Example: Region, Month and Year).The reasons for dropping these features in this task is as follows: • It does not add any value for the prediction task.\n",
    "\n"
   ]
  },
  {
   "cell_type": "code",
   "execution_count": 36,
   "id": "86796bc5",
   "metadata": {},
   "outputs": [],
   "source": [
    "data5 = pd.DataFrame(data4)"
   ]
  },
  {
   "cell_type": "code",
   "execution_count": 37,
   "id": "f07967e6",
   "metadata": {},
   "outputs": [],
   "source": [
    "data5.drop(columns =['Region', 'Month', 'Year'], axis=1, inplace=True)\n"
   ]
  },
  {
   "cell_type": "code",
   "execution_count": 38,
   "id": "d566e260",
   "metadata": {},
   "outputs": [
    {
     "data": {
      "text/html": [
       "<div>\n",
       "<style scoped>\n",
       "    .dataframe tbody tr th:only-of-type {\n",
       "        vertical-align: middle;\n",
       "    }\n",
       "\n",
       "    .dataframe tbody tr th {\n",
       "        vertical-align: top;\n",
       "    }\n",
       "\n",
       "    .dataframe thead th {\n",
       "        text-align: right;\n",
       "    }\n",
       "</style>\n",
       "<table border=\"1\" class=\"dataframe\">\n",
       "  <thead>\n",
       "    <tr style=\"text-align: right;\">\n",
       "      <th></th>\n",
       "      <th>Total_Adults</th>\n",
       "      <th>Male_Adults</th>\n",
       "      <th>Female_Adults</th>\n",
       "      <th>Adults_Aged_18-24</th>\n",
       "      <th>Adults_Aged_25-44</th>\n",
       "      <th>Adults_Aged_45-64</th>\n",
       "      <th>Adults_Aged_65_over</th>\n",
       "      <th>People who accessed Private Emerg Acc</th>\n",
       "      <th>People who accessed Supported Temp Acc</th>\n",
       "      <th>People who accessed Temp Emerg Acc</th>\n",
       "      <th>People who accessed Other Acc</th>\n",
       "      <th>No. of Families</th>\n",
       "      <th>No. of Adults in Families</th>\n",
       "      <th>No. of Single-Parent families</th>\n",
       "      <th>No. of Dependants in Families</th>\n",
       "    </tr>\n",
       "  </thead>\n",
       "  <tbody>\n",
       "    <tr>\n",
       "      <th>0</th>\n",
       "      <td>4175.0</td>\n",
       "      <td>2724.0</td>\n",
       "      <td>1451.0</td>\n",
       "      <td>485</td>\n",
       "      <td>2397.0</td>\n",
       "      <td>1225.0</td>\n",
       "      <td>68</td>\n",
       "      <td>2372.0</td>\n",
       "      <td>1858.0</td>\n",
       "      <td>33</td>\n",
       "      <td>0</td>\n",
       "      <td>742</td>\n",
       "      <td>1121.0</td>\n",
       "      <td>363.0</td>\n",
       "      <td>1823.0</td>\n",
       "    </tr>\n",
       "    <tr>\n",
       "      <th>198</th>\n",
       "      <td>4266.0</td>\n",
       "      <td>2652.0</td>\n",
       "      <td>1614.0</td>\n",
       "      <td>475</td>\n",
       "      <td>2514.0</td>\n",
       "      <td>1190.0</td>\n",
       "      <td>87</td>\n",
       "      <td>2335.0</td>\n",
       "      <td>1902.0</td>\n",
       "      <td>42</td>\n",
       "      <td>0</td>\n",
       "      <td>974</td>\n",
       "      <td>1413.0</td>\n",
       "      <td>535.0</td>\n",
       "      <td>2232.0</td>\n",
       "    </tr>\n",
       "    <tr>\n",
       "      <th>189</th>\n",
       "      <td>4515.0</td>\n",
       "      <td>2773.0</td>\n",
       "      <td>1742.0</td>\n",
       "      <td>524</td>\n",
       "      <td>2662.0</td>\n",
       "      <td>1241.0</td>\n",
       "      <td>88</td>\n",
       "      <td>2442.0</td>\n",
       "      <td>2102.0</td>\n",
       "      <td>54</td>\n",
       "      <td>0</td>\n",
       "      <td>1103</td>\n",
       "      <td>1609.0</td>\n",
       "      <td>597.0</td>\n",
       "      <td>2491.0</td>\n",
       "    </tr>\n",
       "    <tr>\n",
       "      <th>36</th>\n",
       "      <td>4304.0</td>\n",
       "      <td>2452.0</td>\n",
       "      <td>1852.0</td>\n",
       "      <td>565</td>\n",
       "      <td>2617.0</td>\n",
       "      <td>1052.0</td>\n",
       "      <td>70</td>\n",
       "      <td>2052.0</td>\n",
       "      <td>2281.0</td>\n",
       "      <td>74</td>\n",
       "      <td>0</td>\n",
       "      <td>1288</td>\n",
       "      <td>1825.0</td>\n",
       "      <td>751.0</td>\n",
       "      <td>2806.0</td>\n",
       "    </tr>\n",
       "    <tr>\n",
       "      <th>180</th>\n",
       "      <td>4600.0</td>\n",
       "      <td>2773.0</td>\n",
       "      <td>1827.0</td>\n",
       "      <td>577</td>\n",
       "      <td>2687.0</td>\n",
       "      <td>1250.0</td>\n",
       "      <td>86</td>\n",
       "      <td>2349.0</td>\n",
       "      <td>2278.0</td>\n",
       "      <td>62</td>\n",
       "      <td>0</td>\n",
       "      <td>1201</td>\n",
       "      <td>1735.0</td>\n",
       "      <td>667.0</td>\n",
       "      <td>2678.0</td>\n",
       "    </tr>\n",
       "    <tr>\n",
       "      <th>...</th>\n",
       "      <td>...</td>\n",
       "      <td>...</td>\n",
       "      <td>...</td>\n",
       "      <td>...</td>\n",
       "      <td>...</td>\n",
       "      <td>...</td>\n",
       "      <td>...</td>\n",
       "      <td>...</td>\n",
       "      <td>...</td>\n",
       "      <td>...</td>\n",
       "      <td>...</td>\n",
       "      <td>...</td>\n",
       "      <td>...</td>\n",
       "      <td>...</td>\n",
       "      <td>...</td>\n",
       "    </tr>\n",
       "    <tr>\n",
       "      <th>215</th>\n",
       "      <td>314.0</td>\n",
       "      <td>174.0</td>\n",
       "      <td>140.0</td>\n",
       "      <td>46</td>\n",
       "      <td>171.0</td>\n",
       "      <td>87.0</td>\n",
       "      <td>10</td>\n",
       "      <td>169.0</td>\n",
       "      <td>143.0</td>\n",
       "      <td>0</td>\n",
       "      <td>2</td>\n",
       "      <td>72</td>\n",
       "      <td>107.0</td>\n",
       "      <td>37.0</td>\n",
       "      <td>189.0</td>\n",
       "    </tr>\n",
       "    <tr>\n",
       "      <th>224</th>\n",
       "      <td>297.0</td>\n",
       "      <td>165.0</td>\n",
       "      <td>132.0</td>\n",
       "      <td>47</td>\n",
       "      <td>159.0</td>\n",
       "      <td>79.0</td>\n",
       "      <td>12</td>\n",
       "      <td>158.0</td>\n",
       "      <td>139.0</td>\n",
       "      <td>0</td>\n",
       "      <td>0</td>\n",
       "      <td>65</td>\n",
       "      <td>97.0</td>\n",
       "      <td>33.0</td>\n",
       "      <td>170.0</td>\n",
       "    </tr>\n",
       "    <tr>\n",
       "      <th>233</th>\n",
       "      <td>258.0</td>\n",
       "      <td>150.0</td>\n",
       "      <td>108.0</td>\n",
       "      <td>47</td>\n",
       "      <td>122.0</td>\n",
       "      <td>79.0</td>\n",
       "      <td>10</td>\n",
       "      <td>124.0</td>\n",
       "      <td>134.0</td>\n",
       "      <td>0</td>\n",
       "      <td>0</td>\n",
       "      <td>66</td>\n",
       "      <td>99.0</td>\n",
       "      <td>33.0</td>\n",
       "      <td>154.0</td>\n",
       "    </tr>\n",
       "    <tr>\n",
       "      <th>251</th>\n",
       "      <td>282.0</td>\n",
       "      <td>165.0</td>\n",
       "      <td>117.0</td>\n",
       "      <td>49</td>\n",
       "      <td>139.0</td>\n",
       "      <td>84.0</td>\n",
       "      <td>10</td>\n",
       "      <td>142.0</td>\n",
       "      <td>140.0</td>\n",
       "      <td>0</td>\n",
       "      <td>0</td>\n",
       "      <td>59</td>\n",
       "      <td>91.0</td>\n",
       "      <td>27.0</td>\n",
       "      <td>145.0</td>\n",
       "    </tr>\n",
       "    <tr>\n",
       "      <th>287</th>\n",
       "      <td>248.0</td>\n",
       "      <td>146.0</td>\n",
       "      <td>102.0</td>\n",
       "      <td>50</td>\n",
       "      <td>120.0</td>\n",
       "      <td>70.0</td>\n",
       "      <td>8</td>\n",
       "      <td>108.0</td>\n",
       "      <td>140.0</td>\n",
       "      <td>0</td>\n",
       "      <td>0</td>\n",
       "      <td>42</td>\n",
       "      <td>67.0</td>\n",
       "      <td>17.0</td>\n",
       "      <td>90.0</td>\n",
       "    </tr>\n",
       "  </tbody>\n",
       "</table>\n",
       "<p>288 rows × 15 columns</p>\n",
       "</div>"
      ],
      "text/plain": [
       "     Total_Adults  Male_Adults  Female_Adults  Adults_Aged_18-24  \\\n",
       "0          4175.0       2724.0         1451.0                485   \n",
       "198        4266.0       2652.0         1614.0                475   \n",
       "189        4515.0       2773.0         1742.0                524   \n",
       "36         4304.0       2452.0         1852.0                565   \n",
       "180        4600.0       2773.0         1827.0                577   \n",
       "..            ...          ...            ...                ...   \n",
       "215         314.0        174.0          140.0                 46   \n",
       "224         297.0        165.0          132.0                 47   \n",
       "233         258.0        150.0          108.0                 47   \n",
       "251         282.0        165.0          117.0                 49   \n",
       "287         248.0        146.0          102.0                 50   \n",
       "\n",
       "     Adults_Aged_25-44  Adults_Aged_45-64  Adults_Aged_65_over  \\\n",
       "0               2397.0             1225.0                   68   \n",
       "198             2514.0             1190.0                   87   \n",
       "189             2662.0             1241.0                   88   \n",
       "36              2617.0             1052.0                   70   \n",
       "180             2687.0             1250.0                   86   \n",
       "..                 ...                ...                  ...   \n",
       "215              171.0               87.0                   10   \n",
       "224              159.0               79.0                   12   \n",
       "233              122.0               79.0                   10   \n",
       "251              139.0               84.0                   10   \n",
       "287              120.0               70.0                    8   \n",
       "\n",
       "     People who accessed Private Emerg Acc  \\\n",
       "0                                   2372.0   \n",
       "198                                 2335.0   \n",
       "189                                 2442.0   \n",
       "36                                  2052.0   \n",
       "180                                 2349.0   \n",
       "..                                     ...   \n",
       "215                                  169.0   \n",
       "224                                  158.0   \n",
       "233                                  124.0   \n",
       "251                                  142.0   \n",
       "287                                  108.0   \n",
       "\n",
       "     People who accessed Supported Temp Acc  \\\n",
       "0                                    1858.0   \n",
       "198                                  1902.0   \n",
       "189                                  2102.0   \n",
       "36                                   2281.0   \n",
       "180                                  2278.0   \n",
       "..                                      ...   \n",
       "215                                   143.0   \n",
       "224                                   139.0   \n",
       "233                                   134.0   \n",
       "251                                   140.0   \n",
       "287                                   140.0   \n",
       "\n",
       "     People who accessed Temp Emerg Acc  People who accessed Other Acc  \\\n",
       "0                                    33                              0   \n",
       "198                                  42                              0   \n",
       "189                                  54                              0   \n",
       "36                                   74                              0   \n",
       "180                                  62                              0   \n",
       "..                                  ...                            ...   \n",
       "215                                   0                              2   \n",
       "224                                   0                              0   \n",
       "233                                   0                              0   \n",
       "251                                   0                              0   \n",
       "287                                   0                              0   \n",
       "\n",
       "     No. of Families  No. of Adults in Families  \\\n",
       "0                742                     1121.0   \n",
       "198              974                     1413.0   \n",
       "189             1103                     1609.0   \n",
       "36              1288                     1825.0   \n",
       "180             1201                     1735.0   \n",
       "..               ...                        ...   \n",
       "215               72                      107.0   \n",
       "224               65                       97.0   \n",
       "233               66                       99.0   \n",
       "251               59                       91.0   \n",
       "287               42                       67.0   \n",
       "\n",
       "     No. of Single-Parent families  No. of Dependants in Families  \n",
       "0                            363.0                         1823.0  \n",
       "198                          535.0                         2232.0  \n",
       "189                          597.0                         2491.0  \n",
       "36                           751.0                         2806.0  \n",
       "180                          667.0                         2678.0  \n",
       "..                             ...                            ...  \n",
       "215                           37.0                          189.0  \n",
       "224                           33.0                          170.0  \n",
       "233                           33.0                          154.0  \n",
       "251                           27.0                          145.0  \n",
       "287                           17.0                           90.0  \n",
       "\n",
       "[288 rows x 15 columns]"
      ]
     },
     "execution_count": 38,
     "metadata": {},
     "output_type": "execute_result"
    }
   ],
   "source": [
    "data5 "
   ]
  },
  {
   "cell_type": "markdown",
   "id": "5ad08816",
   "metadata": {},
   "source": [
    " Now, I will remove the outliers (values outside 3 standard deviation from the mean in our interpretation of the problem)."
   ]
  },
  {
   "cell_type": "markdown",
   "id": "6a787bb8",
   "metadata": {},
   "source": [
    "## "
   ]
  },
  {
   "cell_type": "code",
   "execution_count": 39,
   "id": "d0f1b6bf",
   "metadata": {},
   "outputs": [],
   "source": [
    "from scipy import stats\n",
    "data5 = data5[(np.abs(stats.zscore(data5)) < 3).all(axis=1)]"
   ]
  },
  {
   "cell_type": "code",
   "execution_count": 40,
   "id": "5ecee69d",
   "metadata": {},
   "outputs": [
    {
     "data": {
      "text/html": [
       "<div>\n",
       "<style scoped>\n",
       "    .dataframe tbody tr th:only-of-type {\n",
       "        vertical-align: middle;\n",
       "    }\n",
       "\n",
       "    .dataframe tbody tr th {\n",
       "        vertical-align: top;\n",
       "    }\n",
       "\n",
       "    .dataframe thead th {\n",
       "        text-align: right;\n",
       "    }\n",
       "</style>\n",
       "<table border=\"1\" class=\"dataframe\">\n",
       "  <thead>\n",
       "    <tr style=\"text-align: right;\">\n",
       "      <th></th>\n",
       "      <th>Total_Adults</th>\n",
       "      <th>Male_Adults</th>\n",
       "      <th>Female_Adults</th>\n",
       "      <th>Adults_Aged_18-24</th>\n",
       "      <th>Adults_Aged_25-44</th>\n",
       "      <th>Adults_Aged_45-64</th>\n",
       "      <th>Adults_Aged_65_over</th>\n",
       "      <th>People who accessed Private Emerg Acc</th>\n",
       "      <th>People who accessed Supported Temp Acc</th>\n",
       "      <th>People who accessed Temp Emerg Acc</th>\n",
       "      <th>People who accessed Other Acc</th>\n",
       "      <th>No. of Families</th>\n",
       "      <th>No. of Adults in Families</th>\n",
       "      <th>No. of Single-Parent families</th>\n",
       "      <th>No. of Dependants in Families</th>\n",
       "    </tr>\n",
       "  </thead>\n",
       "  <tbody>\n",
       "    <tr>\n",
       "      <th>0</th>\n",
       "      <td>4175.0</td>\n",
       "      <td>2724.0</td>\n",
       "      <td>1451.0</td>\n",
       "      <td>485</td>\n",
       "      <td>2397.0</td>\n",
       "      <td>1225.0</td>\n",
       "      <td>68</td>\n",
       "      <td>2372.0</td>\n",
       "      <td>1858.0</td>\n",
       "      <td>33</td>\n",
       "      <td>0</td>\n",
       "      <td>742</td>\n",
       "      <td>1121.0</td>\n",
       "      <td>363.0</td>\n",
       "      <td>1823.0</td>\n",
       "    </tr>\n",
       "    <tr>\n",
       "      <th>270</th>\n",
       "      <td>4243.0</td>\n",
       "      <td>2749.0</td>\n",
       "      <td>1494.0</td>\n",
       "      <td>487</td>\n",
       "      <td>2458.0</td>\n",
       "      <td>1228.0</td>\n",
       "      <td>70</td>\n",
       "      <td>2396.0</td>\n",
       "      <td>1856.0</td>\n",
       "      <td>37</td>\n",
       "      <td>0</td>\n",
       "      <td>783</td>\n",
       "      <td>1150.0</td>\n",
       "      <td>416.0</td>\n",
       "      <td>1914.0</td>\n",
       "    </tr>\n",
       "    <tr>\n",
       "      <th>27</th>\n",
       "      <td>4129.0</td>\n",
       "      <td>2693.0</td>\n",
       "      <td>1436.0</td>\n",
       "      <td>475</td>\n",
       "      <td>2375.0</td>\n",
       "      <td>1213.0</td>\n",
       "      <td>66</td>\n",
       "      <td>2273.0</td>\n",
       "      <td>1952.0</td>\n",
       "      <td>34</td>\n",
       "      <td>0</td>\n",
       "      <td>716</td>\n",
       "      <td>1083.0</td>\n",
       "      <td>349.0</td>\n",
       "      <td>1760.0</td>\n",
       "    </tr>\n",
       "    <tr>\n",
       "      <th>54</th>\n",
       "      <td>4087.0</td>\n",
       "      <td>2682.0</td>\n",
       "      <td>1405.0</td>\n",
       "      <td>482</td>\n",
       "      <td>2374.0</td>\n",
       "      <td>1168.0</td>\n",
       "      <td>63</td>\n",
       "      <td>2289.0</td>\n",
       "      <td>1823.0</td>\n",
       "      <td>37</td>\n",
       "      <td>0</td>\n",
       "      <td>699</td>\n",
       "      <td>1047.0</td>\n",
       "      <td>351.0</td>\n",
       "      <td>1719.0</td>\n",
       "    </tr>\n",
       "    <tr>\n",
       "      <th>279</th>\n",
       "      <td>4158.0</td>\n",
       "      <td>2681.0</td>\n",
       "      <td>1477.0</td>\n",
       "      <td>482</td>\n",
       "      <td>2402.0</td>\n",
       "      <td>1209.0</td>\n",
       "      <td>65</td>\n",
       "      <td>2360.0</td>\n",
       "      <td>1795.0</td>\n",
       "      <td>37</td>\n",
       "      <td>0</td>\n",
       "      <td>755</td>\n",
       "      <td>1131.0</td>\n",
       "      <td>379.0</td>\n",
       "      <td>1864.0</td>\n",
       "    </tr>\n",
       "    <tr>\n",
       "      <th>...</th>\n",
       "      <td>...</td>\n",
       "      <td>...</td>\n",
       "      <td>...</td>\n",
       "      <td>...</td>\n",
       "      <td>...</td>\n",
       "      <td>...</td>\n",
       "      <td>...</td>\n",
       "      <td>...</td>\n",
       "      <td>...</td>\n",
       "      <td>...</td>\n",
       "      <td>...</td>\n",
       "      <td>...</td>\n",
       "      <td>...</td>\n",
       "      <td>...</td>\n",
       "      <td>...</td>\n",
       "    </tr>\n",
       "    <tr>\n",
       "      <th>215</th>\n",
       "      <td>314.0</td>\n",
       "      <td>174.0</td>\n",
       "      <td>140.0</td>\n",
       "      <td>46</td>\n",
       "      <td>171.0</td>\n",
       "      <td>87.0</td>\n",
       "      <td>10</td>\n",
       "      <td>169.0</td>\n",
       "      <td>143.0</td>\n",
       "      <td>0</td>\n",
       "      <td>2</td>\n",
       "      <td>72</td>\n",
       "      <td>107.0</td>\n",
       "      <td>37.0</td>\n",
       "      <td>189.0</td>\n",
       "    </tr>\n",
       "    <tr>\n",
       "      <th>224</th>\n",
       "      <td>297.0</td>\n",
       "      <td>165.0</td>\n",
       "      <td>132.0</td>\n",
       "      <td>47</td>\n",
       "      <td>159.0</td>\n",
       "      <td>79.0</td>\n",
       "      <td>12</td>\n",
       "      <td>158.0</td>\n",
       "      <td>139.0</td>\n",
       "      <td>0</td>\n",
       "      <td>0</td>\n",
       "      <td>65</td>\n",
       "      <td>97.0</td>\n",
       "      <td>33.0</td>\n",
       "      <td>170.0</td>\n",
       "    </tr>\n",
       "    <tr>\n",
       "      <th>233</th>\n",
       "      <td>258.0</td>\n",
       "      <td>150.0</td>\n",
       "      <td>108.0</td>\n",
       "      <td>47</td>\n",
       "      <td>122.0</td>\n",
       "      <td>79.0</td>\n",
       "      <td>10</td>\n",
       "      <td>124.0</td>\n",
       "      <td>134.0</td>\n",
       "      <td>0</td>\n",
       "      <td>0</td>\n",
       "      <td>66</td>\n",
       "      <td>99.0</td>\n",
       "      <td>33.0</td>\n",
       "      <td>154.0</td>\n",
       "    </tr>\n",
       "    <tr>\n",
       "      <th>251</th>\n",
       "      <td>282.0</td>\n",
       "      <td>165.0</td>\n",
       "      <td>117.0</td>\n",
       "      <td>49</td>\n",
       "      <td>139.0</td>\n",
       "      <td>84.0</td>\n",
       "      <td>10</td>\n",
       "      <td>142.0</td>\n",
       "      <td>140.0</td>\n",
       "      <td>0</td>\n",
       "      <td>0</td>\n",
       "      <td>59</td>\n",
       "      <td>91.0</td>\n",
       "      <td>27.0</td>\n",
       "      <td>145.0</td>\n",
       "    </tr>\n",
       "    <tr>\n",
       "      <th>287</th>\n",
       "      <td>248.0</td>\n",
       "      <td>146.0</td>\n",
       "      <td>102.0</td>\n",
       "      <td>50</td>\n",
       "      <td>120.0</td>\n",
       "      <td>70.0</td>\n",
       "      <td>8</td>\n",
       "      <td>108.0</td>\n",
       "      <td>140.0</td>\n",
       "      <td>0</td>\n",
       "      <td>0</td>\n",
       "      <td>42</td>\n",
       "      <td>67.0</td>\n",
       "      <td>17.0</td>\n",
       "      <td>90.0</td>\n",
       "    </tr>\n",
       "  </tbody>\n",
       "</table>\n",
       "<p>256 rows × 15 columns</p>\n",
       "</div>"
      ],
      "text/plain": [
       "     Total_Adults  Male_Adults  Female_Adults  Adults_Aged_18-24  \\\n",
       "0          4175.0       2724.0         1451.0                485   \n",
       "270        4243.0       2749.0         1494.0                487   \n",
       "27         4129.0       2693.0         1436.0                475   \n",
       "54         4087.0       2682.0         1405.0                482   \n",
       "279        4158.0       2681.0         1477.0                482   \n",
       "..            ...          ...            ...                ...   \n",
       "215         314.0        174.0          140.0                 46   \n",
       "224         297.0        165.0          132.0                 47   \n",
       "233         258.0        150.0          108.0                 47   \n",
       "251         282.0        165.0          117.0                 49   \n",
       "287         248.0        146.0          102.0                 50   \n",
       "\n",
       "     Adults_Aged_25-44  Adults_Aged_45-64  Adults_Aged_65_over  \\\n",
       "0               2397.0             1225.0                   68   \n",
       "270             2458.0             1228.0                   70   \n",
       "27              2375.0             1213.0                   66   \n",
       "54              2374.0             1168.0                   63   \n",
       "279             2402.0             1209.0                   65   \n",
       "..                 ...                ...                  ...   \n",
       "215              171.0               87.0                   10   \n",
       "224              159.0               79.0                   12   \n",
       "233              122.0               79.0                   10   \n",
       "251              139.0               84.0                   10   \n",
       "287              120.0               70.0                    8   \n",
       "\n",
       "     People who accessed Private Emerg Acc  \\\n",
       "0                                   2372.0   \n",
       "270                                 2396.0   \n",
       "27                                  2273.0   \n",
       "54                                  2289.0   \n",
       "279                                 2360.0   \n",
       "..                                     ...   \n",
       "215                                  169.0   \n",
       "224                                  158.0   \n",
       "233                                  124.0   \n",
       "251                                  142.0   \n",
       "287                                  108.0   \n",
       "\n",
       "     People who accessed Supported Temp Acc  \\\n",
       "0                                    1858.0   \n",
       "270                                  1856.0   \n",
       "27                                   1952.0   \n",
       "54                                   1823.0   \n",
       "279                                  1795.0   \n",
       "..                                      ...   \n",
       "215                                   143.0   \n",
       "224                                   139.0   \n",
       "233                                   134.0   \n",
       "251                                   140.0   \n",
       "287                                   140.0   \n",
       "\n",
       "     People who accessed Temp Emerg Acc  People who accessed Other Acc  \\\n",
       "0                                    33                              0   \n",
       "270                                  37                              0   \n",
       "27                                   34                              0   \n",
       "54                                   37                              0   \n",
       "279                                  37                              0   \n",
       "..                                  ...                            ...   \n",
       "215                                   0                              2   \n",
       "224                                   0                              0   \n",
       "233                                   0                              0   \n",
       "251                                   0                              0   \n",
       "287                                   0                              0   \n",
       "\n",
       "     No. of Families  No. of Adults in Families  \\\n",
       "0                742                     1121.0   \n",
       "270              783                     1150.0   \n",
       "27               716                     1083.0   \n",
       "54               699                     1047.0   \n",
       "279              755                     1131.0   \n",
       "..               ...                        ...   \n",
       "215               72                      107.0   \n",
       "224               65                       97.0   \n",
       "233               66                       99.0   \n",
       "251               59                       91.0   \n",
       "287               42                       67.0   \n",
       "\n",
       "     No. of Single-Parent families  No. of Dependants in Families  \n",
       "0                            363.0                         1823.0  \n",
       "270                          416.0                         1914.0  \n",
       "27                           349.0                         1760.0  \n",
       "54                           351.0                         1719.0  \n",
       "279                          379.0                         1864.0  \n",
       "..                             ...                            ...  \n",
       "215                           37.0                          189.0  \n",
       "224                           33.0                          170.0  \n",
       "233                           33.0                          154.0  \n",
       "251                           27.0                          145.0  \n",
       "287                           17.0                           90.0  \n",
       "\n",
       "[256 rows x 15 columns]"
      ]
     },
     "execution_count": 40,
     "metadata": {},
     "output_type": "execute_result"
    }
   ],
   "source": [
    "data5"
   ]
  },
  {
   "cell_type": "code",
   "execution_count": 41,
   "id": "6df0f88a",
   "metadata": {},
   "outputs": [
    {
     "data": {
      "text/plain": [
       "(256, 15)"
      ]
     },
     "execution_count": 41,
     "metadata": {},
     "output_type": "execute_result"
    }
   ],
   "source": [
    "data5.shape"
   ]
  },
  {
   "cell_type": "code",
   "execution_count": 42,
   "id": "87a92813",
   "metadata": {},
   "outputs": [
    {
     "data": {
      "text/plain": [
       "Total_Adults                              False\n",
       "Male_Adults                               False\n",
       "Female_Adults                             False\n",
       "Adults_Aged_18-24                         False\n",
       "Adults_Aged_25-44                         False\n",
       "Adults_Aged_45-64                         False\n",
       "Adults_Aged_65_over                       False\n",
       "People who accessed Private Emerg Acc     False\n",
       "People who accessed Supported Temp Acc    False\n",
       "People who accessed Temp Emerg Acc        False\n",
       "People who accessed Other Acc             False\n",
       "No. of Families                           False\n",
       "No. of Adults in Families                 False\n",
       "No. of Single-Parent families             False\n",
       "No. of Dependants in Families             False\n",
       "dtype: bool"
      ]
     },
     "execution_count": 42,
     "metadata": {},
     "output_type": "execute_result"
    }
   ],
   "source": [
    "data5.isna().any()"
   ]
  },
  {
   "cell_type": "code",
   "execution_count": 43,
   "id": "e5958734",
   "metadata": {},
   "outputs": [
    {
     "data": {
      "text/plain": [
       "True"
      ]
     },
     "execution_count": 43,
     "metadata": {},
     "output_type": "execute_result"
    }
   ],
   "source": [
    "data5.duplicated().any()"
   ]
  },
  {
   "cell_type": "code",
   "execution_count": 44,
   "id": "67e0ebbc",
   "metadata": {},
   "outputs": [
    {
     "data": {
      "text/plain": [
       "16"
      ]
     },
     "execution_count": 44,
     "metadata": {},
     "output_type": "execute_result"
    }
   ],
   "source": [
    "data5.duplicated().sum()"
   ]
  },
  {
   "cell_type": "code",
   "execution_count": 45,
   "id": "72859f08",
   "metadata": {},
   "outputs": [
    {
     "name": "stderr",
     "output_type": "stream",
     "text": [
      "C:\\Users\\Meire\\AppData\\Local\\Temp\\ipykernel_6324\\2432494724.py:1: SettingWithCopyWarning: \n",
      "A value is trying to be set on a copy of a slice from a DataFrame\n",
      "\n",
      "See the caveats in the documentation: https://pandas.pydata.org/pandas-docs/stable/user_guide/indexing.html#returning-a-view-versus-a-copy\n",
      "  data5.drop_duplicates(inplace=True)\n"
     ]
    }
   ],
   "source": [
    "data5.drop_duplicates(inplace=True)"
   ]
  },
  {
   "cell_type": "code",
   "execution_count": 46,
   "id": "3cdaa05c",
   "metadata": {},
   "outputs": [
    {
     "data": {
      "text/plain": [
       "0"
      ]
     },
     "execution_count": 46,
     "metadata": {},
     "output_type": "execute_result"
    }
   ],
   "source": [
    "data5.duplicated().sum()"
   ]
  },
  {
   "cell_type": "code",
   "execution_count": 47,
   "id": "9a3f428f",
   "metadata": {},
   "outputs": [
    {
     "data": {
      "text/plain": [
       "Index(['Total_Adults', 'Male_Adults', 'Female_Adults', 'Adults_Aged_18-24',\n",
       "       'Adults_Aged_25-44', 'Adults_Aged_45-64', 'Adults_Aged_65_over',\n",
       "       'People who accessed Private Emerg Acc',\n",
       "       'People who accessed Supported Temp Acc',\n",
       "       'People who accessed Temp Emerg Acc', 'People who accessed Other Acc',\n",
       "       'No. of Families', 'No. of Adults in Families',\n",
       "       'No. of Single-Parent families', 'No. of Dependants in Families'],\n",
       "      dtype='object')"
      ]
     },
     "execution_count": 47,
     "metadata": {},
     "output_type": "execute_result"
    }
   ],
   "source": [
    "data5.columns"
   ]
  },
  {
   "cell_type": "code",
   "execution_count": 48,
   "id": "33579d9f",
   "metadata": {},
   "outputs": [
    {
     "data": {
      "text/plain": [
       "<AxesSubplot:>"
      ]
     },
     "execution_count": 48,
     "metadata": {},
     "output_type": "execute_result"
    },
    {
     "data": {
      "image/png": "[encoded data removed]",
      "text/plain": [
       "<Figure size 1080x576 with 2 Axes>"
      ]
     },
     "metadata": {
      "needs_background": "light"
     },
     "output_type": "display_data"
    }
   ],
   "source": [
    "sns.heatmap(data5.corr(), annot=True)\n",
    "\n",
    "\n",
    "\n"
   ]
  },
  {
   "cell_type": "markdown",
   "id": "422c12a6",
   "metadata": {},
   "source": [
    "As we can see that after have removed the outliers from the dataset, most of the features are strong correlated, except for ( Number of people who accessed Other Accommodation and Number of people who accessed Temporary Emergency Accommodation)."
   ]
  },
  {
   "cell_type": "markdown",
   "id": "ee925a75",
   "metadata": {},
   "source": [
    "## "
   ]
  },
  {
   "cell_type": "code",
   "execution_count": 86,
   "id": "d5fc16bc",
   "metadata": {},
   "outputs": [],
   "source": [
    "##importing the functions\n",
    "import statsmodels.api as sm\n",
    "from sklearn.model_selection import train_test_split\n",
    "from sklearn.preprocessing import StandardScaler"
   ]
  },
  {
   "cell_type": "code",
   "execution_count": 87,
   "id": "3668453f",
   "metadata": {},
   "outputs": [],
   "source": [
    "features = ['Male_Adults', 'Female_Adults', 'Adults_Aged_18-24',\n",
    "       'Adults_Aged_25-44', 'Adults_Aged_45-64', 'Adults_Aged_65_over',\n",
    "       'People who accessed Private Emerg Acc',\n",
    "       'People who accessed Supported Temp Acc',\n",
    "       'People who accessed Temp Emerg Acc', 'People who accessed Other Acc',\n",
    "       'No. of Families', 'No. of Adults in Families',\n",
    "       'No. of Single-Parent families', 'No. of Dependants in Families']"
   ]
  },
  {
   "cell_type": "markdown",
   "id": "2640b152",
   "metadata": {},
   "source": [
    " Now I will  define the X and Y axis to running the test"
   ]
  },
  {
   "cell_type": "code",
   "execution_count": 129,
   "id": "23367d4b",
   "metadata": {},
   "outputs": [
    {
     "data": {
      "text/plain": [
       "array([[2724., 1451.,  485., ..., 1121.,  363., 1823.],\n",
       "       [2749., 1494.,  487., ..., 1150.,  416., 1914.],\n",
       "       [2693., 1436.,  475., ..., 1083.,  349., 1760.],\n",
       "       ...,\n",
       "       [ 150.,  108.,   47., ...,   99.,   33.,  154.],\n",
       "       [ 165.,  117.,   49., ...,   91.,   27.,  145.],\n",
       "       [ 146.,  102.,   50., ...,   67.,   17.,   90.]])"
      ]
     },
     "execution_count": 129,
     "metadata": {},
     "output_type": "execute_result"
    }
   ],
   "source": [
    "x = data5[features].values\n",
    "x"
   ]
  },
  {
   "cell_type": "code",
   "execution_count": 112,
   "id": "e6b1475a",
   "metadata": {},
   "outputs": [
    {
     "data": {
      "text/plain": [
       "array([4175., 4243., 4129., 4087., 4158., 4054., 4069., 4204., 4188.,\n",
       "       4251., 4173.,  327.,  316.,  350.,  324.,  254.,  316.,  329.,\n",
       "        323.,  294.,  303.,  306.,  303.,  327.,  295.,  305.,  318.,\n",
       "        310.,  335.,  309.,  335.,  317.,  319.,  280.,  301.,  313.,\n",
       "        322.,  322.,  283.,  294.,  369.,  289.,  281.,  332.,  291.,\n",
       "        282.,  343.,  330.,  300.,  283.,  331.,  287.,  291.,  323.,\n",
       "        341.,  289.,  324.,  291.,  345.,  299.,  293.,  288.,  274.,\n",
       "        331.,  295.,  286.,  349.,  347.,  341.,  338.,   75.,   72.,\n",
       "         98.,   91.,  122.,   79.,  111.,   94.,   89.,   97.,   74.,\n",
       "         95.,  116.,   68.,   97.,   79.,  116.,  109.,   92.,   97.,\n",
       "         96.,   98.,   92.,   80.,  119.,   66.,   81.,  105.,  107.,\n",
       "         84.,  178.,  144.,  119.,  126.,  141.,   97.,  182.,  119.,\n",
       "        187.,   85.,  128.,   89.,  102.,  112.,  110.,  100.,  161.,\n",
       "        173.,   91.,  176.,  162.,   97.,  169.,   75.,  103.,   95.,\n",
       "         96.,  129.,  179.,   81.,   70.,   67.,   67.,   69.,   74.,\n",
       "         84.,   51.,   74.,   73.,   50.,   70.,   67.,   71.,   77.,\n",
       "         74.,   72.,   69.,   55.,   54.,   84.,   65.,   81.,   48.,\n",
       "         83.,   52.,   75.,   67.,   55.,   61.,   55.,  180.,  187.,\n",
       "        218.,  181.,  188.,  201.,  169.,  189.,  173.,  218.,  174.,\n",
       "        178.,  176.,  193.,  256.,  201.,  237.,  175.,  195.,  222.,\n",
       "        197.,  511.,  504.,  495.,  532.,  529.,  504.,  550.,  503.,\n",
       "        578.,  575.,  503.,  514.,  552.,  556.,  592.,  608.,  534.,\n",
       "        502.,  511.,  514.,  534.,  485.,  592.,  501.,  550.,  483.,\n",
       "        492.,  512.,  532.,  252.,  252.,  252.,  348.,  286.,  269.,\n",
       "        358.,  279.,  355.,  348.,  263.,  341.,  249.,  324.,  337.,\n",
       "        350.,  278.,  351.,  282.,  297.,  340.,  361.,  351.,  343.,\n",
       "        323.,  314.,  297.,  258.,  282.,  248.])"
      ]
     },
     "execution_count": 112,
     "metadata": {},
     "output_type": "execute_result"
    }
   ],
   "source": [
    "\n",
    "y= data5['Total_Adults'].values\n",
    "\n",
    "y\n",
    "\n",
    "\n"
   ]
  },
  {
   "cell_type": "markdown",
   "id": "aea1a2b8",
   "metadata": {},
   "source": [
    "## PART (B) "
   ]
  },
  {
   "cell_type": "markdown",
   "id": "4d23d5c2",
   "metadata": {},
   "source": [
    "## Split the dataset in training set and test set"
   ]
  },
  {
   "cell_type": "code",
   "execution_count": 114,
   "id": "4917a990",
   "metadata": {},
   "outputs": [],
   "source": [
    "x_train,x_test,y_train,y_test=train_test_split(x,y,test_size=0.3,random_state=0)\n"
   ]
  },
  {
   "cell_type": "markdown",
   "id": "ef172dd4",
   "metadata": {},
   "source": [
    "## PART (C)"
   ]
  },
  {
   "cell_type": "markdown",
   "id": "4b336aa8",
   "metadata": {},
   "source": [
    "## Train the model on the training set"
   ]
  },
  {
   "cell_type": "code",
   "execution_count": 130,
   "id": "4c645793",
   "metadata": {},
   "outputs": [],
   "source": [
    "# Select a linear model \n",
    "from sklearn.linear_model import LinearRegression\n",
    "\n",
    "\n"
   ]
  },
  {
   "cell_type": "code",
   "execution_count": 131,
   "id": "cb46a114",
   "metadata": {},
   "outputs": [],
   "source": [
    "model =LinearRegression()"
   ]
  },
  {
   "cell_type": "code",
   "execution_count": 132,
   "id": "69800b69",
   "metadata": {},
   "outputs": [
    {
     "data": {
      "text/html": [
       "<style>#sk-container-id-4 {color: black;background-color: white;}#sk-container-id-4 pre{padding: 0;}#sk-container-id-4 div.sk-toggleable {background-color: white;}#sk-container-id-4 label.sk-toggleable__label {cursor: pointer;display: block;width: 100%;margin-bottom: 0;padding: 0.3em;box-sizing: border-box;text-align: center;}#sk-container-id-4 label.sk-toggleable__label-arrow:before {content: \"▸\";float: left;margin-right: 0.25em;color: #696969;}#sk-container-id-4 label.sk-toggleable__label-arrow:hover:before {color: black;}#sk-container-id-4 div.sk-estimator:hover label.sk-toggleable__label-arrow:before {color: black;}#sk-container-id-4 div.sk-toggleable__content {max-height: 0;max-width: 0;overflow: hidden;text-align: left;background-color: #f0f8ff;}#sk-container-id-4 div.sk-toggleable__content pre {margin: 0.2em;color: black;border-radius: 0.25em;background-color: #f0f8ff;}#sk-container-id-4 input.sk-toggleable__control:checked~div.sk-toggleable__content {max-height: 200px;max-width: 100%;overflow: auto;}#sk-container-id-4 input.sk-toggleable__control:checked~label.sk-toggleable__label-arrow:before {content: \"▾\";}#sk-container-id-4 div.sk-estimator input.sk-toggleable__control:checked~label.sk-toggleable__label {background-color: #d4ebff;}#sk-container-id-4 div.sk-label input.sk-toggleable__control:checked~label.sk-toggleable__label {background-color: #d4ebff;}#sk-container-id-4 input.sk-hidden--visually {border: 0;clip: rect(1px 1px 1px 1px);clip: rect(1px, 1px, 1px, 1px);height: 1px;margin: -1px;overflow: hidden;padding: 0;position: absolute;width: 1px;}#sk-container-id-4 div.sk-estimator {font-family: monospace;background-color: #f0f8ff;border: 1px dotted black;border-radius: 0.25em;box-sizing: border-box;margin-bottom: 0.5em;}#sk-container-id-4 div.sk-estimator:hover {background-color: #d4ebff;}#sk-container-id-4 div.sk-parallel-item::after {content: \"\";width: 100%;border-bottom: 1px solid gray;flex-grow: 1;}#sk-container-id-4 div.sk-label:hover label.sk-toggleable__label {background-color: #d4ebff;}#sk-container-id-4 div.sk-serial::before {content: \"\";position: absolute;border-left: 1px solid gray;box-sizing: border-box;top: 0;bottom: 0;left: 50%;z-index: 0;}#sk-container-id-4 div.sk-serial {display: flex;flex-direction: column;align-items: center;background-color: white;padding-right: 0.2em;padding-left: 0.2em;position: relative;}#sk-container-id-4 div.sk-item {position: relative;z-index: 1;}#sk-container-id-4 div.sk-parallel {display: flex;align-items: stretch;justify-content: center;background-color: white;position: relative;}#sk-container-id-4 div.sk-item::before, #sk-container-id-4 div.sk-parallel-item::before {content: \"\";position: absolute;border-left: 1px solid gray;box-sizing: border-box;top: 0;bottom: 0;left: 50%;z-index: -1;}#sk-container-id-4 div.sk-parallel-item {display: flex;flex-direction: column;z-index: 1;position: relative;background-color: white;}#sk-container-id-4 div.sk-parallel-item:first-child::after {align-self: flex-end;width: 50%;}#sk-container-id-4 div.sk-parallel-item:last-child::after {align-self: flex-start;width: 50%;}#sk-container-id-4 div.sk-parallel-item:only-child::after {width: 0;}#sk-container-id-4 div.sk-dashed-wrapped {border: 1px dashed gray;margin: 0 0.4em 0.5em 0.4em;box-sizing: border-box;padding-bottom: 0.4em;background-color: white;}#sk-container-id-4 div.sk-label label {font-family: monospace;font-weight: bold;display: inline-block;line-height: 1.2em;}#sk-container-id-4 div.sk-label-container {text-align: center;}#sk-container-id-4 div.sk-container {/* jupyter's `normalize.less` sets `[hidden] { display: none; }` but bootstrap.min.css set `[hidden] { display: none !important; }` so we also need the `!important` here to be able to override the default hidden behavior on the sphinx rendered scikit-learn.org. See: https://github.com/scikit-learn/scikit-learn/issues/21755 */display: inline-block !important;position: relative;}#sk-container-id-4 div.sk-text-repr-fallback {display: none;}</style><div id=\"sk-container-id-4\" class=\"sk-top-container\"><div class=\"sk-text-repr-fallback\"><pre>LinearRegression()</pre><b>In a Jupyter environment, please rerun this cell to show the HTML representation or trust the notebook. <br />On GitHub, the HTML representation is unable to render, please try loading this page with nbviewer.org.</b></div><div class=\"sk-container\" hidden><div class=\"sk-item\"><div class=\"sk-estimator sk-toggleable\"><input class=\"sk-toggleable__control sk-hidden--visually\" id=\"sk-estimator-id-4\" type=\"checkbox\" checked><label for=\"sk-estimator-id-4\" class=\"sk-toggleable__label sk-toggleable__label-arrow\">LinearRegression</label><div class=\"sk-toggleable__content\"><pre>LinearRegression()</pre></div></div></div></div></div>"
      ],
      "text/plain": [
       "LinearRegression()"
      ]
     },
     "execution_count": 132,
     "metadata": {},
     "output_type": "execute_result"
    }
   ],
   "source": [
    "model.fit(x_train,y_train)"
   ]
  },
  {
   "cell_type": "code",
   "execution_count": 133,
   "id": "40893429",
   "metadata": {},
   "outputs": [
    {
     "data": {
      "text/plain": [
       "9.663381206337363e-13"
      ]
     },
     "execution_count": 133,
     "metadata": {},
     "output_type": "execute_result"
    }
   ],
   "source": [
    "##Let's check the parameter\n",
    "c = model.intercept_\n",
    "\n",
    "c"
   ]
  },
  {
   "cell_type": "code",
   "execution_count": 121,
   "id": "23e36437",
   "metadata": {},
   "outputs": [
    {
     "data": {
      "text/plain": [
       "array([ 6.66666667e-01,  6.66666667e-01,  3.33333333e-01,  3.33333333e-01,\n",
       "        3.33333333e-01,  3.33333333e-01, -1.01030295e-14, -6.10622664e-15,\n",
       "       -6.47832482e-15,  1.12934022e-14, -9.15933995e-16, -3.80251386e-15,\n",
       "       -3.46944695e-16, -9.99200722e-16])"
      ]
     },
     "execution_count": 121,
     "metadata": {},
     "output_type": "execute_result"
    }
   ],
   "source": [
    "##Let's check the coefficient\n",
    "m = model.coef_\n",
    "m"
   ]
  },
  {
   "cell_type": "code",
   "execution_count": 122,
   "id": "5347bdb2",
   "metadata": {},
   "outputs": [
    {
     "name": "stdout",
     "output_type": "stream",
     "text": [
      "[ 288.  252.  291.  349.  318.  237.  218.  348.  369.  350. 4087.  278.\n",
      "  295.  335.  286.  293.  324.   70.   51.  294.  195.  187.  341.  503.\n",
      "   74.  287.  178.  511.  103.  116.   96.   84.  218.   75.  289.  324.\n",
      "  310.  331.  279.  303.   55.  343.  503.  314.   73.  532.  274.  483.\n",
      " 4129.  299.   69.  324.  332.  550. 4173.   74.  578.  102.  193.  107.\n",
      "   65.   80.  180.  297.  112. 4175.  119.   66.  338.  283.  300.   79.\n",
      "  258.   67.  327.   77.   89.  178.   67.  550.  282. 4069.  341.   97.\n",
      "   97.  337.  197.  592.  502.  504.   98.  501.  327.  176.  119.  313.\n",
      "  291.  286. 4243.  162.  575.  281.   97.   67.  492.  329.  283.   69.\n",
      "  323.  188.  504.  179.  301.  335.  495.  110.  181.   81.  317.  608.\n",
      "  129.  529.  252.  249.  319.  189.   71.  514.   55.  309.  175.   84.\n",
      "  116.  297.  201.   97.  534.  512.  100.   54.  351.   98.   94.  305.\n",
      "  201.   95.  350.  256.  282.  294.  552.  345.   70.   92.  358.   75.\n",
      "  109.  322.  306.  252. 4251.  126.  592.  347.  514.  173.  330.  176.]\n"
     ]
    }
   ],
   "source": [
    "pred_train = model.predict(x_train) \n",
    "print(pred_train)"
   ]
  },
  {
   "cell_type": "code",
   "execution_count": 123,
   "id": "1165153c",
   "metadata": {},
   "outputs": [
    {
     "data": {
      "image/png": "[encoded data removed]",
      "text/plain": [
       "<Figure size 1080x576 with 1 Axes>"
      ]
     },
     "metadata": {
      "needs_background": "light"
     },
     "output_type": "display_data"
    }
   ],
   "source": [
    "# Visualise the linear regression\n",
    "plt.scatter(y_train, pred_train,color='g')\n",
    "plt.plot(y, model.predict(x),color='k')\n",
    "plt.ylabel(\"Total Number of Adults\")\n",
    "plt.xlabel(\" Accommodation\")\n",
    "plt.title(\" Correlation Number of Adults Who have Accessed Accommodation \")\n",
    "plt.grid()\n",
    "\n",
    "plt.show()"
   ]
  },
  {
   "cell_type": "markdown",
   "id": "b3ffa90c",
   "metadata": {},
   "source": [
    "As we can see from the graph above and the train model, the data appears to have a strong corellation, for example, they are well grouped at bottom and at the top as well. Even though, there is a huge gap as we can see from it. "
   ]
  },
  {
   "cell_type": "code",
   "execution_count": 124,
   "id": "f9fb6720",
   "metadata": {},
   "outputs": [],
   "source": [
    "from sklearn.metrics import r2_score"
   ]
  },
  {
   "cell_type": "code",
   "execution_count": 125,
   "id": "12a4bea0",
   "metadata": {},
   "outputs": [
    {
     "data": {
      "text/plain": [
       "1.0"
      ]
     },
     "execution_count": 125,
     "metadata": {},
     "output_type": "execute_result"
    }
   ],
   "source": [
    "\n",
    "r2_score(y_train, pred_train)"
   ]
  },
  {
   "cell_type": "markdown",
   "id": "e08c395f",
   "metadata": {},
   "source": [
    "As I have checked by using r2_score to confirm my training prediction, we can see that Y and X have a strong correlation."
   ]
  },
  {
   "cell_type": "markdown",
   "id": "0bb3e05b",
   "metadata": {},
   "source": [
    "## Predict the test set results"
   ]
  },
  {
   "cell_type": "code",
   "execution_count": 127,
   "id": "7e4f04b9",
   "metadata": {},
   "outputs": [
    {
     "name": "stdout",
     "output_type": "stream",
     "text": [
      "[  85.   72.  322.  122.  187.  351.   67.  263.   48.  556.  111.  485.\n",
      "   68.   55.  323.   74.  532.   89.  341. 4188.  144.  222.   97.  169.\n",
      " 4054.  303.  511.  105.  316.  169.  289.  291.   84.   95.   74.   91.\n",
      "   72.  174.  295.   92.   52.  282.  348.  323.  182.  254.  141. 4204.\n",
      "  128.  248.  331.   83.  343.   50.   81.  280.  361.   61.  161.  173.\n",
      "   79.  269.   96.  340.  534.   75.  316.  355.   81.   91. 4158.  119.]\n"
     ]
    }
   ],
   "source": [
    "pred_test = model.predict(x_test) \n",
    "print(pred_test)"
   ]
  },
  {
   "cell_type": "code",
   "execution_count": 128,
   "id": "378784b8",
   "metadata": {},
   "outputs": [
    {
     "data": {
      "image/png": "[encoded data removed]",
      "text/plain": [
       "<Figure size 1080x576 with 1 Axes>"
      ]
     },
     "metadata": {
      "needs_background": "light"
     },
     "output_type": "display_data"
    }
   ],
   "source": [
    "# Visualise the linear regression\n",
    "plt.scatter(y_test, pred_test,color='g')\n",
    "plt.plot(y, model.predict(x),color='k')\n",
    "plt.ylabel(\"Total Number of Adults\")\n",
    "plt.xlabel(\" Accommodation\")\n",
    "plt.title(\" Correlation Number of Adults Who have Accessed Accommodation \")\n",
    "plt.grid()\n",
    "\n",
    "plt.show()"
   ]
  },
  {
   "cell_type": "code",
   "execution_count": 134,
   "id": "befeada7",
   "metadata": {},
   "outputs": [
    {
     "data": {
      "text/plain": [
       "1.0"
      ]
     },
     "execution_count": 134,
     "metadata": {},
     "output_type": "execute_result"
    }
   ],
   "source": [
    "r2_score(y_test, pred_test)"
   ]
  },
  {
   "cell_type": "markdown",
   "id": "544830d2",
   "metadata": {},
   "source": [
    "## PART (D)"
   ]
  },
  {
   "cell_type": "markdown",
   "id": "caac2d13",
   "metadata": {},
   "source": [
    "# interpret solution"
   ]
  },
  {
   "cell_type": "markdown",
   "id": "2db5fa9c",
   "metadata": {},
   "source": [
    "Also, we can see from the graph above and by using the r2 score, it appears that the dataset that has been used in this predict test model has shown us that there are 1.0 strong correlation between the data. Therefore, as the number homeless people increse there will be also an increase of people accessing (Private Emergency Accommodation and Supported Temporary Accommodation) in multiple location in Ireland. \n",
    "\n"
   ]
  },
  {
   "cell_type": "markdown",
   "id": "061f5e28",
   "metadata": {},
   "source": [
    "## "
   ]
  },
  {
   "cell_type": "markdown",
   "id": "a0f9d831",
   "metadata": {},
   "source": [
    "# Q5. Data analytics project pipelines "
   ]
  },
  {
   "cell_type": "markdown",
   "id": "ecebfa95",
   "metadata": {},
   "source": [
    "## (a) Compare and contrast at least three existing data analytics approaches."
   ]
  },
  {
   "cell_type": "markdown",
   "id": "c7085fa6",
   "metadata": {},
   "source": [
    "The data science field has changed drastically compared to few years ago. Therefore, sometimes IT teams have to deal with  a lot of challenges when they have to work in collaboration framework and apply appropriate data science methodology with small teams based or agile teams in complex projects in a short period of time. Furthermore, companies have to rely on solid data science methodologies approaches to succeed and achieve the desire goal. There are few methodologies approaches which can be used in data science to coordinate different projects while they are being running by the IT teams. These are the following approaches:\n",
    "\n",
    "Ad Hoc Processes:  \n",
    "\n",
    "Ad Hoc Processes involve a series of specific implementation which cannot be predefined and sometimes runs one time only when is required. In this process, members must be able to decide what to do  and when to do it. This approach might work well for a small team with simple projects involved. These are the characteristics of Ad Hoc processes:\n",
    "\n",
    "•\tAd hoc usually have a sense of urgency and unrealistic timeframe for completion,\n",
    "•\tPressure is a part of ad hoc processes because tend to skip usual processes protocols,\n",
    "•\t Team members tend to bypass normal controls in ad hoc processes without doing properly due diligence and as a result, they can lose important information during the processes.\n",
    "\n",
    "•\tA single team is more common for this type of process, instead of cross-functional team.\n",
    "•\tThis type of approach usually is time-limited, as it is perceived as something quick and the team can be fit in easily.  \n",
    "\n",
    "The Case Study Approach:\n",
    "\n",
    "In contrasting to Ad Hoc Processes, the case study approach can also be applied as a framework methodology. A case study approach usually involves qualitative and quantitative methodologies, and it is good for describing, comparing, evaluating and understanding different aspect of a problem. This approach consists of full set of procedures during its processing, which includes few steps, such as: \n",
    "\n",
    "Step 1: Defining a case study:\n",
    " Consists generally of organisation or behavioural event, and it serves as the main unit of analysis. It does provide a new or unexpected insights in to the subject.\n",
    " \n",
    "Step 2: Designing a case study: \n",
    "In the second step, it is important to plan and design how the case study is going to be in place and to make sure that all collected data is relevant. A case study usually consists of a single, multiple experiments or multiple context research. By having multiple experiments and multiple contexts, the results will be stronger and it is required to have a group of different sets of data in order to achieve a final result. On the other hand, a single experiment and a single context might be a solution in some cases, which does not require a lot of work involved.\n",
    "\n",
    "Step 3: Deciding which type of methodology:\n",
    "Once determined what type of methodology will be used (ex. qualitative or quantitative research),  then the team must consider what type of case study will be conducted. Determining a specific type of case study design will be assisted by the overall study purpose.\n",
    "\n",
    "The KDD Process\n",
    "\n",
    "Another methodology approach that can be applied to business data analysis projects is the Knowledge Discovery in Database (KKD). This is the process of extracting important information from one or multiple data sources. It is used in the preparation and selection of data cleaning, which involves distinct phases for the discovery of interesting patterns during the process. Steps involved in the entire KDD process are as follows:\n",
    "\n",
    "1.\tSelection: \n",
    "Identify the goal of the KDD process from the business’s perspective. Determining the specific target data and variables in advance is important during the process.\n",
    "\n",
    "2.\tPre-processing:\n",
    "Cleanse and process data (ex. handling missing values and making any alteration throughout the data ) as per the requirement.\n",
    "\n",
    "3.\tTransformation:\n",
    "Removing unwanted variables and transforming the data into the desired format(ex. changing a categorical variable into a numerical format).\n",
    "\n",
    "4.\tChoose data mining:\n",
    "This process involves deciding which models and parameters might be appropriate for the overall goal, for example, using graphs charts to visualise trends in the dataset. It is important to make sure that the algorithms provided will be able to discovery hidden patterns during the process.\n",
    "\n",
    "5.\tInterpret or evaluation:\n",
    "At this phase, once the data has been cleaned, converted into appropriate format, it is essential to document it and evaluate the results found based on relevant attributes, and through visualisation format which can assist to make a better decision.\n"
   ]
  },
  {
   "cell_type": "markdown",
   "id": "8b3604d8",
   "metadata": {},
   "source": [
    "## "
   ]
  },
  {
   "cell_type": "markdown",
   "id": "e79eb7e5",
   "metadata": {},
   "source": [
    "## (b) Give examples where each approach can be used."
   ]
  },
  {
   "cell_type": "markdown",
   "id": "42615493",
   "metadata": {},
   "source": [
    "There are many successful examples where Ad Hoc Process, The Case Study approach and The SKK Process have been put in place and organisations where able to make decisions based on the data gathered from researches projects . \n",
    "These are the following examples for each methodology:\n",
    "\n",
    "Ad Hoc Process examples:\n",
    "\n",
    "Ad Hoc Process can be employed in healthcare sector(ex. to generate a quick report only once regarding blood test or how many people were admitted to ER on specific day. Governmental sectors can also benefit from ad hoc process to make critical decisions that ultimately affect a lot of people.\n",
    "\n",
    "The Case Study Approach examples:\n",
    "\n",
    "The case study approach can also be applied in many sectors and different scenarios - for example, investigating the difference in recruitment rates of minority ethnic people in USA, primary care organisations, education and investigating a specific case that has affected an individual or group of people.\n",
    "\n",
    "The Knowlodge Discovery in Databases (SKK) Process:\n",
    "\n",
    "The application Knowledge Discovery in Databases (SKK) can also be applied in a variety of business’s projects and it can be an useful methodology in term of assists business to identify and predict consume trends. Furthermore, it is mainly carried in projects related to financial services, electricity providers including, marketing and sales.\n",
    "\n",
    "\n"
   ]
  },
  {
   "cell_type": "markdown",
   "id": "9c16514f",
   "metadata": {},
   "source": [
    "## "
   ]
  },
  {
   "cell_type": "markdown",
   "id": "3beb775b",
   "metadata": {},
   "source": [
    "## References: "
   ]
  },
  {
   "cell_type": "markdown",
   "id": "329b8f04",
   "metadata": {},
   "source": [
    "Bizagi (2022) ‘Understanding Ad Hoc Process’. Available at: https://help.bizagi.com/bpm-suite/en/11.1/index.htm?understanding_ad_hoc_processes.htm\n",
    "\n",
    "Jack, S.M. and Baxter , P.E. (2010) (PDF) qualitative case study methodology: Study Design and Implementation for Novice Researchers, ResearchGate. Available at: https://www.researchgate.net/publication/228621600_Qualitative_Case_Study_Methodology_Study_Design_and_Implementation_for_Novice_Researchers (Accessed: November 28, 2022).\n",
    "\n",
    "Krcmar, H. (2010) Knowledge discovery in databases on the example of engineering change ..., ResearchGate. Available at: https://www.researchgate.net/profile/Helmut Krcmar/publication/221338369_Knowledge_Discovery_in_Databases_on_the_Example_of_Engineering_Change_Management/links/56aa20bb08aeaeb4cefae7d5/Knowledge-Discovery-in-Databases-on-the-Example-of-Engineering-Change-Management.pdf (Accessed: November 28, 2022).\n",
    "\n",
    "Marks, L. (2022) How to deal with ad hoc projects: 5 actionable steps, Runn. Runn. Available at: https://www.runn.io/blog/ad-hoc-projects (Accessed: November 28, 2022).\n",
    "\n",
    "McCombes, S. (2019) What is a case study? : Definition, Examples & Methods, Scribbr. Available at: https://www.scribbr.com/methodology/case-study/ (Accessed: November 28, 2022).\n",
    "\n",
    "Technopedia (2017) What is knowledge discovery in databases (KDD)? - Techopedia.com. Available at: https://www.techopedia.com/definition/25827/knowledge-discovery-in-databases-kdd (Accessed: November 28, 2022). \n"
   ]
  }
 ],
 "metadata": {
  "kernelspec": {
   "display_name": "Python 3 (ipykernel)",
   "language": "python",
   "name": "python3"
  },
  "language_info": {
   "codemirror_mode": {
    "name": "ipython",
    "version": 3
   },
   "file_extension": ".py",
   "mimetype": "text/x-python",
   "name": "python",
   "nbconvert_exporter": "python",
   "pygments_lexer": "ipython3",
   "version": "3.9.12"
  }
 },
 "nbformat": 4,
 "nbformat_minor": 5
}
