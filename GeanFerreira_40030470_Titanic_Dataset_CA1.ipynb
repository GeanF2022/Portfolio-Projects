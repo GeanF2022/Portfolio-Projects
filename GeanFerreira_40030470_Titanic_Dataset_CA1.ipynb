{
 "cells": [
  {
   "cell_type": "markdown",
   "id": "da763df2",
   "metadata": {},
   "source": [
    "# QUESTION 5"
   ]
  },
  {
   "cell_type": "markdown",
   "id": "184c1e5f",
   "metadata": {},
   "source": [
    "## "
   ]
  },
  {
   "cell_type": "markdown",
   "id": "04774f45",
   "metadata": {},
   "source": [
    "## Install the required packages"
   ]
  },
  {
   "cell_type": "code",
   "execution_count": 1,
   "id": "718b801e",
   "metadata": {},
   "outputs": [],
   "source": [
    "import pandas as pd\n",
    "from statistics import mean\n",
    "import scipy.stats as stats\n",
    "import numpy as np\n",
    "import scipy\n",
    "import seaborn as sns\n",
    "from random import sample\n",
    "from scipy.stats import f_oneway\n",
    "import warnings\n",
    "warnings.filterwarnings(\"ignore\")\n",
    "import pingouin as pg\n",
    "from scipy.stats import mannwhitneyu"
   ]
  },
  {
   "cell_type": "markdown",
   "id": "a3a30836",
   "metadata": {},
   "source": [
    "## "
   ]
  },
  {
   "cell_type": "markdown",
   "id": "f0156e8a",
   "metadata": {},
   "source": [
    "## Loading the dataset"
   ]
  },
  {
   "cell_type": "code",
   "execution_count": 2,
   "id": "8600bc2d",
   "metadata": {},
   "outputs": [],
   "source": [
    "df = pd.read_csv(\"titanic_dataset.csv\")"
   ]
  },
  {
   "cell_type": "code",
   "execution_count": 3,
   "id": "3d876d61",
   "metadata": {},
   "outputs": [
    {
     "data": {
      "text/html": [
       "<div>\n",
       "<style scoped>\n",
       "    .dataframe tbody tr th:only-of-type {\n",
       "        vertical-align: middle;\n",
       "    }\n",
       "\n",
       "    .dataframe tbody tr th {\n",
       "        vertical-align: top;\n",
       "    }\n",
       "\n",
       "    .dataframe thead th {\n",
       "        text-align: right;\n",
       "    }\n",
       "</style>\n",
       "<table border=\"1\" class=\"dataframe\">\n",
       "  <thead>\n",
       "    <tr style=\"text-align: right;\">\n",
       "      <th></th>\n",
       "      <th>PassengerId</th>\n",
       "      <th>Survived</th>\n",
       "      <th>Pclass</th>\n",
       "      <th>Name</th>\n",
       "      <th>Sex</th>\n",
       "      <th>Age</th>\n",
       "      <th>SibSp</th>\n",
       "      <th>Parch</th>\n",
       "      <th>Ticket</th>\n",
       "      <th>Fare</th>\n",
       "      <th>Cabin</th>\n",
       "      <th>Embarked</th>\n",
       "    </tr>\n",
       "  </thead>\n",
       "  <tbody>\n",
       "    <tr>\n",
       "      <th>0</th>\n",
       "      <td>1</td>\n",
       "      <td>0</td>\n",
       "      <td>3</td>\n",
       "      <td>Braund, Mr. Owen Harris</td>\n",
       "      <td>male</td>\n",
       "      <td>22.0</td>\n",
       "      <td>1</td>\n",
       "      <td>0</td>\n",
       "      <td>A/5 21171</td>\n",
       "      <td>7.2500</td>\n",
       "      <td>NaN</td>\n",
       "      <td>S</td>\n",
       "    </tr>\n",
       "    <tr>\n",
       "      <th>1</th>\n",
       "      <td>2</td>\n",
       "      <td>1</td>\n",
       "      <td>1</td>\n",
       "      <td>Cumings, Mrs. John Bradley (Florence Briggs Th...</td>\n",
       "      <td>female</td>\n",
       "      <td>38.0</td>\n",
       "      <td>1</td>\n",
       "      <td>0</td>\n",
       "      <td>PC 17599</td>\n",
       "      <td>71.2833</td>\n",
       "      <td>C85</td>\n",
       "      <td>C</td>\n",
       "    </tr>\n",
       "    <tr>\n",
       "      <th>2</th>\n",
       "      <td>3</td>\n",
       "      <td>1</td>\n",
       "      <td>3</td>\n",
       "      <td>Heikkinen, Miss. Laina</td>\n",
       "      <td>female</td>\n",
       "      <td>26.0</td>\n",
       "      <td>0</td>\n",
       "      <td>0</td>\n",
       "      <td>STON/O2. 3101282</td>\n",
       "      <td>7.9250</td>\n",
       "      <td>NaN</td>\n",
       "      <td>S</td>\n",
       "    </tr>\n",
       "    <tr>\n",
       "      <th>3</th>\n",
       "      <td>4</td>\n",
       "      <td>1</td>\n",
       "      <td>1</td>\n",
       "      <td>Futrelle, Mrs. Jacques Heath (Lily May Peel)</td>\n",
       "      <td>female</td>\n",
       "      <td>35.0</td>\n",
       "      <td>1</td>\n",
       "      <td>0</td>\n",
       "      <td>113803</td>\n",
       "      <td>53.1000</td>\n",
       "      <td>C123</td>\n",
       "      <td>S</td>\n",
       "    </tr>\n",
       "    <tr>\n",
       "      <th>4</th>\n",
       "      <td>5</td>\n",
       "      <td>0</td>\n",
       "      <td>3</td>\n",
       "      <td>Allen, Mr. William Henry</td>\n",
       "      <td>male</td>\n",
       "      <td>35.0</td>\n",
       "      <td>0</td>\n",
       "      <td>0</td>\n",
       "      <td>373450</td>\n",
       "      <td>8.0500</td>\n",
       "      <td>NaN</td>\n",
       "      <td>S</td>\n",
       "    </tr>\n",
       "    <tr>\n",
       "      <th>...</th>\n",
       "      <td>...</td>\n",
       "      <td>...</td>\n",
       "      <td>...</td>\n",
       "      <td>...</td>\n",
       "      <td>...</td>\n",
       "      <td>...</td>\n",
       "      <td>...</td>\n",
       "      <td>...</td>\n",
       "      <td>...</td>\n",
       "      <td>...</td>\n",
       "      <td>...</td>\n",
       "      <td>...</td>\n",
       "    </tr>\n",
       "    <tr>\n",
       "      <th>886</th>\n",
       "      <td>887</td>\n",
       "      <td>0</td>\n",
       "      <td>2</td>\n",
       "      <td>Montvila, Rev. Juozas</td>\n",
       "      <td>male</td>\n",
       "      <td>27.0</td>\n",
       "      <td>0</td>\n",
       "      <td>0</td>\n",
       "      <td>211536</td>\n",
       "      <td>13.0000</td>\n",
       "      <td>NaN</td>\n",
       "      <td>S</td>\n",
       "    </tr>\n",
       "    <tr>\n",
       "      <th>887</th>\n",
       "      <td>888</td>\n",
       "      <td>1</td>\n",
       "      <td>1</td>\n",
       "      <td>Graham, Miss. Margaret Edith</td>\n",
       "      <td>female</td>\n",
       "      <td>19.0</td>\n",
       "      <td>0</td>\n",
       "      <td>0</td>\n",
       "      <td>112053</td>\n",
       "      <td>30.0000</td>\n",
       "      <td>B42</td>\n",
       "      <td>S</td>\n",
       "    </tr>\n",
       "    <tr>\n",
       "      <th>888</th>\n",
       "      <td>889</td>\n",
       "      <td>0</td>\n",
       "      <td>3</td>\n",
       "      <td>Johnston, Miss. Catherine Helen \"Carrie\"</td>\n",
       "      <td>female</td>\n",
       "      <td>NaN</td>\n",
       "      <td>1</td>\n",
       "      <td>2</td>\n",
       "      <td>W./C. 6607</td>\n",
       "      <td>23.4500</td>\n",
       "      <td>NaN</td>\n",
       "      <td>S</td>\n",
       "    </tr>\n",
       "    <tr>\n",
       "      <th>889</th>\n",
       "      <td>890</td>\n",
       "      <td>1</td>\n",
       "      <td>1</td>\n",
       "      <td>Behr, Mr. Karl Howell</td>\n",
       "      <td>male</td>\n",
       "      <td>26.0</td>\n",
       "      <td>0</td>\n",
       "      <td>0</td>\n",
       "      <td>111369</td>\n",
       "      <td>30.0000</td>\n",
       "      <td>C148</td>\n",
       "      <td>C</td>\n",
       "    </tr>\n",
       "    <tr>\n",
       "      <th>890</th>\n",
       "      <td>891</td>\n",
       "      <td>0</td>\n",
       "      <td>3</td>\n",
       "      <td>Dooley, Mr. Patrick</td>\n",
       "      <td>male</td>\n",
       "      <td>32.0</td>\n",
       "      <td>0</td>\n",
       "      <td>0</td>\n",
       "      <td>370376</td>\n",
       "      <td>7.7500</td>\n",
       "      <td>NaN</td>\n",
       "      <td>Q</td>\n",
       "    </tr>\n",
       "  </tbody>\n",
       "</table>\n",
       "<p>891 rows × 12 columns</p>\n",
       "</div>"
      ],
      "text/plain": [
       "     PassengerId  Survived  Pclass  \\\n",
       "0              1         0       3   \n",
       "1              2         1       1   \n",
       "2              3         1       3   \n",
       "3              4         1       1   \n",
       "4              5         0       3   \n",
       "..           ...       ...     ...   \n",
       "886          887         0       2   \n",
       "887          888         1       1   \n",
       "888          889         0       3   \n",
       "889          890         1       1   \n",
       "890          891         0       3   \n",
       "\n",
       "                                                  Name     Sex   Age  SibSp  \\\n",
       "0                              Braund, Mr. Owen Harris    male  22.0      1   \n",
       "1    Cumings, Mrs. John Bradley (Florence Briggs Th...  female  38.0      1   \n",
       "2                               Heikkinen, Miss. Laina  female  26.0      0   \n",
       "3         Futrelle, Mrs. Jacques Heath (Lily May Peel)  female  35.0      1   \n",
       "4                             Allen, Mr. William Henry    male  35.0      0   \n",
       "..                                                 ...     ...   ...    ...   \n",
       "886                              Montvila, Rev. Juozas    male  27.0      0   \n",
       "887                       Graham, Miss. Margaret Edith  female  19.0      0   \n",
       "888           Johnston, Miss. Catherine Helen \"Carrie\"  female   NaN      1   \n",
       "889                              Behr, Mr. Karl Howell    male  26.0      0   \n",
       "890                                Dooley, Mr. Patrick    male  32.0      0   \n",
       "\n",
       "     Parch            Ticket     Fare Cabin Embarked  \n",
       "0        0         A/5 21171   7.2500   NaN        S  \n",
       "1        0          PC 17599  71.2833   C85        C  \n",
       "2        0  STON/O2. 3101282   7.9250   NaN        S  \n",
       "3        0            113803  53.1000  C123        S  \n",
       "4        0            373450   8.0500   NaN        S  \n",
       "..     ...               ...      ...   ...      ...  \n",
       "886      0            211536  13.0000   NaN        S  \n",
       "887      0            112053  30.0000   B42        S  \n",
       "888      2        W./C. 6607  23.4500   NaN        S  \n",
       "889      0            111369  30.0000  C148        C  \n",
       "890      0            370376   7.7500   NaN        Q  \n",
       "\n",
       "[891 rows x 12 columns]"
      ]
     },
     "execution_count": 3,
     "metadata": {},
     "output_type": "execute_result"
    }
   ],
   "source": [
    "df"
   ]
  },
  {
   "cell_type": "code",
   "execution_count": 4,
   "id": "36222d4e",
   "metadata": {},
   "outputs": [
    {
     "data": {
      "text/plain": [
       "(891, 12)"
      ]
     },
     "execution_count": 4,
     "metadata": {},
     "output_type": "execute_result"
    }
   ],
   "source": [
    "df.shape"
   ]
  },
  {
   "cell_type": "code",
   "execution_count": 5,
   "id": "0283f5f2",
   "metadata": {},
   "outputs": [
    {
     "data": {
      "text/plain": [
       "PassengerId    False\n",
       "Survived       False\n",
       "Pclass         False\n",
       "Name           False\n",
       "Sex            False\n",
       "Age             True\n",
       "SibSp          False\n",
       "Parch          False\n",
       "Ticket         False\n",
       "Fare           False\n",
       "Cabin           True\n",
       "Embarked        True\n",
       "dtype: bool"
      ]
     },
     "execution_count": 5,
     "metadata": {},
     "output_type": "execute_result"
    }
   ],
   "source": [
    "df.isnull().any()"
   ]
  },
  {
   "cell_type": "code",
   "execution_count": 6,
   "id": "f8398530",
   "metadata": {},
   "outputs": [
    {
     "name": "stdout",
     "output_type": "stream",
     "text": [
      "<class 'pandas.core.frame.DataFrame'>\n",
      "RangeIndex: 891 entries, 0 to 890\n",
      "Data columns (total 12 columns):\n",
      " #   Column       Non-Null Count  Dtype  \n",
      "---  ------       --------------  -----  \n",
      " 0   PassengerId  891 non-null    int64  \n",
      " 1   Survived     891 non-null    int64  \n",
      " 2   Pclass       891 non-null    int64  \n",
      " 3   Name         891 non-null    object \n",
      " 4   Sex          891 non-null    object \n",
      " 5   Age          714 non-null    float64\n",
      " 6   SibSp        891 non-null    int64  \n",
      " 7   Parch        891 non-null    int64  \n",
      " 8   Ticket       891 non-null    object \n",
      " 9   Fare         891 non-null    float64\n",
      " 10  Cabin        204 non-null    object \n",
      " 11  Embarked     889 non-null    object \n",
      "dtypes: float64(2), int64(5), object(5)\n",
      "memory usage: 83.7+ KB\n"
     ]
    }
   ],
   "source": [
    "df.info()"
   ]
  },
  {
   "cell_type": "markdown",
   "id": "1069fdff",
   "metadata": {},
   "source": [
    "## "
   ]
  },
  {
   "cell_type": "markdown",
   "id": "b39e1d77",
   "metadata": {},
   "source": [
    "## A. Apply hypothesis test for mean on any column of the dataset to check null hypothesis is accepted or not"
   ]
  },
  {
   "cell_type": "code",
   "execution_count": 7,
   "id": "9d1706c0",
   "metadata": {},
   "outputs": [
    {
     "name": "stdout",
     "output_type": "stream",
     "text": [
      "32.204207968574636\n"
     ]
    }
   ],
   "source": [
    "fare_mean = mean(df['Fare'])\n",
    "print(fare_mean)"
   ]
  },
  {
   "cell_type": "markdown",
   "id": "c25cf6b2",
   "metadata": {},
   "source": [
    "The mean average of Fare is 32"
   ]
  },
  {
   "cell_type": "code",
   "execution_count": 8,
   "id": "09a3f6c6",
   "metadata": {},
   "outputs": [
    {
     "data": {
      "text/plain": [
       "Ttest_1sampResult(statistic=0.12266271558913089, pvalue=0.9024018818220448)"
      ]
     },
     "execution_count": 8,
     "metadata": {},
     "output_type": "execute_result"
    }
   ],
   "source": [
    "#performing one sample t-test\n",
    "stats.ttest_1samp(a=df['Fare'], popmean=32)"
   ]
  },
  {
   "cell_type": "markdown",
   "id": "3aa00c49",
   "metadata": {},
   "source": [
    "A we can see from the result above, we cannot reject the test's null hypothesis because the p-value is (0.9024), which is higher than alpha (0.05)"
   ]
  },
  {
   "cell_type": "markdown",
   "id": "2f540afc",
   "metadata": {},
   "source": [
    "## "
   ]
  },
  {
   "cell_type": "markdown",
   "id": "dd064393",
   "metadata": {},
   "source": [
    "## Apply the hypothesis test for variance to check if two samples of data from the 'Fare' column have equal variance"
   ]
  },
  {
   "cell_type": "code",
   "execution_count": 9,
   "id": "31503879",
   "metadata": {},
   "outputs": [],
   "source": [
    "x = df['Fare'].sample(150).to_numpy()\n",
    "y = df['Fare'].sample(200).to_numpy()"
   ]
  },
  {
   "cell_type": "code",
   "execution_count": 10,
   "id": "3dd92cea",
   "metadata": {},
   "outputs": [],
   "source": [
    "#calculate the F-test statistic \n",
    "\n",
    "f_test = np.var(x, ddof=1)/np.var(y, ddof=890)"
   ]
  },
  {
   "cell_type": "code",
   "execution_count": 11,
   "id": "1c10f79c",
   "metadata": {},
   "outputs": [],
   "source": [
    "#define the degrees of freedom numerator \n",
    "dfn = 1\n",
    "\n",
    "#define the degrees of freedom denominator \n",
    "dfd = 890 "
   ]
  },
  {
   "cell_type": "code",
   "execution_count": 12,
   "id": "ba84e36b",
   "metadata": {},
   "outputs": [
    {
     "name": "stdout",
     "output_type": "stream",
     "text": [
      "0.0 1.0\n"
     ]
    }
   ],
   "source": [
    "#find the p-value of the F-test statistic \n",
    "p_value = 1-scipy.stats.f.cdf(f_test, dfn, dfd)\n",
    "\n",
    "print(f_test, p_value)"
   ]
  },
  {
   "cell_type": "markdown",
   "id": "8969aeec",
   "metadata": {},
   "source": [
    "## "
   ]
  },
  {
   "cell_type": "markdown",
   "id": "4f839b3b",
   "metadata": {},
   "source": [
    "## B. Apply one-way and two-way ANOVA on any columns of the DatFrame to check whether the null hypothesis is accepted or not."
   ]
  },
  {
   "cell_type": "markdown",
   "id": "0e724883",
   "metadata": {},
   "source": [
    "### One-way ANOVA Null Hypothesis"
   ]
  },
  {
   "cell_type": "code",
   "execution_count": 21,
   "id": "aed29058",
   "metadata": {},
   "outputs": [],
   "source": [
    "fare_sample1 = df['Fare'].sample(40)\n",
    "fare_sample2 = df['Fare'].sample(40)\n",
    "fare_sample3 = df['Fare'].sample(40)\n",
    "\n"
   ]
  },
  {
   "cell_type": "code",
   "execution_count": 22,
   "id": "96563c0f",
   "metadata": {},
   "outputs": [
    {
     "data": {
      "text/plain": [
       "F_onewayResult(statistic=1.8563565621652722, pvalue=0.16081322369006637)"
      ]
     },
     "execution_count": 22,
     "metadata": {},
     "output_type": "execute_result"
    }
   ],
   "source": [
    "f_oneway(fare_sample1, fare_sample2, fare_sample3)"
   ]
  },
  {
   "cell_type": "markdown",
   "id": "9ebad095",
   "metadata": {},
   "source": [
    "## "
   ]
  },
  {
   "cell_type": "markdown",
   "id": "499df46e",
   "metadata": {},
   "source": [
    "## Two-way ANOVA Null Hypothesis"
   ]
  },
  {
   "cell_type": "markdown",
   "id": "83aa5738",
   "metadata": {},
   "source": [
    "#### Example 1"
   ]
  },
  {
   "cell_type": "code",
   "execution_count": 17,
   "id": "2de0d8b9",
   "metadata": {},
   "outputs": [],
   "source": [
    "sample_two_anova = df.loc[:,[\"Survived\", \"Pclass\", \"Embarked\"]]\n",
    "sample_two_anova = sample_two_anova.sample(150)\n"
   ]
  },
  {
   "cell_type": "code",
   "execution_count": 18,
   "id": "3d3700fd",
   "metadata": {},
   "outputs": [
    {
     "data": {
      "text/html": [
       "<div>\n",
       "<style scoped>\n",
       "    .dataframe tbody tr th:only-of-type {\n",
       "        vertical-align: middle;\n",
       "    }\n",
       "\n",
       "    .dataframe tbody tr th {\n",
       "        vertical-align: top;\n",
       "    }\n",
       "\n",
       "    .dataframe thead th {\n",
       "        text-align: right;\n",
       "    }\n",
       "</style>\n",
       "<table border=\"1\" class=\"dataframe\">\n",
       "  <thead>\n",
       "    <tr style=\"text-align: right;\">\n",
       "      <th></th>\n",
       "      <th>Source</th>\n",
       "      <th>SS</th>\n",
       "      <th>DF</th>\n",
       "      <th>MS</th>\n",
       "      <th>F</th>\n",
       "      <th>p-unc</th>\n",
       "      <th>np2</th>\n",
       "    </tr>\n",
       "  </thead>\n",
       "  <tbody>\n",
       "    <tr>\n",
       "      <th>0</th>\n",
       "      <td>Pclass</td>\n",
       "      <td>3.228579</td>\n",
       "      <td>2.0</td>\n",
       "      <td>1.614289</td>\n",
       "      <td>8.811046</td>\n",
       "      <td>0.000248</td>\n",
       "      <td>0.111095</td>\n",
       "    </tr>\n",
       "    <tr>\n",
       "      <th>1</th>\n",
       "      <td>Embarked</td>\n",
       "      <td>3.775068</td>\n",
       "      <td>2.0</td>\n",
       "      <td>1.887534</td>\n",
       "      <td>10.302458</td>\n",
       "      <td>0.000067</td>\n",
       "      <td>0.127502</td>\n",
       "    </tr>\n",
       "    <tr>\n",
       "      <th>2</th>\n",
       "      <td>Pclass * Embarked</td>\n",
       "      <td>1.311170</td>\n",
       "      <td>4.0</td>\n",
       "      <td>0.327792</td>\n",
       "      <td>1.789143</td>\n",
       "      <td>0.134311</td>\n",
       "      <td>0.048304</td>\n",
       "    </tr>\n",
       "    <tr>\n",
       "      <th>3</th>\n",
       "      <td>Residual</td>\n",
       "      <td>25.832893</td>\n",
       "      <td>141.0</td>\n",
       "      <td>0.183212</td>\n",
       "      <td>NaN</td>\n",
       "      <td>NaN</td>\n",
       "      <td>NaN</td>\n",
       "    </tr>\n",
       "  </tbody>\n",
       "</table>\n",
       "</div>"
      ],
      "text/plain": [
       "              Source         SS     DF        MS          F     p-unc  \\\n",
       "0             Pclass   3.228579    2.0  1.614289   8.811046  0.000248   \n",
       "1           Embarked   3.775068    2.0  1.887534  10.302458  0.000067   \n",
       "2  Pclass * Embarked   1.311170    4.0  0.327792   1.789143  0.134311   \n",
       "3           Residual  25.832893  141.0  0.183212        NaN       NaN   \n",
       "\n",
       "        np2  \n",
       "0  0.111095  \n",
       "1  0.127502  \n",
       "2  0.048304  \n",
       "3       NaN  "
      ]
     },
     "execution_count": 18,
     "metadata": {},
     "output_type": "execute_result"
    }
   ],
   "source": [
    "test_aov = pg.anova(sample_two_anova, dv=\"Survived\", between=[\"Pclass\", \"Embarked\"], detailed=True)\n",
    "test_aov"
   ]
  },
  {
   "cell_type": "code",
   "execution_count": 19,
   "id": "6e53171a",
   "metadata": {},
   "outputs": [
    {
     "data": {
      "text/plain": [
       "3.8519283899238723"
      ]
     },
     "execution_count": 19,
     "metadata": {},
     "output_type": "execute_result"
    }
   ],
   "source": [
    "#check the critical F-value to decide whether the null hypothesis is accepted or not.\n",
    "scipy.stats.f.ppf(q=1-0.05, dfn=1, dfd=890)"
   ]
  },
  {
   "cell_type": "markdown",
   "id": "92eb58a8",
   "metadata": {},
   "source": [
    "## "
   ]
  },
  {
   "cell_type": "markdown",
   "id": "34bd3e99",
   "metadata": {},
   "source": [
    "#### Example 2"
   ]
  },
  {
   "cell_type": "code",
   "execution_count": 118,
   "id": "68a7543d",
   "metadata": {},
   "outputs": [],
   "source": [
    "sample_two_anova2 = df.loc[:,[\"Fare\", \"Age\", \"Embarked\"]]\n",
    "sample_two_anova2 = sample_two_anova2.sample(15)\n"
   ]
  },
  {
   "cell_type": "code",
   "execution_count": 119,
   "id": "6393c5a2",
   "metadata": {},
   "outputs": [
    {
     "data": {
      "text/html": [
       "<div>\n",
       "<style scoped>\n",
       "    .dataframe tbody tr th:only-of-type {\n",
       "        vertical-align: middle;\n",
       "    }\n",
       "\n",
       "    .dataframe tbody tr th {\n",
       "        vertical-align: top;\n",
       "    }\n",
       "\n",
       "    .dataframe thead th {\n",
       "        text-align: right;\n",
       "    }\n",
       "</style>\n",
       "<table border=\"1\" class=\"dataframe\">\n",
       "  <thead>\n",
       "    <tr style=\"text-align: right;\">\n",
       "      <th></th>\n",
       "      <th>Source</th>\n",
       "      <th>SS</th>\n",
       "      <th>DF</th>\n",
       "      <th>MS</th>\n",
       "      <th>F</th>\n",
       "      <th>p-unc</th>\n",
       "      <th>np2</th>\n",
       "    </tr>\n",
       "  </thead>\n",
       "  <tbody>\n",
       "    <tr>\n",
       "      <th>0</th>\n",
       "      <td>Age</td>\n",
       "      <td>3346.910962</td>\n",
       "      <td>8.0</td>\n",
       "      <td>418.363870</td>\n",
       "      <td>4.951052</td>\n",
       "      <td>0.334944</td>\n",
       "      <td>0.975375</td>\n",
       "    </tr>\n",
       "    <tr>\n",
       "      <th>1</th>\n",
       "      <td>Embarked</td>\n",
       "      <td>3346.823268</td>\n",
       "      <td>1.0</td>\n",
       "      <td>3346.823268</td>\n",
       "      <td>39.607376</td>\n",
       "      <td>0.100317</td>\n",
       "      <td>0.975374</td>\n",
       "    </tr>\n",
       "    <tr>\n",
       "      <th>2</th>\n",
       "      <td>Age * Embarked</td>\n",
       "      <td>2104.534040</td>\n",
       "      <td>8.0</td>\n",
       "      <td>263.066755</td>\n",
       "      <td>3.113216</td>\n",
       "      <td>0.413574</td>\n",
       "      <td>0.961398</td>\n",
       "    </tr>\n",
       "    <tr>\n",
       "      <th>3</th>\n",
       "      <td>Residual</td>\n",
       "      <td>84.500000</td>\n",
       "      <td>1.0</td>\n",
       "      <td>84.500000</td>\n",
       "      <td>NaN</td>\n",
       "      <td>NaN</td>\n",
       "      <td>NaN</td>\n",
       "    </tr>\n",
       "  </tbody>\n",
       "</table>\n",
       "</div>"
      ],
      "text/plain": [
       "           Source           SS   DF           MS          F     p-unc  \\\n",
       "0             Age  3346.910962  8.0   418.363870   4.951052  0.334944   \n",
       "1        Embarked  3346.823268  1.0  3346.823268  39.607376  0.100317   \n",
       "2  Age * Embarked  2104.534040  8.0   263.066755   3.113216  0.413574   \n",
       "3        Residual    84.500000  1.0    84.500000        NaN       NaN   \n",
       "\n",
       "        np2  \n",
       "0  0.975375  \n",
       "1  0.975374  \n",
       "2  0.961398  \n",
       "3       NaN  "
      ]
     },
     "execution_count": 119,
     "metadata": {},
     "output_type": "execute_result"
    }
   ],
   "source": [
    "test_aov2 = pg.anova(sample_two_anova2, dv=\"Fare\", between=[\"Age\", \"Embarked\"], detailed=True)\n",
    "test_aov2"
   ]
  },
  {
   "cell_type": "code",
   "execution_count": 120,
   "id": "d3429184",
   "metadata": {},
   "outputs": [
    {
     "data": {
      "text/plain": [
       "1.1710681887942844"
      ]
     },
     "execution_count": 120,
     "metadata": {},
     "output_type": "execute_result"
    }
   ],
   "source": [
    "#check the critical F-value to decide whether the null hypothesis is accepted or not.\n",
    "scipy.stats.f.ppf(q=1-0.05, dfn=495, dfd=395)"
   ]
  },
  {
   "cell_type": "markdown",
   "id": "cbaf0066",
   "metadata": {},
   "source": [
    "## "
   ]
  },
  {
   "cell_type": "markdown",
   "id": "3733a8c6",
   "metadata": {},
   "source": [
    "## "
   ]
  },
  {
   "cell_type": "markdown",
   "id": "1d8812bc",
   "metadata": {},
   "source": [
    "## C. Make a critical analysis and present a report on how and why the null and alternative hypotheses are accepted or rejected based on the results obtained from the above two tasks (a and b)."
   ]
  },
  {
   "cell_type": "markdown",
   "id": "e39c90d0",
   "metadata": {},
   "source": [
    "### Hypothesis test for mean analysis"
   ]
  },
  {
   "cell_type": "markdown",
   "id": "f468ab7b",
   "metadata": {},
   "source": [
    "The one-sample test usually is used by stasticians to calculate the population's mean, which is equal to a given value. Also, the sample- test used to check if the null hypothesis is accepted or rejected based on the p-value's result.\n",
    "For example, in our analysis the mean average of Fare is 32 and the p-value is (0.9024), therefore, the test's null hypothesis cannot be rejected because the p-value is greater than alpha (0.05) and the deviation from it is not statically significant.\n",
    "\n"
   ]
  },
  {
   "cell_type": "markdown",
   "id": "9948f6a2",
   "metadata": {},
   "source": [
    "## "
   ]
  },
  {
   "cell_type": "markdown",
   "id": "333cda2e",
   "metadata": {},
   "source": [
    "### One-way ANOVA Null Hypothesis analysis"
   ]
  },
  {
   "cell_type": "markdown",
   "id": "606c0fbf",
   "metadata": {},
   "source": [
    "One-way ANOVA is another statistic calculation test that is used to verify whether there is any correlation between the mean values of more than one group.\n",
    "Let's say that in our analyses done above with the 3 samples regarding fare column, we can see that the results show us that the p-value is equal to (0.160) and while the F-statistic is equal to (1.856). Therefore, due to the p-value is greather than (0.05), we would accept the null hypothesis in this case.\n",
    "\n",
    "\n",
    "\n",
    "\n",
    "\n",
    "\n"
   ]
  },
  {
   "cell_type": "markdown",
   "id": "8658929a",
   "metadata": {},
   "source": [
    "## "
   ]
  },
  {
   "cell_type": "markdown",
   "id": "80ce6df8",
   "metadata": {},
   "source": [
    "### Two-way ANOVA Null Hypothesis analysis¶"
   ]
  },
  {
   "cell_type": "markdown",
   "id": "f4f98912",
   "metadata": {},
   "source": [
    "#### EXAMPLE 1"
   ]
  },
  {
   "cell_type": "markdown",
   "id": "39a6095e",
   "metadata": {},
   "source": [
    "In contrast to one-way ANOVA, the two-way ANOVA test is used to verify how to two factors affect a variable and if there are any relationship between the two factors and the response variable.\n",
    "Let's say that in the titanic's dataset, the two-way ANOVA calculations show us that the critical F-value generated is (3.85), and the two ANOVA statical F-value combining \"Pclass\" and \"Embarked\" from the stastical dataframe above is (1.78), which is less than the critical F-value. Therefore, the null hypothesis is rejected because there is not relationship between \"Pclass\" and \"Embarked\" to survived passengers.\n",
    "\n",
    "\n",
    "\n",
    "\n",
    "\n"
   ]
  },
  {
   "cell_type": "markdown",
   "id": "61dff46d",
   "metadata": {},
   "source": [
    "#### EXAMPLE 2"
   ]
  },
  {
   "cell_type": "markdown",
   "id": "781b84bb",
   "metadata": {},
   "source": [
    "In the second example, the F-value generated is (1.17), and the two ANOVA statical F-value combined with Age and Embarked is (3.11), which is greater than the critical F-value. Therefore, the null hypothesis will not be rejected because both variables have a strong relationship with the \"Fare\" variable. \n"
   ]
  }
 ],
 "metadata": {
  "kernelspec": {
   "display_name": "Python 3 (ipykernel)",
   "language": "python",
   "name": "python3"
  },
  "language_info": {
   "codemirror_mode": {
    "name": "ipython",
    "version": 3
   },
   "file_extension": ".py",
   "mimetype": "text/x-python",
   "name": "python",
   "nbconvert_exporter": "python",
   "pygments_lexer": "ipython3",
   "version": "3.9.12"
  }
 },
 "nbformat": 4,
 "nbformat_minor": 5
}
